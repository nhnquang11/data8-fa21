{
 "cells": [
  {
   "cell_type": "markdown",
   "metadata": {},
   "source": [
    "# Lecture 9: Functions #"
   ]
  },
  {
   "cell_type": "markdown",
   "metadata": {},
   "source": [
    "- Introduce functions\n",
    "- Apply functions to tables"
   ]
  },
  {
   "cell_type": "code",
   "execution_count": 1,
   "metadata": {},
   "outputs": [],
   "source": [
    "from datascience import *\n",
    "import numpy as np\n",
    "\n",
    "%matplotlib inline\n",
    "import matplotlib.pyplot as plots\n",
    "plots.style.use('fivethirtyeight')"
   ]
  },
  {
   "cell_type": "markdown",
   "metadata": {},
   "source": [
    "## Visualization Example: Welcome Survey ##"
   ]
  },
  {
   "cell_type": "code",
   "execution_count": 2,
   "metadata": {},
   "outputs": [
    {
     "data": {
      "text/html": [
       "<table border=\"1\" class=\"dataframe\">\n",
       "    <thead>\n",
       "        <tr>\n",
       "            <th>Year</th> <th>Extraversion</th> <th>Number of textees</th> <th>Hours of sleep</th> <th>Handedness</th> <th>First pant leg</th> <th>Sleep position</th>\n",
       "        </tr>\n",
       "    </thead>\n",
       "    <tbody>\n",
       "        <tr>\n",
       "            <td>Second</td> <td>8           </td> <td>5                </td> <td>6             </td> <td>Right-handed</td> <td>Right leg in first</td> <td>On your left side </td>\n",
       "        </tr>\n",
       "        <tr>\n",
       "            <td>Second</td> <td>7           </td> <td>8                </td> <td>7.5           </td> <td>Right-handed</td> <td>Right leg in first</td> <td>On your left side </td>\n",
       "        </tr>\n",
       "        <tr>\n",
       "            <td>Second</td> <td>6           </td> <td>7                </td> <td>7.5           </td> <td>Right-handed</td> <td>Left leg in first </td> <td>On your right side</td>\n",
       "        </tr>\n",
       "        <tr>\n",
       "            <td>Third </td> <td>2           </td> <td>1                </td> <td>8             </td> <td>Right-handed</td> <td>Right leg in first</td> <td>On your back      </td>\n",
       "        </tr>\n",
       "        <tr>\n",
       "            <td>Second</td> <td>4           </td> <td>3                </td> <td>8             </td> <td>Right-handed</td> <td>Left leg in first </td> <td>On your stomach   </td>\n",
       "        </tr>\n",
       "        <tr>\n",
       "            <td>First </td> <td>5           </td> <td>4                </td> <td>8             </td> <td>Right-handed</td> <td>Right leg in first</td> <td>On your left side </td>\n",
       "        </tr>\n",
       "        <tr>\n",
       "            <td>First </td> <td>6           </td> <td>3                </td> <td>7             </td> <td>Right-handed</td> <td>Left leg in first </td> <td>On your stomach   </td>\n",
       "        </tr>\n",
       "        <tr>\n",
       "            <td>First </td> <td>5           </td> <td>2                </td> <td>7             </td> <td>Right-handed</td> <td>Right leg in first</td> <td>On your back      </td>\n",
       "        </tr>\n",
       "        <tr>\n",
       "            <td>Second</td> <td>5           </td> <td>6                </td> <td>7             </td> <td>Right-handed</td> <td>Right leg in first</td> <td>On your back      </td>\n",
       "        </tr>\n",
       "        <tr>\n",
       "            <td>First </td> <td>4           </td> <td>12               </td> <td>8             </td> <td>Right-handed</td> <td>Left leg in first </td> <td>On your right side</td>\n",
       "        </tr>\n",
       "    </tbody>\n",
       "</table>\n",
       "<p>... (1320 rows omitted)</p>"
      ],
      "text/plain": [
       "Year   | Extraversion | Number of textees | Hours of sleep | Handedness   | First pant leg     | Sleep position\n",
       "Second | 8            | 5                 | 6              | Right-handed | Right leg in first | On your left side\n",
       "Second | 7            | 8                 | 7.5            | Right-handed | Right leg in first | On your left side\n",
       "Second | 6            | 7                 | 7.5            | Right-handed | Left leg in first  | On your right side\n",
       "Third  | 2            | 1                 | 8              | Right-handed | Right leg in first | On your back\n",
       "Second | 4            | 3                 | 8              | Right-handed | Left leg in first  | On your stomach\n",
       "First  | 5            | 4                 | 8              | Right-handed | Right leg in first | On your left side\n",
       "First  | 6            | 3                 | 7              | Right-handed | Left leg in first  | On your stomach\n",
       "First  | 5            | 2                 | 7              | Right-handed | Right leg in first | On your back\n",
       "Second | 5            | 6                 | 7              | Right-handed | Right leg in first | On your back\n",
       "First  | 4            | 12                | 8              | Right-handed | Left leg in first  | On your right side\n",
       "... (1320 rows omitted)"
      ]
     },
     "execution_count": 2,
     "metadata": {},
     "output_type": "execute_result"
    }
   ],
   "source": [
    "survey = Table.read_table('welcome_survey_fa21.csv')\n",
    "survey"
   ]
  },
  {
   "cell_type": "markdown",
   "metadata": {},
   "source": [
    "### Categorical Data: Bar Charts"
   ]
  },
  {
   "cell_type": "code",
   "execution_count": 3,
   "metadata": {},
   "outputs": [
    {
     "data": {
      "text/html": [
       "<table border=\"1\" class=\"dataframe\">\n",
       "    <thead>\n",
       "        <tr>\n",
       "            <th>Handedness</th> <th>count</th>\n",
       "        </tr>\n",
       "    </thead>\n",
       "    <tbody>\n",
       "        <tr>\n",
       "            <td>Ambidextrous                                                </td> <td>3    </td>\n",
       "        </tr>\n",
       "        <tr>\n",
       "            <td>Both                                                        </td> <td>3    </td>\n",
       "        </tr>\n",
       "        <tr>\n",
       "            <td>Both (Right more dominate)                                  </td> <td>1    </td>\n",
       "        </tr>\n",
       "        <tr>\n",
       "            <td>Both-handed (writing: right hand, everything else: left  ...</td> <td>1    </td>\n",
       "        </tr>\n",
       "        <tr>\n",
       "            <td>I use my feet to write. (right handed)                      </td> <td>1    </td>\n",
       "        </tr>\n",
       "        <tr>\n",
       "            <td>I write with my right hand, but I usually hold utensils  ...</td> <td>1    </td>\n",
       "        </tr>\n",
       "        <tr>\n",
       "            <td>Left-handed                                                 </td> <td>113  </td>\n",
       "        </tr>\n",
       "        <tr>\n",
       "            <td>Mostly right handed, except for certain activities. (I e ...</td> <td>1    </td>\n",
       "        </tr>\n",
       "        <tr>\n",
       "            <td>Right-handed                                                </td> <td>1197 </td>\n",
       "        </tr>\n",
       "        <tr>\n",
       "            <td>a little ambidextrous due to weird genetic quirk.           </td> <td>1    </td>\n",
       "        </tr>\n",
       "    </tbody>\n",
       "</table>\n",
       "<p>... (4 rows omitted)</p>"
      ],
      "text/plain": [
       "Handedness                                                   | count\n",
       "Ambidextrous                                                 | 3\n",
       "Both                                                         | 3\n",
       "Both (Right more dominate)                                   | 1\n",
       "Both-handed (writing: right hand, everything else: left  ... | 1\n",
       "I use my feet to write. (right handed)                       | 1\n",
       "I write with my right hand, but I usually hold utensils  ... | 1\n",
       "Left-handed                                                  | 113\n",
       "Mostly right handed, except for certain activities. (I e ... | 1\n",
       "Right-handed                                                 | 1197\n",
       "a little ambidextrous due to weird genetic quirk.            | 1\n",
       "... (4 rows omitted)"
      ]
     },
     "execution_count": 3,
     "metadata": {},
     "output_type": "execute_result"
    }
   ],
   "source": [
    "handedness = survey.group('Handedness')\n",
    "handedness"
   ]
  },
  {
   "cell_type": "code",
   "execution_count": 4,
   "metadata": {},
   "outputs": [
    {
     "data": {
      "image/png": "[encoded data removed]",
      "text/plain": [
       "<Figure size 432x504 with 1 Axes>"
      ]
     },
     "metadata": {},
     "output_type": "display_data"
    }
   ],
   "source": [
    "handedness.barh('Handedness')"
   ]
  },
  {
   "cell_type": "markdown",
   "metadata": {},
   "source": [
    "### Numerical Data: Histograms"
   ]
  },
  {
   "cell_type": "code",
   "execution_count": 5,
   "metadata": {},
   "outputs": [
    {
     "data": {
      "image/png": "[encoded data removed]",
      "text/plain": [
       "<Figure size 432x288 with 1 Axes>"
      ]
     },
     "metadata": {},
     "output_type": "display_data"
    }
   ],
   "source": [
    "survey.hist('Extraversion')"
   ]
  },
  {
   "cell_type": "code",
   "execution_count": 6,
   "metadata": {},
   "outputs": [
    {
     "data": {
      "image/png": "[encoded data removed]",
      "text/plain": [
       "<Figure size 432x288 with 1 Axes>"
      ]
     },
     "metadata": {},
     "output_type": "display_data"
    }
   ],
   "source": [
    "survey.hist('Hours of sleep')"
   ]
  },
  {
   "cell_type": "code",
   "execution_count": 7,
   "metadata": {},
   "outputs": [
    {
     "data": {
      "image/png": "[encoded data removed]",
      "text/plain": [
       "<Figure size 432x288 with 1 Axes>"
      ]
     },
     "metadata": {},
     "output_type": "display_data"
    },
    {
     "data": {
      "image/png": "[encoded data removed]",
      "text/plain": [
       "<Figure size 432x288 with 1 Axes>"
      ]
     },
     "metadata": {},
     "output_type": "display_data"
    }
   ],
   "source": [
    "sleep_bins = np.arange(4,12,1)\n",
    "survey.where(\n",
    "    'First pant leg',are.containing('Right')).hist('Hours of sleep', bins=sleep_bins)\n",
    "plots.title('Right Leg First');\n",
    "\n",
    "survey.where(\n",
    "    'First pant leg',are.containing('Left')).hist('Hours of sleep', bins=sleep_bins)\n",
    "plots.title('Left Leg First');"
   ]
  },
  {
   "cell_type": "markdown",
   "metadata": {},
   "source": [
    "## Defining Functions ##  "
   ]
  },
  {
   "cell_type": "markdown",
   "metadata": {},
   "source": [
    "Example: Create a function that takes a numerical input and triples it: $\\textsf{triple}(x)=3\\,x$"
   ]
  },
  {
   "cell_type": "code",
   "execution_count": 8,
   "metadata": {},
   "outputs": [],
   "source": [
    "def triple(x):\n",
    "    return 3 * x"
   ]
  },
  {
   "cell_type": "code",
   "execution_count": 9,
   "metadata": {},
   "outputs": [
    {
     "data": {
      "text/plain": [
       "9"
      ]
     },
     "execution_count": 9,
     "metadata": {},
     "output_type": "execute_result"
    }
   ],
   "source": [
    "triple(3)"
   ]
  },
  {
   "cell_type": "markdown",
   "metadata": {},
   "source": [
    "We can also assign a value to a name, and call the function on the name:"
   ]
  },
  {
   "cell_type": "code",
   "execution_count": 10,
   "metadata": {},
   "outputs": [],
   "source": [
    "num = 4"
   ]
  },
  {
   "cell_type": "code",
   "execution_count": 11,
   "metadata": {},
   "outputs": [
    {
     "data": {
      "text/plain": [
       "12"
      ]
     },
     "execution_count": 11,
     "metadata": {},
     "output_type": "execute_result"
    }
   ],
   "source": [
    "triple(num)"
   ]
  },
  {
   "cell_type": "code",
   "execution_count": 12,
   "metadata": {},
   "outputs": [
    {
     "data": {
      "text/plain": [
       "60"
      ]
     },
     "execution_count": 12,
     "metadata": {},
     "output_type": "execute_result"
    }
   ],
   "source": [
    "triple(num * 5)"
   ]
  },
  {
   "cell_type": "markdown",
   "metadata": {},
   "source": [
    "## The Anatomy of a Function ##  \n",
    "    \n",
    "```python\n",
    "def functionname(Arguments_Parameters_Expressions_or_Values):     \n",
    "      return return_expression\n",
    "```"
   ]
  },
  {
   "cell_type": "markdown",
   "metadata": {},
   "source": [
    "## Functions are Type-Agnostic  ## "
   ]
  },
  {
   "cell_type": "code",
   "execution_count": 13,
   "metadata": {
    "scrolled": true
   },
   "outputs": [
    {
     "data": {
      "text/plain": [
       "'hahaha'"
      ]
     },
     "execution_count": 13,
     "metadata": {},
     "output_type": "execute_result"
    }
   ],
   "source": [
    "triple('ha')"
   ]
  },
  {
   "cell_type": "code",
   "execution_count": 14,
   "metadata": {},
   "outputs": [
    {
     "data": {
      "text/plain": [
       "array([0, 1, 2, 3])"
      ]
     },
     "execution_count": 14,
     "metadata": {},
     "output_type": "execute_result"
    }
   ],
   "source": [
    "np.arange(4)"
   ]
  },
  {
   "cell_type": "markdown",
   "metadata": {},
   "source": [
    "Feed the array above into our function `triple` to see what is produced:"
   ]
  },
  {
   "cell_type": "code",
   "execution_count": 15,
   "metadata": {},
   "outputs": [
    {
     "data": {
      "text/plain": [
       "array([0, 3, 6, 9])"
      ]
     },
     "execution_count": 15,
     "metadata": {},
     "output_type": "execute_result"
    }
   ],
   "source": [
    "triple(np.arange(4))"
   ]
  },
  {
   "cell_type": "markdown",
   "metadata": {},
   "source": [
    "### Discussion ###\n",
    "\n",
    "- What does the following function do?\n",
    "- What type of input does it take?\n",
    "- What type of output does it produce?\n",
    "- What's a good name for the function?\n",
    "\n",
    "```python\n",
    "def f(s):     \n",
    "      return np.round(s / sum(s) * 100, 2)\n",
    "```"
   ]
  },
  {
   "cell_type": "code",
   "execution_count": 16,
   "metadata": {},
   "outputs": [],
   "source": [
    "def percent_of_total(s):\n",
    "    return np.round(s / sum(s) * 100, 2)"
   ]
  },
  {
   "cell_type": "code",
   "execution_count": 17,
   "metadata": {},
   "outputs": [
    {
     "data": {
      "text/plain": [
       "array([1, 2, 3, 4])"
      ]
     },
     "execution_count": 17,
     "metadata": {},
     "output_type": "execute_result"
    }
   ],
   "source": [
    "first_four=make_array(1,2,3,4)\n",
    "first_four"
   ]
  },
  {
   "cell_type": "code",
   "execution_count": 18,
   "metadata": {},
   "outputs": [
    {
     "data": {
      "text/plain": [
       "array([ 10.,  20.,  30.,  40.])"
      ]
     },
     "execution_count": 18,
     "metadata": {},
     "output_type": "execute_result"
    }
   ],
   "source": [
    "percent_of_total(first_four)"
   ]
  },
  {
   "cell_type": "code",
   "execution_count": 19,
   "metadata": {},
   "outputs": [
    {
     "data": {
      "text/plain": [
       "array([  0.4 ,  84.52,  15.08])"
      ]
     },
     "execution_count": 19,
     "metadata": {},
     "output_type": "execute_result"
    }
   ],
   "source": [
    "percent_of_total(make_array(1, 213, 38))"
   ]
  },
  {
   "cell_type": "markdown",
   "metadata": {},
   "source": [
    "### Functions Can Take Multiple Arguments ###"
   ]
  },
  {
   "cell_type": "markdown",
   "metadata": {},
   "source": [
    "Example: Calculate the Hypotenuse Length of a Right Triangle\n",
    "\n",
    "\n",
    "Pythagoras's Theorem: If $x$ and $y$ denote the lengths of the right-angle sides, then the hypotenuse length $h$ satisfies:\n",
    "\n",
    "$$ h^2 = x^2 + y^2 \\qquad \\text{which implies}\\qquad \\hspace{20 pt} h = \\sqrt{ x^2 + y^2 } $$"
   ]
  },
  {
   "cell_type": "code",
   "execution_count": 20,
   "metadata": {},
   "outputs": [],
   "source": [
    "def hypotenuse(x,y):\n",
    "    hypot_squared = (x ** 2 + y ** 2)\n",
    "    hypot = hypot_squared ** 0.5\n",
    "    return hypot"
   ]
  },
  {
   "cell_type": "code",
   "execution_count": 21,
   "metadata": {},
   "outputs": [
    {
     "data": {
      "text/plain": [
       "2.23606797749979"
      ]
     },
     "execution_count": 21,
     "metadata": {},
     "output_type": "execute_result"
    }
   ],
   "source": [
    "hypotenuse(1, 2)"
   ]
  },
  {
   "cell_type": "code",
   "execution_count": 22,
   "metadata": {},
   "outputs": [
    {
     "data": {
      "text/plain": [
       "5.0"
      ]
     },
     "execution_count": 22,
     "metadata": {},
     "output_type": "execute_result"
    }
   ],
   "source": [
    "hypotenuse(3, 4)"
   ]
  },
  {
   "cell_type": "markdown",
   "metadata": {},
   "source": [
    "We could've typed the body all in one line. Do you find this more readable or less readable than the original version?"
   ]
  },
  {
   "cell_type": "code",
   "execution_count": 23,
   "metadata": {},
   "outputs": [],
   "source": [
    "def hypotenuse(x,y):\n",
    "    return (x ** 2 + y ** 2) ** 0.5"
   ]
  },
  {
   "cell_type": "code",
   "execution_count": 24,
   "metadata": {},
   "outputs": [
    {
     "data": {
      "text/plain": [
       "15.0"
      ]
     },
     "execution_count": 24,
     "metadata": {},
     "output_type": "execute_result"
    }
   ],
   "source": [
    "hypotenuse(9, 12)"
   ]
  },
  {
   "cell_type": "markdown",
   "metadata": {},
   "source": [
    "### Example: A function that takes the year of birth of a person and produces their age in years. ###"
   ]
  },
  {
   "cell_type": "code",
   "execution_count": 25,
   "metadata": {},
   "outputs": [],
   "source": [
    "def age(year):\n",
    "    age = 2021 - year\n",
    "    return age"
   ]
  },
  {
   "cell_type": "code",
   "execution_count": 26,
   "metadata": {},
   "outputs": [
    {
     "data": {
      "text/plain": [
       "79"
      ]
     },
     "execution_count": 26,
     "metadata": {},
     "output_type": "execute_result"
    }
   ],
   "source": [
    "age(1942)"
   ]
  },
  {
   "cell_type": "markdown",
   "metadata": {},
   "source": [
    "Now add some bells and whistles:  Take person's name and year of birth (two arguments). Produce a sentence that states how old they are."
   ]
  },
  {
   "cell_type": "code",
   "execution_count": 27,
   "metadata": {},
   "outputs": [],
   "source": [
    "def name_and_age(name, year):\n",
    "    return name + ' is ' + str(age(year)) + ' years old.'"
   ]
  },
  {
   "cell_type": "code",
   "execution_count": 28,
   "metadata": {},
   "outputs": [
    {
     "data": {
      "text/plain": [
       "'Joe is 79 years old.'"
      ]
     },
     "execution_count": 28,
     "metadata": {},
     "output_type": "execute_result"
    }
   ],
   "source": [
    "name_and_age('Joe', 1942)"
   ]
  },
  {
   "cell_type": "markdown",
   "metadata": {},
   "source": [
    "## Apply ##"
   ]
  },
  {
   "cell_type": "code",
   "execution_count": 29,
   "metadata": {
    "scrolled": true
   },
   "outputs": [
    {
     "data": {
      "text/html": [
       "<table border=\"1\" class=\"dataframe\">\n",
       "    <thead>\n",
       "        <tr>\n",
       "            <th>Person</th> <th>Birth Year</th>\n",
       "        </tr>\n",
       "    </thead>\n",
       "    <tbody>\n",
       "        <tr>\n",
       "            <td>Jim    </td> <td>1985      </td>\n",
       "        </tr>\n",
       "        <tr>\n",
       "            <td>Pam    </td> <td>1988      </td>\n",
       "        </tr>\n",
       "        <tr>\n",
       "            <td>Michael</td> <td>1967      </td>\n",
       "        </tr>\n",
       "        <tr>\n",
       "            <td>Creed  </td> <td>1904      </td>\n",
       "        </tr>\n",
       "    </tbody>\n",
       "</table>"
      ],
      "text/plain": [
       "Person  | Birth Year\n",
       "Jim     | 1985\n",
       "Pam     | 1988\n",
       "Michael | 1967\n",
       "Creed   | 1904"
      ]
     },
     "execution_count": 29,
     "metadata": {},
     "output_type": "execute_result"
    }
   ],
   "source": [
    "ages = Table().with_columns(\n",
    "    'Person', make_array('Jim', 'Pam', 'Michael', 'Creed'),\n",
    "    'Birth Year', make_array(1985, 1988, 1967, 1904)\n",
    ")\n",
    "ages"
   ]
  },
  {
   "cell_type": "code",
   "execution_count": 30,
   "metadata": {},
   "outputs": [],
   "source": [
    "def cap_at_1980(x):\n",
    "    return min(x, 1980)"
   ]
  },
  {
   "cell_type": "code",
   "execution_count": 31,
   "metadata": {},
   "outputs": [
    {
     "data": {
      "text/plain": [
       "1975"
      ]
     },
     "execution_count": 31,
     "metadata": {},
     "output_type": "execute_result"
    }
   ],
   "source": [
    "cap_at_1980(1975)"
   ]
  },
  {
   "cell_type": "code",
   "execution_count": 32,
   "metadata": {},
   "outputs": [
    {
     "data": {
      "text/plain": [
       "1980"
      ]
     },
     "execution_count": 32,
     "metadata": {},
     "output_type": "execute_result"
    }
   ],
   "source": [
    "cap_at_1980(1991)"
   ]
  },
  {
   "cell_type": "code",
   "execution_count": 33,
   "metadata": {},
   "outputs": [
    {
     "data": {
      "text/plain": [
       "array([1980, 1980, 1967, 1904])"
      ]
     },
     "execution_count": 33,
     "metadata": {},
     "output_type": "execute_result"
    }
   ],
   "source": [
    "ages.apply(cap_at_1980, 'Birth Year')"
   ]
  },
  {
   "cell_type": "code",
   "execution_count": 34,
   "metadata": {
    "scrolled": true
   },
   "outputs": [
    {
     "data": {
      "text/plain": [
       "array(['Jim is 36 years old.', 'Pam is 33 years old.',\n",
       "       'Michael is 54 years old.', 'Creed is 117 years old.'],\n",
       "      dtype='<U24')"
      ]
     },
     "execution_count": 34,
     "metadata": {},
     "output_type": "execute_result"
    }
   ],
   "source": [
    "ages.apply(name_and_age, 'Person', 'Birth Year')"
   ]
  }
 ],
 "metadata": {
  "anaconda-cloud": {},
  "kernelspec": {
   "display_name": "Python 3 (ipykernel)",
   "language": "python",
   "name": "python3"
  },
  "language_info": {
   "codemirror_mode": {
    "name": "ipython",
    "version": 3
   },
   "file_extension": ".py",
   "mimetype": "text/x-python",
   "name": "python",
   "nbconvert_exporter": "python",
   "pygments_lexer": "ipython3",
   "version": "3.9.7"
  }
 },
 "nbformat": 4,
 "nbformat_minor": 1
}
