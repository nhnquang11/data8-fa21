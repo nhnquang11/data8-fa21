{
 "cells": [
  {
   "cell_type": "code",
   "execution_count": 1,
   "metadata": {},
   "outputs": [],
   "source": [
    "from datascience import *\n",
    "import numpy as np\n",
    "import matplotlib\n",
    "%matplotlib inline\n",
    "import matplotlib.pyplot as plots\n",
    "plots.style.use('fivethirtyeight')"
   ]
  },
  {
   "cell_type": "code",
   "execution_count": 2,
   "metadata": {},
   "outputs": [],
   "source": [
    "def create_population_table(prior_disease_prob, n):\n",
    "    \"\"\"Returns table for: pop size n, proportion diseased = prior_disease_prob\n",
    "    false positive rate 5%, true positive rate 100%\"\"\"\n",
    "    disease = round(n * prior_disease_prob)\n",
    "    no_disease = round(n * (1 - prior_disease_prob))\n",
    "\n",
    "    status = np.array(['Disease'] * disease  +  ['No disease'] * no_disease)\n",
    "    result = np.array(['Test Positive'] * (disease) + ['Test Positive'] * (round(no_disease * 0.05))  + \\\n",
    "                 ['Test Negative'] * (round(no_disease * 0.95)))\n",
    "                 \n",
    "    t = Table().with_columns(\n",
    "    'Status', status,\n",
    "    'Test Result', result\n",
    "    ).sample(with_replacement=False)\n",
    "    return t"
   ]
  },
  {
   "cell_type": "markdown",
   "metadata": {},
   "source": [
    "# Lecture 38: Updating Probabilities"
   ]
  },
  {
   "cell_type": "markdown",
   "metadata": {},
   "source": [
    "## Population with the Specified Proportions\n",
    "\n",
    "Create a population with a specified disease prevalence and population size, assuming that the test specifications are:\n",
    "\n",
    "- False positive rate: 5%\n",
    "- True positive rate: 100%"
   ]
  },
  {
   "cell_type": "code",
   "execution_count": 3,
   "metadata": {},
   "outputs": [
    {
     "data": {
      "text/html": [
       "<table border=\"1\" class=\"dataframe\">\n",
       "    <thead>\n",
       "        <tr>\n",
       "            <th>Status</th> <th>Test Result</th>\n",
       "        </tr>\n",
       "    </thead>\n",
       "    <tbody>\n",
       "        <tr>\n",
       "            <td>No disease</td> <td>Test Negative</td>\n",
       "        </tr>\n",
       "        <tr>\n",
       "            <td>No disease</td> <td>Test Negative</td>\n",
       "        </tr>\n",
       "        <tr>\n",
       "            <td>No disease</td> <td>Test Negative</td>\n",
       "        </tr>\n",
       "        <tr>\n",
       "            <td>No disease</td> <td>Test Negative</td>\n",
       "        </tr>\n",
       "        <tr>\n",
       "            <td>No disease</td> <td>Test Negative</td>\n",
       "        </tr>\n",
       "        <tr>\n",
       "            <td>No disease</td> <td>Test Negative</td>\n",
       "        </tr>\n",
       "        <tr>\n",
       "            <td>No disease</td> <td>Test Negative</td>\n",
       "        </tr>\n",
       "        <tr>\n",
       "            <td>No disease</td> <td>Test Negative</td>\n",
       "        </tr>\n",
       "        <tr>\n",
       "            <td>No disease</td> <td>Test Negative</td>\n",
       "        </tr>\n",
       "        <tr>\n",
       "            <td>No disease</td> <td>Test Negative</td>\n",
       "        </tr>\n",
       "    </tbody>\n",
       "</table>\n",
       "<p>... (9990 rows omitted)</p>"
      ],
      "text/plain": [
       "Status     | Test Result\n",
       "No disease | Test Negative\n",
       "No disease | Test Negative\n",
       "No disease | Test Negative\n",
       "No disease | Test Negative\n",
       "No disease | Test Negative\n",
       "No disease | Test Negative\n",
       "No disease | Test Negative\n",
       "No disease | Test Negative\n",
       "No disease | Test Negative\n",
       "No disease | Test Negative\n",
       "... (9990 rows omitted)"
      ]
     },
     "execution_count": 3,
     "metadata": {},
     "output_type": "execute_result"
    }
   ],
   "source": [
    "# Population size 10,000\n",
    "# Table contains counts in the four categories\n",
    "\n",
    "pop_table = create_population_table(0.001, 10000)\n",
    "pop_table"
   ]
  },
  {
   "cell_type": "code",
   "execution_count": 4,
   "metadata": {},
   "outputs": [
    {
     "data": {
      "text/html": [
       "<table border=\"1\" class=\"dataframe\">\n",
       "    <thead>\n",
       "        <tr>\n",
       "            <th>Status</th> <th>Test Negative</th> <th>Test Positive</th>\n",
       "        </tr>\n",
       "    </thead>\n",
       "    <tbody>\n",
       "        <tr>\n",
       "            <td>No disease</td> <td>9490         </td> <td>500          </td>\n",
       "        </tr>\n",
       "        <tr>\n",
       "            <td>Disease   </td> <td>0            </td> <td>10           </td>\n",
       "        </tr>\n",
       "    </tbody>\n",
       "</table>"
      ],
      "text/plain": [
       "Status     | Test Negative | Test Positive\n",
       "No disease | 9490          | 500\n",
       "Disease    | 0             | 10"
      ]
     },
     "execution_count": 4,
     "metadata": {},
     "output_type": "execute_result"
    }
   ],
   "source": [
    "pop_table.pivot('Test Result', 'Status').sort('Status', descending=True)"
   ]
  },
  {
   "cell_type": "code",
   "execution_count": 5,
   "metadata": {},
   "outputs": [
    {
     "data": {
      "text/plain": [
       "0.0196078431372549"
      ]
     },
     "execution_count": 5,
     "metadata": {},
     "output_type": "execute_result"
    }
   ],
   "source": [
    "# Among those who test positive,\n",
    "# what proportion have the disease?\n",
    "\n",
    "10/510"
   ]
  },
  {
   "cell_type": "markdown",
   "metadata": {},
   "source": [
    "Assume a patient is picked at random from the population.\n",
    "\n",
    "If the patient tested positive, what is the chance they have the disease?\n",
    "\n",
    "- Answer: Same as above, 0.0196.."
   ]
  },
  {
   "cell_type": "markdown",
   "metadata": {},
   "source": [
    "## Calculation by Tree Diagram"
   ]
  },
  {
   "cell_type": "code",
   "execution_count": 6,
   "metadata": {},
   "outputs": [
    {
     "data": {
      "text/plain": [
       "0.019627085377821395"
      ]
     },
     "execution_count": 6,
     "metadata": {},
     "output_type": "execute_result"
    }
   ],
   "source": [
    "# P(Disease | Test Positive)\n",
    "\n",
    "0.001*1 / (0.001*1 + 0.999*0.05)"
   ]
  },
  {
   "cell_type": "markdown",
   "metadata": {},
   "source": [
    "## Rare Disease"
   ]
  },
  {
   "cell_type": "code",
   "execution_count": 7,
   "metadata": {},
   "outputs": [
    {
     "data": {
      "text/html": [
       "<table border=\"1\" class=\"dataframe\">\n",
       "    <thead>\n",
       "        <tr>\n",
       "            <th>Status</th> <th>Test Negative</th> <th>Test Positive</th>\n",
       "        </tr>\n",
       "    </thead>\n",
       "    <tbody>\n",
       "        <tr>\n",
       "            <td>No disease</td> <td>9490         </td> <td>500          </td>\n",
       "        </tr>\n",
       "        <tr>\n",
       "            <td>Disease   </td> <td>0            </td> <td>10           </td>\n",
       "        </tr>\n",
       "    </tbody>\n",
       "</table>"
      ],
      "text/plain": [
       "Status     | Test Negative | Test Positive\n",
       "No disease | 9490          | 500\n",
       "Disease    | 0             | 10"
      ]
     },
     "execution_count": 7,
     "metadata": {},
     "output_type": "execute_result"
    }
   ],
   "source": [
    "pop_table.pivot('Test Result', 'Status').sort('Status', descending=True)"
   ]
  },
  {
   "cell_type": "markdown",
   "metadata": {},
   "source": [
    "## Changing the Prior"
   ]
  },
  {
   "cell_type": "code",
   "execution_count": 8,
   "metadata": {},
   "outputs": [
    {
     "data": {
      "text/html": [
       "<table border=\"1\" class=\"dataframe\">\n",
       "    <thead>\n",
       "        <tr>\n",
       "            <th>Status</th> <th>Test Negative</th> <th>Test Positive</th>\n",
       "        </tr>\n",
       "    </thead>\n",
       "    <tbody>\n",
       "        <tr>\n",
       "            <td>No disease</td> <td>8550         </td> <td>450          </td>\n",
       "        </tr>\n",
       "        <tr>\n",
       "            <td>Disease   </td> <td>0            </td> <td>1000         </td>\n",
       "        </tr>\n",
       "    </tbody>\n",
       "</table>"
      ],
      "text/plain": [
       "Status     | Test Negative | Test Positive\n",
       "No disease | 8550          | 450\n",
       "Disease    | 0             | 1000"
      ]
     },
     "execution_count": 8,
     "metadata": {},
     "output_type": "execute_result"
    }
   ],
   "source": [
    "# Prior probabiilty of disease: 10%\n",
    "\n",
    "pop_table_1 = create_population_table(0.1, 10000)\n",
    "pop_table_1.pivot('Test Result', 'Status').sort('Status', descending=True)"
   ]
  },
  {
   "cell_type": "code",
   "execution_count": 9,
   "metadata": {},
   "outputs": [
    {
     "data": {
      "text/plain": [
       "0.6896551724137931"
      ]
     },
     "execution_count": 9,
     "metadata": {},
     "output_type": "execute_result"
    }
   ],
   "source": [
    "# P(Disease | Test Positive)\n",
    "# if P(Disease) = 0.1\n",
    "\n",
    "1000 / 1450"
   ]
  },
  {
   "cell_type": "code",
   "execution_count": 10,
   "metadata": {},
   "outputs": [
    {
     "data": {
      "text/plain": [
       "0.689655172413793"
      ]
     },
     "execution_count": 10,
     "metadata": {},
     "output_type": "execute_result"
    }
   ],
   "source": [
    "# P(Disease | Test Positive)\n",
    "# if P(Disease) = 0.1\n",
    "\n",
    "0.1*1 / (0.1*1 + 0.9*0.05)"
   ]
  },
  {
   "cell_type": "code",
   "execution_count": 11,
   "metadata": {},
   "outputs": [
    {
     "data": {
      "text/plain": [
       "0.9523809523809523"
      ]
     },
     "execution_count": 11,
     "metadata": {},
     "output_type": "execute_result"
    }
   ],
   "source": [
    "# P(Disease | Test Positive)\n",
    "# if P(Disease) = 0.5\n",
    "\n",
    "0.5*1 / (0.5*1 + 0.5*0.05)"
   ]
  },
  {
   "cell_type": "code",
   "execution_count": 12,
   "metadata": {},
   "outputs": [
    {
     "data": {
      "text/html": [
       "<table border=\"1\" class=\"dataframe\">\n",
       "    <thead>\n",
       "        <tr>\n",
       "            <th>Status</th> <th>Test Negative</th> <th>Test Positive</th>\n",
       "        </tr>\n",
       "    </thead>\n",
       "    <tbody>\n",
       "        <tr>\n",
       "            <td>No disease</td> <td>4750         </td> <td>250          </td>\n",
       "        </tr>\n",
       "        <tr>\n",
       "            <td>Disease   </td> <td>0            </td> <td>5000         </td>\n",
       "        </tr>\n",
       "    </tbody>\n",
       "</table>"
      ],
      "text/plain": [
       "Status     | Test Negative | Test Positive\n",
       "No disease | 4750          | 250\n",
       "Disease    | 0             | 5000"
      ]
     },
     "execution_count": 12,
     "metadata": {},
     "output_type": "execute_result"
    }
   ],
   "source": [
    "# Prior probabiilty of disease: 50%\n",
    "\n",
    "pop_table_1 = create_population_table(0.5, 10000)\n",
    "pop_table_1.pivot('Test Result', 'Status').sort('Status', descending=True)"
   ]
  },
  {
   "cell_type": "code",
   "execution_count": 13,
   "metadata": {},
   "outputs": [
    {
     "data": {
      "text/plain": [
       "0.9523809523809523"
      ]
     },
     "execution_count": 13,
     "metadata": {},
     "output_type": "execute_result"
    }
   ],
   "source": [
    "# P(Disease | Test Positive)\n",
    "# if P(Disease) = 0.5\n",
    "\n",
    "5000 / 5250"
   ]
  }
 ],
 "metadata": {
  "kernelspec": {
   "display_name": "Python 3 (ipykernel)",
   "language": "python",
   "name": "python3"
  },
  "language_info": {
   "codemirror_mode": {
    "name": "ipython",
    "version": 3
   },
   "file_extension": ".py",
   "mimetype": "text/x-python",
   "name": "python",
   "nbconvert_exporter": "python",
   "pygments_lexer": "ipython3",
   "version": "3.9.7"
  }
 },
 "nbformat": 4,
 "nbformat_minor": 4
}
