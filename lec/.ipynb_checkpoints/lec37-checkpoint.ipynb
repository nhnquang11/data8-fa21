{
 "cells": [
  {
   "cell_type": "code",
   "execution_count": 1,
   "metadata": {},
   "outputs": [],
   "source": [
    "from datascience import *\n",
    "import numpy as np\n",
    "import matplotlib\n",
    "from mpl_toolkits.mplot3d import Axes3D\n",
    "%matplotlib inline\n",
    "import matplotlib.pyplot as plots\n",
    "plots.style.use('fivethirtyeight')"
   ]
  },
  {
   "cell_type": "markdown",
   "metadata": {},
   "source": [
    "# Datasets"
   ]
  },
  {
   "cell_type": "code",
   "execution_count": 2,
   "metadata": {},
   "outputs": [],
   "source": [
    "ckd = Table.read_table('ckd.csv')\n",
    "ckd = ckd.relabeled('Blood Glucose Random', 'Glucose').select('Glucose', 'Hemoglobin', 'White Blood Cell Count', 'Class')"
   ]
  },
  {
   "cell_type": "code",
   "execution_count": 3,
   "metadata": {},
   "outputs": [
    {
     "data": {
      "text/html": [
       "<table border=\"1\" class=\"dataframe\">\n",
       "    <thead>\n",
       "        <tr>\n",
       "            <th>Clump Thickness</th> <th>Uniformity of Cell Size</th> <th>Uniformity of Cell Shape</th> <th>Marginal Adhesion</th> <th>Single Epithelial Cell Size</th> <th>Bare Nuclei</th> <th>Bland Chromatin</th> <th>Normal Nucleoli</th> <th>Mitoses</th> <th>Class</th>\n",
       "        </tr>\n",
       "    </thead>\n",
       "    <tbody>\n",
       "        <tr>\n",
       "            <td>5              </td> <td>1                      </td> <td>1                       </td> <td>1                </td> <td>2                          </td> <td>1          </td> <td>3              </td> <td>1              </td> <td>1      </td> <td>0    </td>\n",
       "        </tr>\n",
       "        <tr>\n",
       "            <td>5              </td> <td>4                      </td> <td>4                       </td> <td>5                </td> <td>7                          </td> <td>10         </td> <td>3              </td> <td>2              </td> <td>1      </td> <td>0    </td>\n",
       "        </tr>\n",
       "        <tr>\n",
       "            <td>3              </td> <td>1                      </td> <td>1                       </td> <td>1                </td> <td>2                          </td> <td>2          </td> <td>3              </td> <td>1              </td> <td>1      </td> <td>0    </td>\n",
       "        </tr>\n",
       "        <tr>\n",
       "            <td>6              </td> <td>8                      </td> <td>8                       </td> <td>1                </td> <td>3                          </td> <td>4          </td> <td>3              </td> <td>7              </td> <td>1      </td> <td>0    </td>\n",
       "        </tr>\n",
       "        <tr>\n",
       "            <td>4              </td> <td>1                      </td> <td>1                       </td> <td>3                </td> <td>2                          </td> <td>1          </td> <td>3              </td> <td>1              </td> <td>1      </td> <td>0    </td>\n",
       "        </tr>\n",
       "    </tbody>\n",
       "</table>\n",
       "<p>... (678 rows omitted)</p>"
      ],
      "text/plain": [
       "<IPython.core.display.HTML object>"
      ]
     },
     "metadata": {},
     "output_type": "display_data"
    }
   ],
   "source": [
    "patients = Table.read_table('breast-cancer.csv').drop('ID')\n",
    "patients.show(5)"
   ]
  },
  {
   "cell_type": "markdown",
   "metadata": {},
   "source": [
    "## Distance ##"
   ]
  },
  {
   "cell_type": "code",
   "execution_count": 4,
   "metadata": {},
   "outputs": [],
   "source": [
    "def distance(pt1, pt2):\n",
    "    \"\"\"Return the distance between two points that are represented as arrays\"\"\"\n",
    "    return np.sqrt(sum((pt1 - pt2)**2))"
   ]
  },
  {
   "cell_type": "code",
   "execution_count": 5,
   "metadata": {},
   "outputs": [],
   "source": [
    "def row_distance(row1, row2):\n",
    "    \"\"\"Return the distance between two numerical rows of a table\"\"\"\n",
    "    return distance(np.array(row1), np.array(row2))"
   ]
  },
  {
   "cell_type": "markdown",
   "metadata": {},
   "source": [
    "# The Classifier"
   ]
  },
  {
   "cell_type": "code",
   "execution_count": 6,
   "metadata": {},
   "outputs": [],
   "source": [
    "def distances(training, example):\n",
    "    \"\"\"\n",
    "    Compute distance between example and every row in training.\n",
    "    Return training augmented with Distance column\n",
    "    \"\"\"\n",
    "    distances = make_array()\n",
    "    attributes_only = training.drop('Class')\n",
    "    \n",
    "    for row in attributes_only.rows:\n",
    "        distances = np.append(distances, row_distance(row, example))\n",
    "                \n",
    "    return training.with_column('Distance_to_ex', distances)"
   ]
  },
  {
   "cell_type": "code",
   "execution_count": 7,
   "metadata": {},
   "outputs": [],
   "source": [
    "def closest(training, example, k):\n",
    "    \"\"\"\n",
    "    Return a table of the k closest neighbors to example\n",
    "    \"\"\"\n",
    "    return distances(training, example).sort('Distance_to_ex').take(np.arange(k))"
   ]
  },
  {
   "cell_type": "code",
   "execution_count": 8,
   "metadata": {},
   "outputs": [
    {
     "data": {
      "text/html": [
       "<table border=\"1\" class=\"dataframe\">\n",
       "    <thead>\n",
       "        <tr>\n",
       "            <th>Clump Thickness</th> <th>Uniformity of Cell Size</th> <th>Uniformity of Cell Shape</th> <th>Marginal Adhesion</th> <th>Single Epithelial Cell Size</th> <th>Bare Nuclei</th> <th>Bland Chromatin</th> <th>Normal Nucleoli</th> <th>Mitoses</th> <th>Class</th> <th>Distance_to_ex</th>\n",
       "        </tr>\n",
       "    </thead>\n",
       "    <tbody>\n",
       "        <tr>\n",
       "            <td>8              </td> <td>4                      </td> <td>4                       </td> <td>5                </td> <td>4                          </td> <td>7          </td> <td>7              </td> <td>8              </td> <td>2      </td> <td>0    </td> <td>4.3589        </td>\n",
       "        </tr>\n",
       "        <tr>\n",
       "            <td>10             </td> <td>5                      </td> <td>7                       </td> <td>4                </td> <td>4                          </td> <td>10         </td> <td>8              </td> <td>9              </td> <td>1      </td> <td>1    </td> <td>4.47214       </td>\n",
       "        </tr>\n",
       "        <tr>\n",
       "            <td>7              </td> <td>4                      </td> <td>4                       </td> <td>3                </td> <td>4                          </td> <td>10         </td> <td>6              </td> <td>9              </td> <td>1      </td> <td>1    </td> <td>5.09902       </td>\n",
       "        </tr>\n",
       "        <tr>\n",
       "            <td>10             </td> <td>3                      </td> <td>6                       </td> <td>2                </td> <td>3                          </td> <td>5          </td> <td>4              </td> <td>10             </td> <td>2      </td> <td>1    </td> <td>5.38516       </td>\n",
       "        </tr>\n",
       "        <tr>\n",
       "            <td>10             </td> <td>5                      </td> <td>5                       </td> <td>6                </td> <td>3                          </td> <td>10         </td> <td>7              </td> <td>9              </td> <td>2      </td> <td>1    </td> <td>5.38516       </td>\n",
       "        </tr>\n",
       "    </tbody>\n",
       "</table>"
      ],
      "text/plain": [
       "Clump Thickness | Uniformity of Cell Size | Uniformity of Cell Shape | Marginal Adhesion | Single Epithelial Cell Size | Bare Nuclei | Bland Chromatin | Normal Nucleoli | Mitoses | Class | Distance_to_ex\n",
       "8               | 4                       | 4                        | 5                 | 4                           | 7           | 7               | 8               | 2       | 0     | 4.3589\n",
       "10              | 5                       | 7                        | 4                 | 4                           | 10          | 8               | 9               | 1       | 1     | 4.47214\n",
       "7               | 4                       | 4                        | 3                 | 4                           | 10          | 6               | 9               | 1       | 1     | 5.09902\n",
       "10              | 3                       | 6                        | 2                 | 3                           | 5           | 4               | 10              | 2       | 1     | 5.38516\n",
       "10              | 5                       | 5                        | 6                 | 3                           | 10          | 7               | 9               | 2       | 1     | 5.38516"
      ]
     },
     "execution_count": 8,
     "metadata": {},
     "output_type": "execute_result"
    }
   ],
   "source": [
    "attributes = patients.drop('Class')\n",
    "example = attributes.row(21)\n",
    "closest(patients.exclude(21), example, 5)"
   ]
  },
  {
   "cell_type": "code",
   "execution_count": 9,
   "metadata": {},
   "outputs": [
    {
     "data": {
      "text/html": [
       "<table border=\"1\" class=\"dataframe\">\n",
       "    <thead>\n",
       "        <tr>\n",
       "            <th>Class</th> <th>count</th>\n",
       "        </tr>\n",
       "    </thead>\n",
       "    <tbody>\n",
       "        <tr>\n",
       "            <td>1    </td> <td>4    </td>\n",
       "        </tr>\n",
       "        <tr>\n",
       "            <td>0    </td> <td>1    </td>\n",
       "        </tr>\n",
       "    </tbody>\n",
       "</table>"
      ],
      "text/plain": [
       "Class | count\n",
       "1     | 4\n",
       "0     | 1"
      ]
     },
     "execution_count": 9,
     "metadata": {},
     "output_type": "execute_result"
    }
   ],
   "source": [
    "closest(patients.exclude(21), example, 5).group('Class').sort('count', descending=True)"
   ]
  },
  {
   "cell_type": "code",
   "execution_count": 10,
   "metadata": {},
   "outputs": [],
   "source": [
    "def majority_class(topk):\n",
    "    \"\"\"\n",
    "    Return the class with the highest count\n",
    "    \"\"\"\n",
    "    return topk.group('Class').sort('count', descending=True).column(0).item(0)"
   ]
  },
  {
   "cell_type": "code",
   "execution_count": 11,
   "metadata": {},
   "outputs": [],
   "source": [
    "def classify(training, example, k):\n",
    "    \"\"\"\n",
    "    Return the majority class among the \n",
    "    k nearest neighbors of example\n",
    "    \"\"\"\n",
    "    return majority_class(closest(training, example, k))"
   ]
  },
  {
   "cell_type": "code",
   "execution_count": 12,
   "metadata": {},
   "outputs": [
    {
     "data": {
      "text/plain": [
       "1"
      ]
     },
     "execution_count": 12,
     "metadata": {},
     "output_type": "execute_result"
    }
   ],
   "source": [
    "classify(patients.exclude(21), example, 5)"
   ]
  },
  {
   "cell_type": "code",
   "execution_count": 13,
   "metadata": {},
   "outputs": [
    {
     "data": {
      "text/html": [
       "<table border=\"1\" class=\"dataframe\">\n",
       "    <thead>\n",
       "        <tr>\n",
       "            <th>Clump Thickness</th> <th>Uniformity of Cell Size</th> <th>Uniformity of Cell Shape</th> <th>Marginal Adhesion</th> <th>Single Epithelial Cell Size</th> <th>Bare Nuclei</th> <th>Bland Chromatin</th> <th>Normal Nucleoli</th> <th>Mitoses</th> <th>Class</th>\n",
       "        </tr>\n",
       "    </thead>\n",
       "    <tbody>\n",
       "        <tr>\n",
       "            <td>10             </td> <td>5                      </td> <td>5                       </td> <td>3                </td> <td>6                          </td> <td>7          </td> <td>7              </td> <td>10             </td> <td>1      </td> <td>1    </td>\n",
       "        </tr>\n",
       "    </tbody>\n",
       "</table>"
      ],
      "text/plain": [
       "Clump Thickness | Uniformity of Cell Size | Uniformity of Cell Shape | Marginal Adhesion | Single Epithelial Cell Size | Bare Nuclei | Bland Chromatin | Normal Nucleoli | Mitoses | Class\n",
       "10              | 5                       | 5                        | 3                 | 6                           | 7           | 7               | 10              | 1       | 1"
      ]
     },
     "execution_count": 13,
     "metadata": {},
     "output_type": "execute_result"
    }
   ],
   "source": [
    "patients.take(21)"
   ]
  },
  {
   "cell_type": "code",
   "execution_count": 14,
   "metadata": {},
   "outputs": [
    {
     "data": {
      "text/plain": [
       "0"
      ]
     },
     "execution_count": 14,
     "metadata": {},
     "output_type": "execute_result"
    }
   ],
   "source": [
    "new_example = attributes.row(10)\n",
    "classify(patients.exclude(10), new_example, 5)"
   ]
  },
  {
   "cell_type": "code",
   "execution_count": 15,
   "metadata": {},
   "outputs": [
    {
     "data": {
      "text/html": [
       "<table border=\"1\" class=\"dataframe\">\n",
       "    <thead>\n",
       "        <tr>\n",
       "            <th>Clump Thickness</th> <th>Uniformity of Cell Size</th> <th>Uniformity of Cell Shape</th> <th>Marginal Adhesion</th> <th>Single Epithelial Cell Size</th> <th>Bare Nuclei</th> <th>Bland Chromatin</th> <th>Normal Nucleoli</th> <th>Mitoses</th> <th>Class</th>\n",
       "        </tr>\n",
       "    </thead>\n",
       "    <tbody>\n",
       "        <tr>\n",
       "            <td>1              </td> <td>1                      </td> <td>1                       </td> <td>1                </td> <td>1                          </td> <td>1          </td> <td>3              </td> <td>1              </td> <td>1      </td> <td>0    </td>\n",
       "        </tr>\n",
       "    </tbody>\n",
       "</table>"
      ],
      "text/plain": [
       "Clump Thickness | Uniformity of Cell Size | Uniformity of Cell Shape | Marginal Adhesion | Single Epithelial Cell Size | Bare Nuclei | Bland Chromatin | Normal Nucleoli | Mitoses | Class\n",
       "1               | 1                       | 1                        | 1                 | 1                           | 1           | 3               | 1               | 1       | 0"
      ]
     },
     "execution_count": 15,
     "metadata": {},
     "output_type": "execute_result"
    }
   ],
   "source": [
    "patients.take(10)"
   ]
  },
  {
   "cell_type": "code",
   "execution_count": 16,
   "metadata": {},
   "outputs": [
    {
     "data": {
      "text/plain": [
       "0"
      ]
     },
     "execution_count": 16,
     "metadata": {},
     "output_type": "execute_result"
    }
   ],
   "source": [
    "another_example = attributes.row(15)\n",
    "classify(patients.exclude(15), another_example, 5)"
   ]
  },
  {
   "cell_type": "code",
   "execution_count": 17,
   "metadata": {},
   "outputs": [
    {
     "data": {
      "text/html": [
       "<table border=\"1\" class=\"dataframe\">\n",
       "    <thead>\n",
       "        <tr>\n",
       "            <th>Clump Thickness</th> <th>Uniformity of Cell Size</th> <th>Uniformity of Cell Shape</th> <th>Marginal Adhesion</th> <th>Single Epithelial Cell Size</th> <th>Bare Nuclei</th> <th>Bland Chromatin</th> <th>Normal Nucleoli</th> <th>Mitoses</th> <th>Class</th>\n",
       "        </tr>\n",
       "    </thead>\n",
       "    <tbody>\n",
       "        <tr>\n",
       "            <td>7              </td> <td>4                      </td> <td>6                       </td> <td>4                </td> <td>6                          </td> <td>1          </td> <td>4              </td> <td>3              </td> <td>1      </td> <td>1    </td>\n",
       "        </tr>\n",
       "    </tbody>\n",
       "</table>"
      ],
      "text/plain": [
       "Clump Thickness | Uniformity of Cell Size | Uniformity of Cell Shape | Marginal Adhesion | Single Epithelial Cell Size | Bare Nuclei | Bland Chromatin | Normal Nucleoli | Mitoses | Class\n",
       "7               | 4                       | 6                        | 4                 | 6                           | 1           | 4               | 3               | 1       | 1"
      ]
     },
     "execution_count": 17,
     "metadata": {},
     "output_type": "execute_result"
    }
   ],
   "source": [
    "patients.take(15)"
   ]
  },
  {
   "cell_type": "markdown",
   "metadata": {},
   "source": [
    "## Review of the Steps ##\n",
    "\n",
    "- `distance(pt1, pt2)`: Returns the distance between the arrays `pt1` and `pt2`\n",
    "- `row_distance(row1, row2)`: Returns the distance between the rows `row1` and `row2`\n",
    "- `distances(training, example)`: Returns a table that is `training` with an additional column `'Distance'` that contains the distance between `example` and each row of `training`\n",
    "- `closest(training, example, k)`: Returns a table of the rows corresponding to the k smallest distances \n",
    "- `majority_class(topk)`: Returns the majority class in the `'Class'` column\n",
    "- `classify(training, example, k)`: Returns the predicted class of `example` based on a `k` nearest neighbors classifier using the historical sample `training`"
   ]
  },
  {
   "cell_type": "markdown",
   "metadata": {},
   "source": [
    "## Accuracy of a Classifier ##"
   ]
  },
  {
   "cell_type": "code",
   "execution_count": 18,
   "metadata": {},
   "outputs": [
    {
     "data": {
      "text/plain": [
       "683"
      ]
     },
     "execution_count": 18,
     "metadata": {},
     "output_type": "execute_result"
    }
   ],
   "source": [
    "patients.num_rows"
   ]
  },
  {
   "cell_type": "code",
   "execution_count": 19,
   "metadata": {},
   "outputs": [],
   "source": [
    "shuffled = patients.sample(with_replacement=False) # Randomly permute the rows\n",
    "training_set = shuffled.take(np.arange(342))\n",
    "test_set  = shuffled.take(np.arange(342, 683))"
   ]
  },
  {
   "cell_type": "code",
   "execution_count": 20,
   "metadata": {},
   "outputs": [],
   "source": [
    "def evaluate_accuracy(training, test, k):\n",
    "    \"\"\"Return the proportion of correctly classified examples \n",
    "    in the test set\"\"\"\n",
    "    test_attributes = test.drop('Class')\n",
    "    num_correct = 0\n",
    "    for i in np.arange(test.num_rows):\n",
    "        c = classify(training, test_attributes.row(i), k)\n",
    "        num_correct = num_correct + (c == test.column('Class').item(i))\n",
    "    return num_correct / test.num_rows"
   ]
  },
  {
   "cell_type": "code",
   "execution_count": 21,
   "metadata": {},
   "outputs": [
    {
     "data": {
      "text/plain": [
       "0.9648093841642229"
      ]
     },
     "execution_count": 21,
     "metadata": {},
     "output_type": "execute_result"
    }
   ],
   "source": [
    "evaluate_accuracy(training_set, test_set, 5)"
   ]
  },
  {
   "cell_type": "code",
   "execution_count": 22,
   "metadata": {},
   "outputs": [
    {
     "data": {
      "text/plain": [
       "0.9648093841642229"
      ]
     },
     "execution_count": 22,
     "metadata": {},
     "output_type": "execute_result"
    }
   ],
   "source": [
    "evaluate_accuracy(training_set, test_set, 3)"
   ]
  },
  {
   "cell_type": "code",
   "execution_count": 23,
   "metadata": {
    "scrolled": true
   },
   "outputs": [
    {
     "data": {
      "text/plain": [
       "0.9648093841642229"
      ]
     },
     "execution_count": 23,
     "metadata": {},
     "output_type": "execute_result"
    }
   ],
   "source": [
    "evaluate_accuracy(training_set, test_set, 11)"
   ]
  },
  {
   "cell_type": "code",
   "execution_count": 24,
   "metadata": {},
   "outputs": [
    {
     "data": {
      "text/plain": [
       "0.9618768328445748"
      ]
     },
     "execution_count": 24,
     "metadata": {},
     "output_type": "execute_result"
    }
   ],
   "source": [
    "evaluate_accuracy(training_set, test_set, 1)"
   ]
  },
  {
   "cell_type": "markdown",
   "metadata": {},
   "source": [
    "# Standardize if Necessary"
   ]
  },
  {
   "cell_type": "code",
   "execution_count": 25,
   "metadata": {},
   "outputs": [],
   "source": [
    "def standard_units(x):\n",
    "    return (x - np.average(x)) / np.std(x)"
   ]
  },
  {
   "cell_type": "code",
   "execution_count": 26,
   "metadata": {},
   "outputs": [],
   "source": [
    "ckd_new = ckd.select('Class').with_columns(\n",
    "    'Glucose_su', standard_units(ckd.column('Glucose')),\n",
    "    'Hemoglobin_su', standard_units(ckd.column('Hemoglobin')),\n",
    "    'WBC_su', standard_units(ckd.column('White Blood Cell Count'))\n",
    ")"
   ]
  },
  {
   "cell_type": "code",
   "execution_count": 27,
   "metadata": {},
   "outputs": [
    {
     "data": {
      "text/html": [
       "<table border=\"1\" class=\"dataframe\">\n",
       "    <thead>\n",
       "        <tr>\n",
       "            <th>Class</th> <th>Glucose_su</th> <th>Hemoglobin_su</th> <th>WBC_su</th>\n",
       "        </tr>\n",
       "    </thead>\n",
       "    <tbody>\n",
       "        <tr>\n",
       "            <td>1    </td> <td>-0.221549 </td> <td>-0.865744    </td> <td>-0.569768</td>\n",
       "        </tr>\n",
       "        <tr>\n",
       "            <td>1    </td> <td>-0.947597 </td> <td>-1.45745     </td> <td>1.16268  </td>\n",
       "        </tr>\n",
       "        <tr>\n",
       "            <td>1    </td> <td>3.84123   </td> <td>-1.00497     </td> <td>-1.27558 </td>\n",
       "        </tr>\n",
       "        <tr>\n",
       "            <td>1    </td> <td>0.396364  </td> <td>-2.81488     </td> <td>0.809777 </td>\n",
       "        </tr>\n",
       "        <tr>\n",
       "            <td>1    </td> <td>0.643529  </td> <td>-2.08395     </td> <td>0.232293 </td>\n",
       "        </tr>\n",
       "        <tr>\n",
       "            <td>1    </td> <td>-0.561402 </td> <td>-1.35303     </td> <td>-0.505603</td>\n",
       "        </tr>\n",
       "        <tr>\n",
       "            <td>1    </td> <td>2.04928   </td> <td>-0.413266    </td> <td>0.360623 </td>\n",
       "        </tr>\n",
       "        <tr>\n",
       "            <td>1    </td> <td>-0.947597 </td> <td>-1.28342     </td> <td>3.34429  </td>\n",
       "        </tr>\n",
       "        <tr>\n",
       "            <td>1    </td> <td>1.87936   </td> <td>-1.10939     </td> <td>-0.409356</td>\n",
       "        </tr>\n",
       "        <tr>\n",
       "            <td>1    </td> <td>0.489051  </td> <td>-1.35303     </td> <td>1.96475  </td>\n",
       "        </tr>\n",
       "    </tbody>\n",
       "</table>\n",
       "<p>... (148 rows omitted)</p>"
      ],
      "text/plain": [
       "Class | Glucose_su | Hemoglobin_su | WBC_su\n",
       "1     | -0.221549  | -0.865744     | -0.569768\n",
       "1     | -0.947597  | -1.45745      | 1.16268\n",
       "1     | 3.84123    | -1.00497      | -1.27558\n",
       "1     | 0.396364   | -2.81488      | 0.809777\n",
       "1     | 0.643529   | -2.08395      | 0.232293\n",
       "1     | -0.561402  | -1.35303      | -0.505603\n",
       "1     | 2.04928    | -0.413266     | 0.360623\n",
       "1     | -0.947597  | -1.28342      | 3.34429\n",
       "1     | 1.87936    | -1.10939      | -0.409356\n",
       "1     | 0.489051   | -1.35303      | 1.96475\n",
       "... (148 rows omitted)"
      ]
     },
     "execution_count": 27,
     "metadata": {},
     "output_type": "execute_result"
    }
   ],
   "source": [
    "ckd_new"
   ]
  },
  {
   "cell_type": "code",
   "execution_count": 28,
   "metadata": {},
   "outputs": [],
   "source": [
    "shuffled = ckd_new.sample(with_replacement=False) \n",
    "training_set = shuffled.take(np.arange(74))\n",
    "test_set  = shuffled.take(np.arange(74, 148))"
   ]
  },
  {
   "cell_type": "code",
   "execution_count": 29,
   "metadata": {},
   "outputs": [
    {
     "data": {
      "text/plain": [
       "0.9594594594594594"
      ]
     },
     "execution_count": 29,
     "metadata": {},
     "output_type": "execute_result"
    }
   ],
   "source": [
    "evaluate_accuracy(training_set, test_set, 3)"
   ]
  },
  {
   "cell_type": "code",
   "execution_count": 30,
   "metadata": {},
   "outputs": [],
   "source": [
    "shuffled = ckd.sample(with_replacement=False) \n",
    "training_set = shuffled.take(np.arange(74))\n",
    "test_set  = shuffled.take(np.arange(74, 148))"
   ]
  },
  {
   "cell_type": "code",
   "execution_count": 31,
   "metadata": {},
   "outputs": [
    {
     "data": {
      "text/plain": [
       "0.8108108108108109"
      ]
     },
     "execution_count": 31,
     "metadata": {},
     "output_type": "execute_result"
    }
   ],
   "source": [
    "evaluate_accuracy(training_set, test_set, 3)"
   ]
  }
 ],
 "metadata": {
  "kernelspec": {
   "display_name": "Python 3 (ipykernel)",
   "language": "python",
   "name": "python3"
  },
  "language_info": {
   "codemirror_mode": {
    "name": "ipython",
    "version": 3
   },
   "file_extension": ".py",
   "mimetype": "text/x-python",
   "name": "python",
   "nbconvert_exporter": "python",
   "pygments_lexer": "ipython3",
   "version": "3.9.7"
  }
 },
 "nbformat": 4,
 "nbformat_minor": 2
}
