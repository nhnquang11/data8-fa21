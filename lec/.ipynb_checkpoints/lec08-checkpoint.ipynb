{
 "cells": [
  {
   "cell_type": "code",
   "execution_count": 1,
   "metadata": {},
   "outputs": [],
   "source": [
    "from datascience import *\n",
    "import numpy as np\n",
    "import warnings\n",
    "warnings.filterwarnings(\"ignore\")\n",
    "\n",
    "%matplotlib inline\n",
    "import matplotlib.pyplot as plots\n",
    "plots.style.use('fivethirtyeight')\n",
    "plots.rcParams[\"patch.force_edgecolor\"] = True"
   ]
  },
  {
   "cell_type": "markdown",
   "metadata": {},
   "source": [
    "## Lecture 8 ##"
   ]
  },
  {
   "cell_type": "markdown",
   "metadata": {},
   "source": [
    "## Categorical Distribution ##"
   ]
  },
  {
   "cell_type": "code",
   "execution_count": 2,
   "metadata": {},
   "outputs": [
    {
     "data": {
      "text/html": [
       "<table border=\"1\" class=\"dataframe\">\n",
       "    <thead>\n",
       "        <tr>\n",
       "            <th>How confident</th> <th>Percent</th>\n",
       "        </tr>\n",
       "    </thead>\n",
       "    <tbody>\n",
       "        <tr>\n",
       "            <td>Not too / not at all</td> <td>16     </td>\n",
       "        </tr>\n",
       "        <tr>\n",
       "            <td>Somewhat            </td> <td>45     </td>\n",
       "        </tr>\n",
       "        <tr>\n",
       "            <td>Very                </td> <td>39     </td>\n",
       "        </tr>\n",
       "    </tbody>\n",
       "</table>"
      ],
      "text/plain": [
       "How confident        | Percent\n",
       "Not too / not at all | 16\n",
       "Somewhat             | 45\n",
       "Very                 | 39"
      ]
     },
     "execution_count": 2,
     "metadata": {},
     "output_type": "execute_result"
    }
   ],
   "source": [
    "# https://www.pewresearch.org/internet/2020/07/28/parenting-children-in-the-age-of-screens/\n",
    "# \"I am ____ confident in my ability to know how much screen time is appropriate for my child.\"\n",
    "\n",
    "parent_responses = Table().with_columns(\n",
    "    'How confident', make_array('Not too / not at all', 'Somewhat', 'Very'),\n",
    "    'Percent', make_array(16, 45, 39)\n",
    ")\n",
    "parent_responses"
   ]
  },
  {
   "cell_type": "code",
   "execution_count": 3,
   "metadata": {},
   "outputs": [
    {
     "data": {
      "text/plain": [
       "100"
      ]
     },
     "execution_count": 3,
     "metadata": {},
     "output_type": "execute_result"
    }
   ],
   "source": [
    "sum(parent_responses.column('Percent'))"
   ]
  },
  {
   "cell_type": "code",
   "execution_count": 4,
   "metadata": {},
   "outputs": [
    {
     "data": {
      "image/png": "[encoded data removed]",
      "text/plain": [
       "<Figure size 432x288 with 1 Axes>"
      ]
     },
     "metadata": {},
     "output_type": "display_data"
    }
   ],
   "source": [
    "parent_responses.barh('How confident')"
   ]
  },
  {
   "cell_type": "markdown",
   "metadata": {},
   "source": [
    "## Categorical Distribution: Finding the Counts ##"
   ]
  },
  {
   "cell_type": "code",
   "execution_count": 5,
   "metadata": {},
   "outputs": [
    {
     "data": {
      "text/html": [
       "<table border=\"1\" class=\"dataframe\">\n",
       "    <thead>\n",
       "        <tr>\n",
       "            <th>Title</th> <th>Studio</th> <th>Gross</th> <th>Gross (Adjusted)</th> <th>Year</th>\n",
       "        </tr>\n",
       "    </thead>\n",
       "    <tbody>\n",
       "        <tr>\n",
       "            <td>Gone with the Wind              </td> <td>MGM            </td> <td>198676459</td> <td>1796176700      </td> <td>1939</td>\n",
       "        </tr>\n",
       "        <tr>\n",
       "            <td>Star Wars                       </td> <td>Fox            </td> <td>460998007</td> <td>1583483200      </td> <td>1977</td>\n",
       "        </tr>\n",
       "        <tr>\n",
       "            <td>The Sound of Music              </td> <td>Fox            </td> <td>158671368</td> <td>1266072700      </td> <td>1965</td>\n",
       "        </tr>\n",
       "        <tr>\n",
       "            <td>E.T.: The Extra-Terrestrial     </td> <td>Universal      </td> <td>435110554</td> <td>1261085000      </td> <td>1982</td>\n",
       "        </tr>\n",
       "        <tr>\n",
       "            <td>Titanic                         </td> <td>Paramount      </td> <td>658672302</td> <td>1204368000      </td> <td>1997</td>\n",
       "        </tr>\n",
       "        <tr>\n",
       "            <td>The Ten Commandments            </td> <td>Paramount      </td> <td>65500000 </td> <td>1164590000      </td> <td>1956</td>\n",
       "        </tr>\n",
       "        <tr>\n",
       "            <td>Jaws                            </td> <td>Universal      </td> <td>260000000</td> <td>1138620700      </td> <td>1975</td>\n",
       "        </tr>\n",
       "        <tr>\n",
       "            <td>Doctor Zhivago                  </td> <td>MGM            </td> <td>111721910</td> <td>1103564200      </td> <td>1965</td>\n",
       "        </tr>\n",
       "        <tr>\n",
       "            <td>The Exorcist                    </td> <td>Warner Brothers</td> <td>232906145</td> <td>983226600       </td> <td>1973</td>\n",
       "        </tr>\n",
       "        <tr>\n",
       "            <td>Snow White and the Seven Dwarves</td> <td>Disney         </td> <td>184925486</td> <td>969010000       </td> <td>1937</td>\n",
       "        </tr>\n",
       "    </tbody>\n",
       "</table>\n",
       "<p>... (190 rows omitted)</p>"
      ],
      "text/plain": [
       "Title                            | Studio          | Gross     | Gross (Adjusted) | Year\n",
       "Gone with the Wind               | MGM             | 198676459 | 1796176700       | 1939\n",
       "Star Wars                        | Fox             | 460998007 | 1583483200       | 1977\n",
       "The Sound of Music               | Fox             | 158671368 | 1266072700       | 1965\n",
       "E.T.: The Extra-Terrestrial      | Universal       | 435110554 | 1261085000       | 1982\n",
       "Titanic                          | Paramount       | 658672302 | 1204368000       | 1997\n",
       "The Ten Commandments             | Paramount       | 65500000  | 1164590000       | 1956\n",
       "Jaws                             | Universal       | 260000000 | 1138620700       | 1975\n",
       "Doctor Zhivago                   | MGM             | 111721910 | 1103564200       | 1965\n",
       "The Exorcist                     | Warner Brothers | 232906145 | 983226600        | 1973\n",
       "Snow White and the Seven Dwarves | Disney          | 184925486 | 969010000        | 1937\n",
       "... (190 rows omitted)"
      ]
     },
     "execution_count": 5,
     "metadata": {},
     "output_type": "execute_result"
    }
   ],
   "source": [
    "top_movies = Table.read_table('top_movies_2017.csv')\n",
    "top_movies"
   ]
  },
  {
   "cell_type": "code",
   "execution_count": 6,
   "metadata": {},
   "outputs": [
    {
     "data": {
      "text/html": [
       "<table border=\"1\" class=\"dataframe\">\n",
       "    <thead>\n",
       "        <tr>\n",
       "            <th>Studio</th>\n",
       "        </tr>\n",
       "    </thead>\n",
       "    <tbody>\n",
       "        <tr>\n",
       "            <td>MGM      </td>\n",
       "        </tr>\n",
       "        <tr>\n",
       "            <td>Fox      </td>\n",
       "        </tr>\n",
       "        <tr>\n",
       "            <td>Fox      </td>\n",
       "        </tr>\n",
       "        <tr>\n",
       "            <td>Universal</td>\n",
       "        </tr>\n",
       "    </tbody>\n",
       "</table>\n",
       "<p>... (196 rows omitted)</p>"
      ],
      "text/plain": [
       "<IPython.core.display.HTML object>"
      ]
     },
     "metadata": {},
     "output_type": "display_data"
    }
   ],
   "source": [
    "studios = top_movies.select('Studio')\n",
    "studios.show(4)"
   ]
  },
  {
   "cell_type": "code",
   "execution_count": 7,
   "metadata": {},
   "outputs": [
    {
     "data": {
      "text/html": [
       "<table border=\"1\" class=\"dataframe\">\n",
       "    <thead>\n",
       "        <tr>\n",
       "            <th>Studio</th> <th>count</th>\n",
       "        </tr>\n",
       "    </thead>\n",
       "    <tbody>\n",
       "        <tr>\n",
       "            <td>AVCO       </td> <td>1    </td>\n",
       "        </tr>\n",
       "        <tr>\n",
       "            <td>Buena Vista</td> <td>35   </td>\n",
       "        </tr>\n",
       "        <tr>\n",
       "            <td>Columbia   </td> <td>9    </td>\n",
       "        </tr>\n",
       "        <tr>\n",
       "            <td>Disney     </td> <td>11   </td>\n",
       "        </tr>\n",
       "        <tr>\n",
       "            <td>Dreamworks </td> <td>3    </td>\n",
       "        </tr>\n",
       "        <tr>\n",
       "            <td>Fox        </td> <td>24   </td>\n",
       "        </tr>\n",
       "        <tr>\n",
       "            <td>IFC        </td> <td>1    </td>\n",
       "        </tr>\n",
       "        <tr>\n",
       "            <td>Lionsgate  </td> <td>3    </td>\n",
       "        </tr>\n",
       "        <tr>\n",
       "            <td>MGM        </td> <td>7    </td>\n",
       "        </tr>\n",
       "        <tr>\n",
       "            <td>Metro      </td> <td>1    </td>\n",
       "        </tr>\n",
       "    </tbody>\n",
       "</table>\n",
       "<p>... (13 rows omitted)</p>"
      ],
      "text/plain": [
       "Studio      | count\n",
       "AVCO        | 1\n",
       "Buena Vista | 35\n",
       "Columbia    | 9\n",
       "Disney      | 11\n",
       "Dreamworks  | 3\n",
       "Fox         | 24\n",
       "IFC         | 1\n",
       "Lionsgate   | 3\n",
       "MGM         | 7\n",
       "Metro       | 1\n",
       "... (13 rows omitted)"
      ]
     },
     "execution_count": 7,
     "metadata": {},
     "output_type": "execute_result"
    }
   ],
   "source": [
    "studio_distribution = studios.group('Studio')\n",
    "studio_distribution"
   ]
  },
  {
   "cell_type": "code",
   "execution_count": 8,
   "metadata": {},
   "outputs": [
    {
     "data": {
      "text/plain": [
       "200"
      ]
     },
     "execution_count": 8,
     "metadata": {},
     "output_type": "execute_result"
    }
   ],
   "source": [
    "sum(studio_distribution.column('count'))"
   ]
  },
  {
   "cell_type": "code",
   "execution_count": 9,
   "metadata": {},
   "outputs": [
    {
     "data": {
      "image/png": "[encoded data removed]",
      "text/plain": [
       "<Figure size 432x828 with 1 Axes>"
      ]
     },
     "metadata": {},
     "output_type": "display_data"
    }
   ],
   "source": [
    "studio_distribution.barh('Studio')"
   ]
  },
  {
   "cell_type": "code",
   "execution_count": 10,
   "metadata": {},
   "outputs": [
    {
     "data": {
      "image/png": "[encoded data removed]",
      "text/plain": [
       "<Figure size 432x828 with 1 Axes>"
      ]
     },
     "metadata": {},
     "output_type": "display_data"
    }
   ],
   "source": [
    "studio_distribution.sort('count', descending=True).barh('Studio')"
   ]
  },
  {
   "cell_type": "markdown",
   "metadata": {},
   "source": [
    "## Distribution of a Quantitative Variable ##"
   ]
  },
  {
   "cell_type": "code",
   "execution_count": 11,
   "metadata": {},
   "outputs": [],
   "source": [
    "ages = 2021 - top_movies.column('Year')\n",
    "top_movies = top_movies.with_column('Age', ages)"
   ]
  },
  {
   "cell_type": "code",
   "execution_count": 12,
   "metadata": {},
   "outputs": [
    {
     "data": {
      "text/html": [
       "<table border=\"1\" class=\"dataframe\">\n",
       "    <thead>\n",
       "        <tr>\n",
       "            <th>Title</th> <th>Studio</th> <th>Gross</th> <th>Gross (Adjusted)</th> <th>Year</th> <th>Age</th>\n",
       "        </tr>\n",
       "    </thead>\n",
       "    <tbody>\n",
       "        <tr>\n",
       "            <td>Gone with the Wind              </td> <td>MGM            </td> <td>198676459</td> <td>1796176700      </td> <td>1939</td> <td>82  </td>\n",
       "        </tr>\n",
       "        <tr>\n",
       "            <td>Star Wars                       </td> <td>Fox            </td> <td>460998007</td> <td>1583483200      </td> <td>1977</td> <td>44  </td>\n",
       "        </tr>\n",
       "        <tr>\n",
       "            <td>The Sound of Music              </td> <td>Fox            </td> <td>158671368</td> <td>1266072700      </td> <td>1965</td> <td>56  </td>\n",
       "        </tr>\n",
       "        <tr>\n",
       "            <td>E.T.: The Extra-Terrestrial     </td> <td>Universal      </td> <td>435110554</td> <td>1261085000      </td> <td>1982</td> <td>39  </td>\n",
       "        </tr>\n",
       "        <tr>\n",
       "            <td>Titanic                         </td> <td>Paramount      </td> <td>658672302</td> <td>1204368000      </td> <td>1997</td> <td>24  </td>\n",
       "        </tr>\n",
       "        <tr>\n",
       "            <td>The Ten Commandments            </td> <td>Paramount      </td> <td>65500000 </td> <td>1164590000      </td> <td>1956</td> <td>65  </td>\n",
       "        </tr>\n",
       "        <tr>\n",
       "            <td>Jaws                            </td> <td>Universal      </td> <td>260000000</td> <td>1138620700      </td> <td>1975</td> <td>46  </td>\n",
       "        </tr>\n",
       "        <tr>\n",
       "            <td>Doctor Zhivago                  </td> <td>MGM            </td> <td>111721910</td> <td>1103564200      </td> <td>1965</td> <td>56  </td>\n",
       "        </tr>\n",
       "        <tr>\n",
       "            <td>The Exorcist                    </td> <td>Warner Brothers</td> <td>232906145</td> <td>983226600       </td> <td>1973</td> <td>48  </td>\n",
       "        </tr>\n",
       "        <tr>\n",
       "            <td>Snow White and the Seven Dwarves</td> <td>Disney         </td> <td>184925486</td> <td>969010000       </td> <td>1937</td> <td>84  </td>\n",
       "        </tr>\n",
       "    </tbody>\n",
       "</table>\n",
       "<p>... (190 rows omitted)</p>"
      ],
      "text/plain": [
       "Title                            | Studio          | Gross     | Gross (Adjusted) | Year | Age\n",
       "Gone with the Wind               | MGM             | 198676459 | 1796176700       | 1939 | 82\n",
       "Star Wars                        | Fox             | 460998007 | 1583483200       | 1977 | 44\n",
       "The Sound of Music               | Fox             | 158671368 | 1266072700       | 1965 | 56\n",
       "E.T.: The Extra-Terrestrial      | Universal       | 435110554 | 1261085000       | 1982 | 39\n",
       "Titanic                          | Paramount       | 658672302 | 1204368000       | 1997 | 24\n",
       "The Ten Commandments             | Paramount       | 65500000  | 1164590000       | 1956 | 65\n",
       "Jaws                             | Universal       | 260000000 | 1138620700       | 1975 | 46\n",
       "Doctor Zhivago                   | MGM             | 111721910 | 1103564200       | 1965 | 56\n",
       "The Exorcist                     | Warner Brothers | 232906145 | 983226600        | 1973 | 48\n",
       "Snow White and the Seven Dwarves | Disney          | 184925486 | 969010000        | 1937 | 84\n",
       "... (190 rows omitted)"
      ]
     },
     "execution_count": 12,
     "metadata": {},
     "output_type": "execute_result"
    }
   ],
   "source": [
    "top_movies"
   ]
  },
  {
   "cell_type": "markdown",
   "metadata": {},
   "source": [
    "## Finding the Counts: Binning ##"
   ]
  },
  {
   "cell_type": "code",
   "execution_count": 13,
   "metadata": {},
   "outputs": [
    {
     "data": {
      "text/plain": [
       "(4, 100)"
      ]
     },
     "execution_count": 13,
     "metadata": {},
     "output_type": "execute_result"
    }
   ],
   "source": [
    "min(ages), max(ages)"
   ]
  },
  {
   "cell_type": "code",
   "execution_count": 14,
   "metadata": {},
   "outputs": [
    {
     "data": {
      "text/html": [
       "<table border=\"1\" class=\"dataframe\">\n",
       "    <thead>\n",
       "        <tr>\n",
       "            <th>bin</th> <th>Age count</th>\n",
       "        </tr>\n",
       "    </thead>\n",
       "    <tbody>\n",
       "        <tr>\n",
       "            <td>0   </td> <td>67       </td>\n",
       "        </tr>\n",
       "        <tr>\n",
       "            <td>20  </td> <td>60       </td>\n",
       "        </tr>\n",
       "        <tr>\n",
       "            <td>40  </td> <td>46       </td>\n",
       "        </tr>\n",
       "        <tr>\n",
       "            <td>60  </td> <td>21       </td>\n",
       "        </tr>\n",
       "        <tr>\n",
       "            <td>80  </td> <td>6        </td>\n",
       "        </tr>\n",
       "        <tr>\n",
       "            <td>100 </td> <td>0        </td>\n",
       "        </tr>\n",
       "    </tbody>\n",
       "</table>"
      ],
      "text/plain": [
       "bin  | Age count\n",
       "0    | 67\n",
       "20   | 60\n",
       "40   | 46\n",
       "60   | 21\n",
       "80   | 6\n",
       "100  | 0"
      ]
     },
     "execution_count": 14,
     "metadata": {},
     "output_type": "execute_result"
    }
   ],
   "source": [
    "equal_bins = top_movies.bin('Age', bins = np.arange(0, 101, 20))\n",
    "equal_bins"
   ]
  },
  {
   "cell_type": "code",
   "execution_count": 15,
   "metadata": {},
   "outputs": [
    {
     "data": {
      "text/plain": [
       "200"
      ]
     },
     "execution_count": 15,
     "metadata": {},
     "output_type": "execute_result"
    }
   ],
   "source": [
    "sum(equal_bins.column('Age count'))"
   ]
  },
  {
   "cell_type": "code",
   "execution_count": 16,
   "metadata": {},
   "outputs": [
    {
     "data": {
      "text/plain": [
       "46"
      ]
     },
     "execution_count": 16,
     "metadata": {},
     "output_type": "execute_result"
    }
   ],
   "source": [
    "# All bins except the last are of the form [a, b)\n",
    "top_movies.where(\n",
    "    'Age', are.above_or_equal_to(40)).where(\n",
    "    'Age', are.below(60)).num_rows"
   ]
  },
  {
   "cell_type": "code",
   "execution_count": 17,
   "metadata": {},
   "outputs": [
    {
     "data": {
      "text/html": [
       "<table border=\"1\" class=\"dataframe\">\n",
       "    <thead>\n",
       "        <tr>\n",
       "            <th>Title</th> <th>Studio</th> <th>Gross</th> <th>Gross (Adjusted)</th> <th>Year</th> <th>Age</th>\n",
       "        </tr>\n",
       "    </thead>\n",
       "    <tbody>\n",
       "        <tr>\n",
       "            <td>The Four Horsemen of the Apocalypse</td> <td>Metro </td> <td>9183673</td> <td>408214300       </td> <td>1921</td> <td>100 </td>\n",
       "        </tr>\n",
       "    </tbody>\n",
       "</table>"
      ],
      "text/plain": [
       "Title                               | Studio | Gross   | Gross (Adjusted) | Year | Age\n",
       "The Four Horsemen of the Apocalypse | Metro  | 9183673 | 408214300        | 1921 | 100"
      ]
     },
     "execution_count": 17,
     "metadata": {},
     "output_type": "execute_result"
    }
   ],
   "source": [
    "top_movies.where('Age', 100)"
   ]
  },
  {
   "cell_type": "code",
   "execution_count": 18,
   "metadata": {},
   "outputs": [
    {
     "data": {
      "text/plain": [
       "5"
      ]
     },
     "execution_count": 18,
     "metadata": {},
     "output_type": "execute_result"
    }
   ],
   "source": [
    "# The last bin is NOT [80, 100)\n",
    "top_movies.where(\n",
    "    'Age', are.above_or_equal_to(80)).where(\n",
    "    'Age', are.below(100)).num_rows"
   ]
  },
  {
   "cell_type": "code",
   "execution_count": 19,
   "metadata": {},
   "outputs": [
    {
     "data": {
      "text/plain": [
       "6"
      ]
     },
     "execution_count": 19,
     "metadata": {},
     "output_type": "execute_result"
    }
   ],
   "source": [
    "# Instead, it is [80, 100]\n",
    "top_movies.where(\n",
    "    'Age', are.above_or_equal_to(80)).where(\n",
    "    'Age', are.below_or_equal_to(100)).num_rows"
   ]
  },
  {
   "cell_type": "code",
   "execution_count": 20,
   "metadata": {},
   "outputs": [],
   "source": [
    "my_bins = make_array(0, 10, 20, 40, 60, 100)"
   ]
  },
  {
   "cell_type": "code",
   "execution_count": 21,
   "metadata": {},
   "outputs": [
    {
     "data": {
      "text/html": [
       "<table border=\"1\" class=\"dataframe\">\n",
       "    <thead>\n",
       "        <tr>\n",
       "            <th>bin</th> <th>Age count</th>\n",
       "        </tr>\n",
       "    </thead>\n",
       "    <tbody>\n",
       "        <tr>\n",
       "            <td>0   </td> <td>28       </td>\n",
       "        </tr>\n",
       "        <tr>\n",
       "            <td>10  </td> <td>39       </td>\n",
       "        </tr>\n",
       "        <tr>\n",
       "            <td>20  </td> <td>60       </td>\n",
       "        </tr>\n",
       "        <tr>\n",
       "            <td>40  </td> <td>46       </td>\n",
       "        </tr>\n",
       "        <tr>\n",
       "            <td>60  </td> <td>27       </td>\n",
       "        </tr>\n",
       "        <tr>\n",
       "            <td>100 </td> <td>0        </td>\n",
       "        </tr>\n",
       "    </tbody>\n",
       "</table>"
      ],
      "text/plain": [
       "bin  | Age count\n",
       "0    | 28\n",
       "10   | 39\n",
       "20   | 60\n",
       "40   | 46\n",
       "60   | 27\n",
       "100  | 0"
      ]
     },
     "execution_count": 21,
     "metadata": {},
     "output_type": "execute_result"
    }
   ],
   "source": [
    "binned_data = top_movies.bin('Age', bins = my_bins)\n",
    "binned_data"
   ]
  },
  {
   "cell_type": "code",
   "execution_count": 22,
   "metadata": {},
   "outputs": [
    {
     "data": {
      "text/plain": [
       "200"
      ]
     },
     "execution_count": 22,
     "metadata": {},
     "output_type": "execute_result"
    }
   ],
   "source": [
    "sum(binned_data.column('Age count'))"
   ]
  },
  {
   "cell_type": "code",
   "execution_count": 23,
   "metadata": {},
   "outputs": [
    {
     "data": {
      "text/plain": [
       "27"
      ]
     },
     "execution_count": 23,
     "metadata": {},
     "output_type": "execute_result"
    }
   ],
   "source": [
    "# The last bin is [60, 100]\n",
    "top_movies.where(\n",
    "    'Age', are.above_or_equal_to(60)).where(\n",
    "    'Age', are.below_or_equal_to(100)).num_rows"
   ]
  },
  {
   "cell_type": "markdown",
   "metadata": {},
   "source": [
    "## Histogram: Percent = Area ##"
   ]
  },
  {
   "cell_type": "code",
   "execution_count": 24,
   "metadata": {},
   "outputs": [
    {
     "data": {
      "image/png": "[encoded data removed]",
      "text/plain": [
       "<Figure size 432x288 with 1 Axes>"
      ]
     },
     "metadata": {},
     "output_type": "display_data"
    }
   ],
   "source": [
    "# Not specifying any bins\n",
    "top_movies.hist('Age', unit='Year')"
   ]
  },
  {
   "cell_type": "code",
   "execution_count": 25,
   "metadata": {},
   "outputs": [
    {
     "data": {
      "image/png": "[encoded data removed]",
      "text/plain": [
       "<Figure size 432x288 with 1 Axes>"
      ]
     },
     "metadata": {},
     "output_type": "display_data"
    }
   ],
   "source": [
    "# Equally spaced bins of width 20\n",
    "top_movies.hist('Age', bins = np.arange(0, 101, 20), unit = 'Year')"
   ]
  },
  {
   "cell_type": "code",
   "execution_count": 26,
   "metadata": {},
   "outputs": [
    {
     "data": {
      "text/plain": [
       "30.0"
      ]
     },
     "execution_count": 26,
     "metadata": {},
     "output_type": "execute_result"
    }
   ],
   "source": [
    "# Percent in [20, 40) bin = height * width\n",
    "\n",
    "1.5 * (40 - 20)"
   ]
  },
  {
   "cell_type": "code",
   "execution_count": 27,
   "metadata": {},
   "outputs": [
    {
     "data": {
      "text/html": [
       "<table border=\"1\" class=\"dataframe\">\n",
       "    <thead>\n",
       "        <tr>\n",
       "            <th>bin</th> <th>Age count</th>\n",
       "        </tr>\n",
       "    </thead>\n",
       "    <tbody>\n",
       "        <tr>\n",
       "            <td>0   </td> <td>67       </td>\n",
       "        </tr>\n",
       "        <tr>\n",
       "            <td>20  </td> <td>60       </td>\n",
       "        </tr>\n",
       "        <tr>\n",
       "            <td>40  </td> <td>46       </td>\n",
       "        </tr>\n",
       "        <tr>\n",
       "            <td>60  </td> <td>21       </td>\n",
       "        </tr>\n",
       "        <tr>\n",
       "            <td>80  </td> <td>6        </td>\n",
       "        </tr>\n",
       "        <tr>\n",
       "            <td>100 </td> <td>0        </td>\n",
       "        </tr>\n",
       "    </tbody>\n",
       "</table>"
      ],
      "text/plain": [
       "bin  | Age count\n",
       "0    | 67\n",
       "20   | 60\n",
       "40   | 46\n",
       "60   | 21\n",
       "80   | 6\n",
       "100  | 0"
      ]
     },
     "execution_count": 27,
     "metadata": {},
     "output_type": "execute_result"
    }
   ],
   "source": [
    "equal_bins"
   ]
  },
  {
   "cell_type": "code",
   "execution_count": 28,
   "metadata": {},
   "outputs": [
    {
     "data": {
      "text/plain": [
       "0.29999999999999999"
      ]
     },
     "execution_count": 28,
     "metadata": {},
     "output_type": "execute_result"
    }
   ],
   "source": [
    "total_count = sum(equal_bins.column('Age count'))\n",
    "60/total_count"
   ]
  },
  {
   "cell_type": "markdown",
   "metadata": {},
   "source": [
    "## The Vertical Axis ##"
   ]
  },
  {
   "cell_type": "code",
   "execution_count": 29,
   "metadata": {},
   "outputs": [
    {
     "data": {
      "text/plain": [
       "array([  0,  10,  20,  40,  60, 100])"
      ]
     },
     "execution_count": 29,
     "metadata": {},
     "output_type": "execute_result"
    }
   ],
   "source": [
    "my_bins"
   ]
  },
  {
   "cell_type": "code",
   "execution_count": 30,
   "metadata": {},
   "outputs": [
    {
     "data": {
      "text/html": [
       "<table border=\"1\" class=\"dataframe\">\n",
       "    <thead>\n",
       "        <tr>\n",
       "            <th>bin</th> <th>Age count</th>\n",
       "        </tr>\n",
       "    </thead>\n",
       "    <tbody>\n",
       "        <tr>\n",
       "            <td>0   </td> <td>28       </td>\n",
       "        </tr>\n",
       "        <tr>\n",
       "            <td>10  </td> <td>39       </td>\n",
       "        </tr>\n",
       "        <tr>\n",
       "            <td>20  </td> <td>60       </td>\n",
       "        </tr>\n",
       "        <tr>\n",
       "            <td>40  </td> <td>46       </td>\n",
       "        </tr>\n",
       "        <tr>\n",
       "            <td>60  </td> <td>27       </td>\n",
       "        </tr>\n",
       "        <tr>\n",
       "            <td>100 </td> <td>0        </td>\n",
       "        </tr>\n",
       "    </tbody>\n",
       "</table>"
      ],
      "text/plain": [
       "bin  | Age count\n",
       "0    | 28\n",
       "10   | 39\n",
       "20   | 60\n",
       "40   | 46\n",
       "60   | 27\n",
       "100  | 0"
      ]
     },
     "execution_count": 30,
     "metadata": {},
     "output_type": "execute_result"
    }
   ],
   "source": [
    "binned_data"
   ]
  },
  {
   "cell_type": "code",
   "execution_count": 31,
   "metadata": {},
   "outputs": [
    {
     "data": {
      "image/png": "[encoded data removed]",
      "text/plain": [
       "<Figure size 432x288 with 1 Axes>"
      ]
     },
     "metadata": {},
     "output_type": "display_data"
    }
   ],
   "source": [
    "top_movies.hist('Age', bins = my_bins, unit = 'Year')"
   ]
  },
  {
   "cell_type": "code",
   "execution_count": 32,
   "metadata": {},
   "outputs": [
    {
     "data": {
      "image/png": "[encoded data removed]",
      "text/plain": [
       "<Figure size 432x288 with 1 Axes>"
      ]
     },
     "metadata": {},
     "output_type": "display_data"
    }
   ],
   "source": [
    "\"\"\"Plotting the counts on the vertical axis is a bad idea.\"\"\"\n",
    "top_movies.hist('Age', bins = my_bins, unit = 'Year', normed=False)"
   ]
  },
  {
   "cell_type": "code",
   "execution_count": 33,
   "metadata": {},
   "outputs": [
    {
     "data": {
      "image/png": "[encoded data removed]",
      "text/plain": [
       "<Figure size 432x288 with 1 Axes>"
      ]
     },
     "metadata": {},
     "output_type": "display_data"
    }
   ],
   "source": [
    "top_movies.hist('Age', bins = my_bins, unit = 'Year')"
   ]
  },
  {
   "cell_type": "code",
   "execution_count": 34,
   "metadata": {},
   "outputs": [],
   "source": [
    "# Add a column containing what percent of movies are in each bin\n",
    "binned_data = binned_data.with_column(\n",
    "    'Percent', 100*binned_data.column('Age count')/200)"
   ]
  },
  {
   "cell_type": "code",
   "execution_count": 35,
   "metadata": {},
   "outputs": [
    {
     "data": {
      "text/html": [
       "<table border=\"1\" class=\"dataframe\">\n",
       "    <thead>\n",
       "        <tr>\n",
       "            <th>bin</th> <th>Age count</th> <th>Percent</th>\n",
       "        </tr>\n",
       "    </thead>\n",
       "    <tbody>\n",
       "        <tr>\n",
       "            <td>0   </td> <td>28       </td> <td>14     </td>\n",
       "        </tr>\n",
       "        <tr>\n",
       "            <td>10  </td> <td>39       </td> <td>19.5   </td>\n",
       "        </tr>\n",
       "        <tr>\n",
       "            <td>20  </td> <td>60       </td> <td>30     </td>\n",
       "        </tr>\n",
       "        <tr>\n",
       "            <td>40  </td> <td>46       </td> <td>23     </td>\n",
       "        </tr>\n",
       "        <tr>\n",
       "            <td>60  </td> <td>27       </td> <td>13.5   </td>\n",
       "        </tr>\n",
       "        <tr>\n",
       "            <td>100 </td> <td>0        </td> <td>0      </td>\n",
       "        </tr>\n",
       "    </tbody>\n",
       "</table>"
      ],
      "text/plain": [
       "bin  | Age count | Percent\n",
       "0    | 28        | 14\n",
       "10   | 39        | 19.5\n",
       "20   | 60        | 30\n",
       "40   | 46        | 23\n",
       "60   | 27        | 13.5\n",
       "100  | 0         | 0"
      ]
     },
     "execution_count": 35,
     "metadata": {},
     "output_type": "execute_result"
    }
   ],
   "source": [
    "binned_data"
   ]
  },
  {
   "cell_type": "markdown",
   "metadata": {},
   "source": [
    "## Finding Height ##\n",
    "\n",
    "### Height of the [40, 60) bar"
   ]
  },
  {
   "cell_type": "code",
   "execution_count": 36,
   "metadata": {},
   "outputs": [
    {
     "data": {
      "text/plain": [
       "1.15"
      ]
     },
     "execution_count": 36,
     "metadata": {},
     "output_type": "execute_result"
    }
   ],
   "source": [
    "# Height of [40, 60) bar\n",
    "\n",
    "percent_in_bin = 23\n",
    "width_of_bin = 60 - 40\n",
    "height_of_bar = percent_in_bin / width_of_bin\n",
    "height_of_bar"
   ]
  },
  {
   "cell_type": "markdown",
   "metadata": {},
   "source": [
    "### Heights of all the bars"
   ]
  },
  {
   "cell_type": "code",
   "execution_count": 37,
   "metadata": {},
   "outputs": [
    {
     "data": {
      "text/html": [
       "<table border=\"1\" class=\"dataframe\">\n",
       "    <thead>\n",
       "        <tr>\n",
       "            <th>bin</th> <th>Age count</th> <th>Percent</th>\n",
       "        </tr>\n",
       "    </thead>\n",
       "    <tbody>\n",
       "        <tr>\n",
       "            <td>0   </td> <td>28       </td> <td>14     </td>\n",
       "        </tr>\n",
       "        <tr>\n",
       "            <td>10  </td> <td>39       </td> <td>19.5   </td>\n",
       "        </tr>\n",
       "        <tr>\n",
       "            <td>20  </td> <td>60       </td> <td>30     </td>\n",
       "        </tr>\n",
       "        <tr>\n",
       "            <td>40  </td> <td>46       </td> <td>23     </td>\n",
       "        </tr>\n",
       "        <tr>\n",
       "            <td>60  </td> <td>27       </td> <td>13.5   </td>\n",
       "        </tr>\n",
       "    </tbody>\n",
       "</table>"
      ],
      "text/plain": [
       "bin  | Age count | Percent\n",
       "0    | 28        | 14\n",
       "10   | 39        | 19.5\n",
       "20   | 60        | 30\n",
       "40   | 46        | 23\n",
       "60   | 27        | 13.5"
      ]
     },
     "execution_count": 37,
     "metadata": {},
     "output_type": "execute_result"
    }
   ],
   "source": [
    "# Get the bin left ends\n",
    "bin_lefts = binned_data.take(np.arange(binned_data.num_rows - 1))\n",
    "bin_lefts"
   ]
  },
  {
   "cell_type": "code",
   "execution_count": 38,
   "metadata": {},
   "outputs": [
    {
     "data": {
      "text/html": [
       "<table border=\"1\" class=\"dataframe\">\n",
       "    <thead>\n",
       "        <tr>\n",
       "            <th>bin</th> <th>Age count</th> <th>Percent</th> <th>Width</th>\n",
       "        </tr>\n",
       "    </thead>\n",
       "    <tbody>\n",
       "        <tr>\n",
       "            <td>0   </td> <td>28       </td> <td>14     </td> <td>10   </td>\n",
       "        </tr>\n",
       "        <tr>\n",
       "            <td>10  </td> <td>39       </td> <td>19.5   </td> <td>10   </td>\n",
       "        </tr>\n",
       "        <tr>\n",
       "            <td>20  </td> <td>60       </td> <td>30     </td> <td>20   </td>\n",
       "        </tr>\n",
       "        <tr>\n",
       "            <td>40  </td> <td>46       </td> <td>23     </td> <td>20   </td>\n",
       "        </tr>\n",
       "        <tr>\n",
       "            <td>60  </td> <td>27       </td> <td>13.5   </td> <td>40   </td>\n",
       "        </tr>\n",
       "    </tbody>\n",
       "</table>"
      ],
      "text/plain": [
       "bin  | Age count | Percent | Width\n",
       "0    | 28        | 14      | 10\n",
       "10   | 39        | 19.5    | 10\n",
       "20   | 60        | 30      | 20\n",
       "40   | 46        | 23      | 20\n",
       "60   | 27        | 13.5    | 40"
      ]
     },
     "execution_count": 38,
     "metadata": {},
     "output_type": "execute_result"
    }
   ],
   "source": [
    "# Get the bin widths\n",
    "bin_widths = np.diff(binned_data.column('bin'))\n",
    "bin_lefts_and_widths = bin_lefts.with_column('Width', bin_widths)\n",
    "bin_lefts_and_widths"
   ]
  },
  {
   "cell_type": "code",
   "execution_count": 39,
   "metadata": {},
   "outputs": [
    {
     "data": {
      "text/html": [
       "<table border=\"1\" class=\"dataframe\">\n",
       "    <thead>\n",
       "        <tr>\n",
       "            <th>bin</th> <th>Age count</th> <th>Percent</th> <th>Width</th> <th>Height</th>\n",
       "        </tr>\n",
       "    </thead>\n",
       "    <tbody>\n",
       "        <tr>\n",
       "            <td>0   </td> <td>28       </td> <td>14     </td> <td>10   </td> <td>1.4   </td>\n",
       "        </tr>\n",
       "        <tr>\n",
       "            <td>10  </td> <td>39       </td> <td>19.5   </td> <td>10   </td> <td>1.95  </td>\n",
       "        </tr>\n",
       "        <tr>\n",
       "            <td>20  </td> <td>60       </td> <td>30     </td> <td>20   </td> <td>1.5   </td>\n",
       "        </tr>\n",
       "        <tr>\n",
       "            <td>40  </td> <td>46       </td> <td>23     </td> <td>20   </td> <td>1.15  </td>\n",
       "        </tr>\n",
       "        <tr>\n",
       "            <td>60  </td> <td>27       </td> <td>13.5   </td> <td>40   </td> <td>0.3375</td>\n",
       "        </tr>\n",
       "    </tbody>\n",
       "</table>"
      ],
      "text/plain": [
       "bin  | Age count | Percent | Width | Height\n",
       "0    | 28        | 14      | 10    | 1.4\n",
       "10   | 39        | 19.5    | 10    | 1.95\n",
       "20   | 60        | 30      | 20    | 1.5\n",
       "40   | 46        | 23      | 20    | 1.15\n",
       "60   | 27        | 13.5    | 40    | 0.3375"
      ]
     },
     "execution_count": 39,
     "metadata": {},
     "output_type": "execute_result"
    }
   ],
   "source": [
    "# Get the bin heights\n",
    "bin_heights = bin_lefts.column('Percent') / bin_widths\n",
    "all_histogram_data = bin_lefts_and_widths.with_column('Height', bin_heights)\n",
    "all_histogram_data"
   ]
  },
  {
   "cell_type": "code",
   "execution_count": 40,
   "metadata": {},
   "outputs": [
    {
     "data": {
      "image/png": "[encoded data removed]",
      "text/plain": [
       "<Figure size 432x288 with 1 Axes>"
      ]
     },
     "metadata": {},
     "output_type": "display_data"
    }
   ],
   "source": [
    "top_movies.hist('Age', bins = my_bins, unit = 'Year')"
   ]
  }
 ],
 "metadata": {
  "anaconda-cloud": {},
  "kernelspec": {
   "display_name": "Python 3 (ipykernel)",
   "language": "python",
   "name": "python3"
  },
  "language_info": {
   "codemirror_mode": {
    "name": "ipython",
    "version": 3
   },
   "file_extension": ".py",
   "mimetype": "text/x-python",
   "name": "python",
   "nbconvert_exporter": "python",
   "pygments_lexer": "ipython3",
   "version": "3.9.7"
  }
 },
 "nbformat": 4,
 "nbformat_minor": 1
}
