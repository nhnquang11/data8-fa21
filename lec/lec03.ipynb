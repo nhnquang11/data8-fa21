{
 "cells": [
  {
   "cell_type": "code",
   "execution_count": 1,
   "metadata": {},
   "outputs": [],
   "source": [
    "from datascience import *\n",
    "import numpy as np\n",
    "\n",
    "%matplotlib inline\n",
    "import matplotlib.pyplot as plots\n",
    "plots.style.use('fivethirtyeight')"
   ]
  },
  {
   "cell_type": "markdown",
   "metadata": {},
   "source": [
    "## Words of Caution ##\n",
    "- Remember to run the cell above. It's for setting up the environment so you can have access to what's needed for this lecture. For now, don't worry about what it means: we'll learn more about what's inside of it in the next few lectures.\n",
    "- Data science is not just about code, so please don't go over this notebook by itself. Have the relevant textbook sections or lecture video at hand so that you can go over the discussion along with the code. Thank you! "
   ]
  },
  {
   "cell_type": "markdown",
   "metadata": {},
   "source": [
    "## Python ##"
   ]
  },
  {
   "cell_type": "code",
   "execution_count": 2,
   "metadata": {
    "scrolled": true
   },
   "outputs": [
    {
     "data": {
      "text/plain": [
       "11"
      ]
     },
     "execution_count": 2,
     "metadata": {},
     "output_type": "execute_result"
    }
   ],
   "source": [
    "2 + 9"
   ]
  },
  {
   "cell_type": "code",
   "execution_count": 3,
   "metadata": {},
   "outputs": [
    {
     "data": {
      "text/plain": [
       "18"
      ]
     },
     "execution_count": 3,
     "metadata": {},
     "output_type": "execute_result"
    }
   ],
   "source": [
    "2 * 9"
   ]
  },
  {
   "cell_type": "code",
   "execution_count": 4,
   "metadata": {},
   "outputs": [
    {
     "data": {
      "text/plain": [
       "0.2222222222222222"
      ]
     },
     "execution_count": 4,
     "metadata": {},
     "output_type": "execute_result"
    }
   ],
   "source": [
    "2 / 9"
   ]
  },
  {
   "cell_type": "code",
   "execution_count": 5,
   "metadata": {},
   "outputs": [
    {
     "data": {
      "text/plain": [
       "29"
      ]
     },
     "execution_count": 5,
     "metadata": {},
     "output_type": "execute_result"
    }
   ],
   "source": [
    "2 + 3 * 9"
   ]
  },
  {
   "cell_type": "code",
   "execution_count": 6,
   "metadata": {},
   "outputs": [
    {
     "data": {
      "text/plain": [
       "45"
      ]
     },
     "execution_count": 6,
     "metadata": {},
     "output_type": "execute_result"
    }
   ],
   "source": [
    "(2 + 3) * 9"
   ]
  },
  {
   "cell_type": "code",
   "execution_count": 7,
   "metadata": {},
   "outputs": [
    {
     "data": {
      "text/plain": [
       "16"
      ]
     },
     "execution_count": 7,
     "metadata": {},
     "output_type": "execute_result"
    }
   ],
   "source": [
    "# two to the power of four: 2 * 2 * 2 * 2\n",
    "2 ** 4"
   ]
  },
  {
   "cell_type": "code",
   "execution_count": 8,
   "metadata": {},
   "outputs": [
    {
     "data": {
      "text/plain": [
       "'hello'"
      ]
     },
     "execution_count": 8,
     "metadata": {},
     "output_type": "execute_result"
    }
   ],
   "source": [
    "'hello'"
   ]
  },
  {
   "cell_type": "markdown",
   "metadata": {},
   "source": [
    "## Names ##"
   ]
  },
  {
   "cell_type": "code",
   "execution_count": 9,
   "metadata": {},
   "outputs": [],
   "source": [
    "a = 4"
   ]
  },
  {
   "cell_type": "code",
   "execution_count": 10,
   "metadata": {},
   "outputs": [
    {
     "data": {
      "text/plain": [
       "4"
      ]
     },
     "execution_count": 10,
     "metadata": {},
     "output_type": "execute_result"
    }
   ],
   "source": [
    "a"
   ]
  },
  {
   "cell_type": "code",
   "execution_count": 11,
   "metadata": {},
   "outputs": [],
   "source": [
    "b = 9"
   ]
  },
  {
   "cell_type": "code",
   "execution_count": 12,
   "metadata": {},
   "outputs": [
    {
     "data": {
      "text/plain": [
       "9"
      ]
     },
     "execution_count": 12,
     "metadata": {},
     "output_type": "execute_result"
    }
   ],
   "source": [
    "b"
   ]
  },
  {
   "cell_type": "code",
   "execution_count": 13,
   "metadata": {},
   "outputs": [
    {
     "data": {
      "text/plain": [
       "12"
      ]
     },
     "execution_count": 13,
     "metadata": {},
     "output_type": "execute_result"
    }
   ],
   "source": [
    "a * 3"
   ]
  },
  {
   "cell_type": "code",
   "execution_count": 14,
   "metadata": {},
   "outputs": [],
   "source": [
    "total = a + b"
   ]
  },
  {
   "cell_type": "code",
   "execution_count": 15,
   "metadata": {
    "scrolled": true
   },
   "outputs": [
    {
     "data": {
      "text/plain": [
       "13"
      ]
     },
     "execution_count": 15,
     "metadata": {},
     "output_type": "execute_result"
    }
   ],
   "source": [
    "total"
   ]
  },
  {
   "cell_type": "code",
   "execution_count": 16,
   "metadata": {},
   "outputs": [],
   "source": [
    "a = 10"
   ]
  },
  {
   "cell_type": "code",
   "execution_count": 17,
   "metadata": {},
   "outputs": [
    {
     "data": {
      "text/plain": [
       "13"
      ]
     },
     "execution_count": 17,
     "metadata": {},
     "output_type": "execute_result"
    }
   ],
   "source": [
    "total"
   ]
  },
  {
   "cell_type": "code",
   "execution_count": 18,
   "metadata": {},
   "outputs": [],
   "source": [
    "total = a + b"
   ]
  },
  {
   "cell_type": "code",
   "execution_count": 19,
   "metadata": {},
   "outputs": [
    {
     "data": {
      "text/plain": [
       "19"
      ]
     },
     "execution_count": 19,
     "metadata": {},
     "output_type": "execute_result"
    }
   ],
   "source": [
    "total"
   ]
  },
  {
   "cell_type": "code",
   "execution_count": 20,
   "metadata": {},
   "outputs": [
    {
     "data": {
      "text/plain": [
       "'total'"
      ]
     },
     "execution_count": 20,
     "metadata": {},
     "output_type": "execute_result"
    }
   ],
   "source": [
    "'total'"
   ]
  },
  {
   "cell_type": "markdown",
   "metadata": {},
   "source": [
    "### Why Names?"
   ]
  },
  {
   "cell_type": "code",
   "execution_count": 21,
   "metadata": {},
   "outputs": [
    {
     "data": {
      "text/plain": [
       "560.0"
      ]
     },
     "execution_count": 21,
     "metadata": {},
     "output_type": "execute_result"
    }
   ],
   "source": [
    "# Option 1\n",
    "40 * 14.00"
   ]
  },
  {
   "cell_type": "code",
   "execution_count": 22,
   "metadata": {},
   "outputs": [
    {
     "data": {
      "text/plain": [
       "29120.0"
      ]
     },
     "execution_count": 22,
     "metadata": {},
     "output_type": "execute_result"
    }
   ],
   "source": [
    "40 * 52 * 14.00"
   ]
  },
  {
   "cell_type": "code",
   "execution_count": 23,
   "metadata": {},
   "outputs": [],
   "source": [
    "# Option 2\n",
    "ca_hourly_minimum_wage = 14.00\n",
    "hours_per_week = 40\n",
    "weeks_per_year = 52"
   ]
  },
  {
   "cell_type": "code",
   "execution_count": 24,
   "metadata": {},
   "outputs": [],
   "source": [
    "hours_per_year = hours_per_week * weeks_per_year"
   ]
  },
  {
   "cell_type": "code",
   "execution_count": 25,
   "metadata": {},
   "outputs": [
    {
     "data": {
      "text/plain": [
       "2080"
      ]
     },
     "execution_count": 25,
     "metadata": {},
     "output_type": "execute_result"
    }
   ],
   "source": [
    "hours_per_year"
   ]
  },
  {
   "cell_type": "code",
   "execution_count": 26,
   "metadata": {},
   "outputs": [
    {
     "data": {
      "text/plain": [
       "560.0"
      ]
     },
     "execution_count": 26,
     "metadata": {},
     "output_type": "execute_result"
    }
   ],
   "source": [
    "weekly_wages = hours_per_week * ca_hourly_minimum_wage\n",
    "weekly_wages"
   ]
  },
  {
   "cell_type": "code",
   "execution_count": 27,
   "metadata": {},
   "outputs": [
    {
     "data": {
      "text/plain": [
       "29120.0"
      ]
     },
     "execution_count": 27,
     "metadata": {},
     "output_type": "execute_result"
    }
   ],
   "source": [
    "yearly_wages = hours_per_year * ca_hourly_minimum_wage\n",
    "yearly_wages"
   ]
  },
  {
   "cell_type": "markdown",
   "metadata": {},
   "source": [
    "## Functions and Call Expressions"
   ]
  },
  {
   "cell_type": "code",
   "execution_count": 28,
   "metadata": {},
   "outputs": [
    {
     "data": {
      "text/plain": [
       "5"
      ]
     },
     "execution_count": 28,
     "metadata": {},
     "output_type": "execute_result"
    }
   ],
   "source": [
    "abs(-5)"
   ]
  },
  {
   "cell_type": "code",
   "execution_count": 29,
   "metadata": {},
   "outputs": [
    {
     "data": {
      "text/plain": [
       "2"
      ]
     },
     "execution_count": 29,
     "metadata": {},
     "output_type": "execute_result"
    }
   ],
   "source": [
    "abs(1 - 3)"
   ]
  },
  {
   "cell_type": "code",
   "execution_count": 30,
   "metadata": {},
   "outputs": [
    {
     "data": {
      "text/plain": [
       "5"
      ]
     },
     "execution_count": 30,
     "metadata": {},
     "output_type": "execute_result"
    }
   ],
   "source": [
    "day_temp = 52\n",
    "night_temp = 47\n",
    "abs(night_temp - day_temp)"
   ]
  },
  {
   "cell_type": "code",
   "execution_count": 31,
   "metadata": {},
   "outputs": [
    {
     "data": {
      "text/plain": [
       "14"
      ]
     },
     "execution_count": 31,
     "metadata": {},
     "output_type": "execute_result"
    }
   ],
   "source": [
    "min(14, 15)"
   ]
  },
  {
   "cell_type": "code",
   "execution_count": 32,
   "metadata": {},
   "outputs": [
    {
     "data": {
      "text/plain": [
       "123"
      ]
     },
     "execution_count": 32,
     "metadata": {},
     "output_type": "execute_result"
    }
   ],
   "source": [
    "round(123.456)"
   ]
  },
  {
   "cell_type": "code",
   "execution_count": 33,
   "metadata": {},
   "outputs": [
    {
     "data": {
      "text/plain": [
       "123.5"
      ]
     },
     "execution_count": 33,
     "metadata": {},
     "output_type": "execute_result"
    }
   ],
   "source": [
    "round(123.456, 1)"
   ]
  },
  {
   "cell_type": "code",
   "execution_count": 34,
   "metadata": {},
   "outputs": [
    {
     "data": {
      "text/plain": [
       "123.5"
      ]
     },
     "execution_count": 34,
     "metadata": {},
     "output_type": "execute_result"
    }
   ],
   "source": [
    "round(123.456, ndigits=1)"
   ]
  },
  {
   "cell_type": "markdown",
   "metadata": {},
   "source": [
    "## Tables ##"
   ]
  },
  {
   "cell_type": "code",
   "execution_count": 35,
   "metadata": {},
   "outputs": [
    {
     "data": {
      "text/html": [
       "<table border=\"1\" class=\"dataframe\">\n",
       "    <thead>\n",
       "        <tr>\n",
       "            <th>Flavor</th> <th>Color</th> <th>Price</th>\n",
       "        </tr>\n",
       "    </thead>\n",
       "    <tbody>\n",
       "        <tr>\n",
       "            <td>strawberry</td> <td>pink       </td> <td>3.55 </td>\n",
       "        </tr>\n",
       "        <tr>\n",
       "            <td>chocolate </td> <td>light brown</td> <td>4.75 </td>\n",
       "        </tr>\n",
       "        <tr>\n",
       "            <td>chocolate </td> <td>dark brown </td> <td>5.25 </td>\n",
       "        </tr>\n",
       "        <tr>\n",
       "            <td>strawberry</td> <td>pink       </td> <td>5.25 </td>\n",
       "        </tr>\n",
       "        <tr>\n",
       "            <td>chocolate </td> <td>dark brown </td> <td>5.25 </td>\n",
       "        </tr>\n",
       "        <tr>\n",
       "            <td>bubblegum </td> <td>pink       </td> <td>4.75 </td>\n",
       "        </tr>\n",
       "    </tbody>\n",
       "</table>"
      ],
      "text/plain": [
       "Flavor     | Color       | Price\n",
       "strawberry | pink        | 3.55\n",
       "chocolate  | light brown | 4.75\n",
       "chocolate  | dark brown  | 5.25\n",
       "strawberry | pink        | 5.25\n",
       "chocolate  | dark brown  | 5.25\n",
       "bubblegum  | pink        | 4.75"
      ]
     },
     "execution_count": 35,
     "metadata": {},
     "output_type": "execute_result"
    }
   ],
   "source": [
    "cones = Table.read_table('cones.csv')\n",
    "cones"
   ]
  },
  {
   "cell_type": "code",
   "execution_count": 36,
   "metadata": {},
   "outputs": [
    {
     "data": {
      "text/html": [
       "<table border=\"1\" class=\"dataframe\">\n",
       "    <thead>\n",
       "        <tr>\n",
       "            <th>Flavor</th> <th>Color</th> <th>Price</th>\n",
       "        </tr>\n",
       "    </thead>\n",
       "    <tbody>\n",
       "        <tr>\n",
       "            <td>strawberry</td> <td>pink       </td> <td>3.55 </td>\n",
       "        </tr>\n",
       "        <tr>\n",
       "            <td>chocolate </td> <td>light brown</td> <td>4.75 </td>\n",
       "        </tr>\n",
       "        <tr>\n",
       "            <td>chocolate </td> <td>dark brown </td> <td>5.25 </td>\n",
       "        </tr>\n",
       "    </tbody>\n",
       "</table>\n",
       "<p>... (3 rows omitted)</p>"
      ],
      "text/plain": [
       "<IPython.core.display.HTML object>"
      ]
     },
     "metadata": {},
     "output_type": "display_data"
    }
   ],
   "source": [
    "cones.show(3)"
   ]
  },
  {
   "cell_type": "code",
   "execution_count": 37,
   "metadata": {},
   "outputs": [
    {
     "data": {
      "text/html": [
       "<table border=\"1\" class=\"dataframe\">\n",
       "    <thead>\n",
       "        <tr>\n",
       "            <th>Flavor</th> <th>Color</th> <th>Price</th>\n",
       "        </tr>\n",
       "    </thead>\n",
       "    <tbody>\n",
       "        <tr>\n",
       "            <td>strawberry</td> <td>pink       </td> <td>3.55 </td>\n",
       "        </tr>\n",
       "        <tr>\n",
       "            <td>chocolate </td> <td>light brown</td> <td>4.75 </td>\n",
       "        </tr>\n",
       "        <tr>\n",
       "            <td>chocolate </td> <td>dark brown </td> <td>5.25 </td>\n",
       "        </tr>\n",
       "        <tr>\n",
       "            <td>strawberry</td> <td>pink       </td> <td>5.25 </td>\n",
       "        </tr>\n",
       "        <tr>\n",
       "            <td>chocolate </td> <td>dark brown </td> <td>5.25 </td>\n",
       "        </tr>\n",
       "        <tr>\n",
       "            <td>bubblegum </td> <td>pink       </td> <td>4.75 </td>\n",
       "        </tr>\n",
       "    </tbody>\n",
       "</table>"
      ],
      "text/plain": [
       "<IPython.core.display.HTML object>"
      ]
     },
     "metadata": {},
     "output_type": "display_data"
    }
   ],
   "source": [
    "cones.show()"
   ]
  },
  {
   "cell_type": "code",
   "execution_count": 38,
   "metadata": {},
   "outputs": [
    {
     "data": {
      "text/html": [
       "<table border=\"1\" class=\"dataframe\">\n",
       "    <thead>\n",
       "        <tr>\n",
       "            <th>Flavor</th>\n",
       "        </tr>\n",
       "    </thead>\n",
       "    <tbody>\n",
       "        <tr>\n",
       "            <td>strawberry</td>\n",
       "        </tr>\n",
       "        <tr>\n",
       "            <td>chocolate </td>\n",
       "        </tr>\n",
       "        <tr>\n",
       "            <td>chocolate </td>\n",
       "        </tr>\n",
       "        <tr>\n",
       "            <td>strawberry</td>\n",
       "        </tr>\n",
       "        <tr>\n",
       "            <td>chocolate </td>\n",
       "        </tr>\n",
       "        <tr>\n",
       "            <td>bubblegum </td>\n",
       "        </tr>\n",
       "    </tbody>\n",
       "</table>"
      ],
      "text/plain": [
       "Flavor\n",
       "strawberry\n",
       "chocolate\n",
       "chocolate\n",
       "strawberry\n",
       "chocolate\n",
       "bubblegum"
      ]
     },
     "execution_count": 38,
     "metadata": {},
     "output_type": "execute_result"
    }
   ],
   "source": [
    "cones.select('Flavor')"
   ]
  },
  {
   "cell_type": "code",
   "execution_count": 39,
   "metadata": {},
   "outputs": [
    {
     "data": {
      "text/html": [
       "<table border=\"1\" class=\"dataframe\">\n",
       "    <thead>\n",
       "        <tr>\n",
       "            <th>Flavor</th> <th>Price</th>\n",
       "        </tr>\n",
       "    </thead>\n",
       "    <tbody>\n",
       "        <tr>\n",
       "            <td>strawberry</td> <td>3.55 </td>\n",
       "        </tr>\n",
       "        <tr>\n",
       "            <td>chocolate </td> <td>4.75 </td>\n",
       "        </tr>\n",
       "        <tr>\n",
       "            <td>chocolate </td> <td>5.25 </td>\n",
       "        </tr>\n",
       "        <tr>\n",
       "            <td>strawberry</td> <td>5.25 </td>\n",
       "        </tr>\n",
       "        <tr>\n",
       "            <td>chocolate </td> <td>5.25 </td>\n",
       "        </tr>\n",
       "        <tr>\n",
       "            <td>bubblegum </td> <td>4.75 </td>\n",
       "        </tr>\n",
       "    </tbody>\n",
       "</table>"
      ],
      "text/plain": [
       "Flavor     | Price\n",
       "strawberry | 3.55\n",
       "chocolate  | 4.75\n",
       "chocolate  | 5.25\n",
       "strawberry | 5.25\n",
       "chocolate  | 5.25\n",
       "bubblegum  | 4.75"
      ]
     },
     "execution_count": 39,
     "metadata": {},
     "output_type": "execute_result"
    }
   ],
   "source": [
    "cones.select('Flavor', 'Price')"
   ]
  },
  {
   "cell_type": "code",
   "execution_count": 40,
   "metadata": {
    "tags": [
     "raises-exception"
    ]
   },
   "outputs": [
    {
     "ename": "NameError",
     "evalue": "name 'Flavor' is not defined",
     "output_type": "error",
     "traceback": [
      "\u001b[0;31m---------------------------------------------------------------------------\u001b[0m",
      "\u001b[0;31mNameError\u001b[0m                                 Traceback (most recent call last)",
      "\u001b[0;32m/var/folders/yc/0kr_ncpj3nl6q706l20f2kwr0000gn/T/ipykernel_76397/3617040176.py\u001b[0m in \u001b[0;36m<module>\u001b[0;34m\u001b[0m\n\u001b[0;32m----> 1\u001b[0;31m \u001b[0mcones\u001b[0m\u001b[0;34m.\u001b[0m\u001b[0mselect\u001b[0m\u001b[0;34m(\u001b[0m\u001b[0mFlavor\u001b[0m\u001b[0;34m,\u001b[0m \u001b[0;34m'Price'\u001b[0m\u001b[0;34m)\u001b[0m\u001b[0;34m\u001b[0m\u001b[0;34m\u001b[0m\u001b[0m\n\u001b[0m",
      "\u001b[0;31mNameError\u001b[0m: name 'Flavor' is not defined"
     ]
    }
   ],
   "source": [
    "cones.select(Flavor, 'Price')"
   ]
  },
  {
   "cell_type": "code",
   "execution_count": 41,
   "metadata": {},
   "outputs": [
    {
     "data": {
      "text/html": [
       "<table border=\"1\" class=\"dataframe\">\n",
       "    <thead>\n",
       "        <tr>\n",
       "            <th>Flavor</th> <th>Color</th>\n",
       "        </tr>\n",
       "    </thead>\n",
       "    <tbody>\n",
       "        <tr>\n",
       "            <td>strawberry</td> <td>pink       </td>\n",
       "        </tr>\n",
       "        <tr>\n",
       "            <td>chocolate </td> <td>light brown</td>\n",
       "        </tr>\n",
       "        <tr>\n",
       "            <td>chocolate </td> <td>dark brown </td>\n",
       "        </tr>\n",
       "        <tr>\n",
       "            <td>strawberry</td> <td>pink       </td>\n",
       "        </tr>\n",
       "        <tr>\n",
       "            <td>chocolate </td> <td>dark brown </td>\n",
       "        </tr>\n",
       "        <tr>\n",
       "            <td>bubblegum </td> <td>pink       </td>\n",
       "        </tr>\n",
       "    </tbody>\n",
       "</table>"
      ],
      "text/plain": [
       "Flavor     | Color\n",
       "strawberry | pink\n",
       "chocolate  | light brown\n",
       "chocolate  | dark brown\n",
       "strawberry | pink\n",
       "chocolate  | dark brown\n",
       "bubblegum  | pink"
      ]
     },
     "execution_count": 41,
     "metadata": {},
     "output_type": "execute_result"
    }
   ],
   "source": [
    "cones.drop('Price')"
   ]
  },
  {
   "cell_type": "code",
   "execution_count": 42,
   "metadata": {},
   "outputs": [
    {
     "data": {
      "text/html": [
       "<table border=\"1\" class=\"dataframe\">\n",
       "    <thead>\n",
       "        <tr>\n",
       "            <th>Flavor</th> <th>Color</th> <th>Price</th>\n",
       "        </tr>\n",
       "    </thead>\n",
       "    <tbody>\n",
       "        <tr>\n",
       "            <td>strawberry</td> <td>pink       </td> <td>3.55 </td>\n",
       "        </tr>\n",
       "        <tr>\n",
       "            <td>chocolate </td> <td>light brown</td> <td>4.75 </td>\n",
       "        </tr>\n",
       "        <tr>\n",
       "            <td>chocolate </td> <td>dark brown </td> <td>5.25 </td>\n",
       "        </tr>\n",
       "        <tr>\n",
       "            <td>strawberry</td> <td>pink       </td> <td>5.25 </td>\n",
       "        </tr>\n",
       "        <tr>\n",
       "            <td>chocolate </td> <td>dark brown </td> <td>5.25 </td>\n",
       "        </tr>\n",
       "        <tr>\n",
       "            <td>bubblegum </td> <td>pink       </td> <td>4.75 </td>\n",
       "        </tr>\n",
       "    </tbody>\n",
       "</table>"
      ],
      "text/plain": [
       "Flavor     | Color       | Price\n",
       "strawberry | pink        | 3.55\n",
       "chocolate  | light brown | 4.75\n",
       "chocolate  | dark brown  | 5.25\n",
       "strawberry | pink        | 5.25\n",
       "chocolate  | dark brown  | 5.25\n",
       "bubblegum  | pink        | 4.75"
      ]
     },
     "execution_count": 42,
     "metadata": {},
     "output_type": "execute_result"
    }
   ],
   "source": [
    "cones"
   ]
  },
  {
   "cell_type": "code",
   "execution_count": 43,
   "metadata": {},
   "outputs": [
    {
     "data": {
      "text/html": [
       "<table border=\"1\" class=\"dataframe\">\n",
       "    <thead>\n",
       "        <tr>\n",
       "            <th>Flavor</th> <th>Color</th>\n",
       "        </tr>\n",
       "    </thead>\n",
       "    <tbody>\n",
       "        <tr>\n",
       "            <td>strawberry</td> <td>pink       </td>\n",
       "        </tr>\n",
       "        <tr>\n",
       "            <td>chocolate </td> <td>light brown</td>\n",
       "        </tr>\n",
       "        <tr>\n",
       "            <td>chocolate </td> <td>dark brown </td>\n",
       "        </tr>\n",
       "        <tr>\n",
       "            <td>strawberry</td> <td>pink       </td>\n",
       "        </tr>\n",
       "        <tr>\n",
       "            <td>chocolate </td> <td>dark brown </td>\n",
       "        </tr>\n",
       "        <tr>\n",
       "            <td>bubblegum </td> <td>pink       </td>\n",
       "        </tr>\n",
       "    </tbody>\n",
       "</table>"
      ],
      "text/plain": [
       "Flavor     | Color\n",
       "strawberry | pink\n",
       "chocolate  | light brown\n",
       "chocolate  | dark brown\n",
       "strawberry | pink\n",
       "chocolate  | dark brown\n",
       "bubblegum  | pink"
      ]
     },
     "execution_count": 43,
     "metadata": {},
     "output_type": "execute_result"
    }
   ],
   "source": [
    "cones_without_price = cones.drop('Price')\n",
    "cones_without_price"
   ]
  },
  {
   "cell_type": "code",
   "execution_count": 44,
   "metadata": {
    "scrolled": true
   },
   "outputs": [
    {
     "data": {
      "text/html": [
       "<table border=\"1\" class=\"dataframe\">\n",
       "    <thead>\n",
       "        <tr>\n",
       "            <th>Flavor</th> <th>Color</th> <th>Price</th>\n",
       "        </tr>\n",
       "    </thead>\n",
       "    <tbody>\n",
       "        <tr>\n",
       "            <td>chocolate</td> <td>light brown</td> <td>4.75 </td>\n",
       "        </tr>\n",
       "        <tr>\n",
       "            <td>chocolate</td> <td>dark brown </td> <td>5.25 </td>\n",
       "        </tr>\n",
       "        <tr>\n",
       "            <td>chocolate</td> <td>dark brown </td> <td>5.25 </td>\n",
       "        </tr>\n",
       "    </tbody>\n",
       "</table>"
      ],
      "text/plain": [
       "Flavor    | Color       | Price\n",
       "chocolate | light brown | 4.75\n",
       "chocolate | dark brown  | 5.25\n",
       "chocolate | dark brown  | 5.25"
      ]
     },
     "execution_count": 44,
     "metadata": {},
     "output_type": "execute_result"
    }
   ],
   "source": [
    "cones.where('Flavor', 'chocolate')"
   ]
  },
  {
   "cell_type": "code",
   "execution_count": 45,
   "metadata": {},
   "outputs": [
    {
     "data": {
      "text/html": [
       "<table border=\"1\" class=\"dataframe\">\n",
       "    <thead>\n",
       "        <tr>\n",
       "            <th>Flavor</th> <th>Color</th> <th>Price</th>\n",
       "        </tr>\n",
       "    </thead>\n",
       "    <tbody>\n",
       "        <tr>\n",
       "            <td>strawberry</td> <td>pink       </td> <td>3.55 </td>\n",
       "        </tr>\n",
       "        <tr>\n",
       "            <td>chocolate </td> <td>light brown</td> <td>4.75 </td>\n",
       "        </tr>\n",
       "        <tr>\n",
       "            <td>bubblegum </td> <td>pink       </td> <td>4.75 </td>\n",
       "        </tr>\n",
       "        <tr>\n",
       "            <td>chocolate </td> <td>dark brown </td> <td>5.25 </td>\n",
       "        </tr>\n",
       "        <tr>\n",
       "            <td>strawberry</td> <td>pink       </td> <td>5.25 </td>\n",
       "        </tr>\n",
       "        <tr>\n",
       "            <td>chocolate </td> <td>dark brown </td> <td>5.25 </td>\n",
       "        </tr>\n",
       "    </tbody>\n",
       "</table>"
      ],
      "text/plain": [
       "Flavor     | Color       | Price\n",
       "strawberry | pink        | 3.55\n",
       "chocolate  | light brown | 4.75\n",
       "bubblegum  | pink        | 4.75\n",
       "chocolate  | dark brown  | 5.25\n",
       "strawberry | pink        | 5.25\n",
       "chocolate  | dark brown  | 5.25"
      ]
     },
     "execution_count": 45,
     "metadata": {},
     "output_type": "execute_result"
    }
   ],
   "source": [
    "cones.sort('Price')"
   ]
  },
  {
   "cell_type": "code",
   "execution_count": 46,
   "metadata": {
    "scrolled": true
   },
   "outputs": [
    {
     "data": {
      "text/html": [
       "<table border=\"1\" class=\"dataframe\">\n",
       "    <thead>\n",
       "        <tr>\n",
       "            <th>Flavor</th> <th>Color</th> <th>Price</th>\n",
       "        </tr>\n",
       "    </thead>\n",
       "    <tbody>\n",
       "        <tr>\n",
       "            <td>chocolate </td> <td>dark brown </td> <td>5.25 </td>\n",
       "        </tr>\n",
       "        <tr>\n",
       "            <td>strawberry</td> <td>pink       </td> <td>5.25 </td>\n",
       "        </tr>\n",
       "        <tr>\n",
       "            <td>chocolate </td> <td>dark brown </td> <td>5.25 </td>\n",
       "        </tr>\n",
       "        <tr>\n",
       "            <td>chocolate </td> <td>light brown</td> <td>4.75 </td>\n",
       "        </tr>\n",
       "        <tr>\n",
       "            <td>bubblegum </td> <td>pink       </td> <td>4.75 </td>\n",
       "        </tr>\n",
       "        <tr>\n",
       "            <td>strawberry</td> <td>pink       </td> <td>3.55 </td>\n",
       "        </tr>\n",
       "    </tbody>\n",
       "</table>"
      ],
      "text/plain": [
       "Flavor     | Color       | Price\n",
       "chocolate  | dark brown  | 5.25\n",
       "strawberry | pink        | 5.25\n",
       "chocolate  | dark brown  | 5.25\n",
       "chocolate  | light brown | 4.75\n",
       "bubblegum  | pink        | 4.75\n",
       "strawberry | pink        | 3.55"
      ]
     },
     "execution_count": 46,
     "metadata": {},
     "output_type": "execute_result"
    }
   ],
   "source": [
    "cones.sort('Price', descending=True)"
   ]
  },
  {
   "cell_type": "code",
   "execution_count": 47,
   "metadata": {},
   "outputs": [
    {
     "data": {
      "text/html": [
       "<table border=\"1\" class=\"dataframe\">\n",
       "    <thead>\n",
       "        <tr>\n",
       "            <th>Flavor</th> <th>Color</th> <th>Price</th>\n",
       "        </tr>\n",
       "    </thead>\n",
       "    <tbody>\n",
       "        <tr>\n",
       "            <td>strawberry</td> <td>pink       </td> <td>3.55 </td>\n",
       "        </tr>\n",
       "        <tr>\n",
       "            <td>strawberry</td> <td>pink       </td> <td>5.25 </td>\n",
       "        </tr>\n",
       "        <tr>\n",
       "            <td>chocolate </td> <td>light brown</td> <td>4.75 </td>\n",
       "        </tr>\n",
       "        <tr>\n",
       "            <td>chocolate </td> <td>dark brown </td> <td>5.25 </td>\n",
       "        </tr>\n",
       "        <tr>\n",
       "            <td>chocolate </td> <td>dark brown </td> <td>5.25 </td>\n",
       "        </tr>\n",
       "        <tr>\n",
       "            <td>bubblegum </td> <td>pink       </td> <td>4.75 </td>\n",
       "        </tr>\n",
       "    </tbody>\n",
       "</table>"
      ],
      "text/plain": [
       "Flavor     | Color       | Price\n",
       "strawberry | pink        | 3.55\n",
       "strawberry | pink        | 5.25\n",
       "chocolate  | light brown | 4.75\n",
       "chocolate  | dark brown  | 5.25\n",
       "chocolate  | dark brown  | 5.25\n",
       "bubblegum  | pink        | 4.75"
      ]
     },
     "execution_count": 47,
     "metadata": {},
     "output_type": "execute_result"
    }
   ],
   "source": [
    "cones.sort('Flavor', descending=True)"
   ]
  },
  {
   "cell_type": "markdown",
   "metadata": {},
   "source": [
    "### A more interesting table"
   ]
  },
  {
   "cell_type": "code",
   "execution_count": 48,
   "metadata": {},
   "outputs": [
    {
     "data": {
      "text/html": [
       "<table border=\"1\" class=\"dataframe\">\n",
       "    <thead>\n",
       "        <tr>\n",
       "            <th>PLAYER</th> <th>POSITION</th> <th>TEAM</th> <th>SALARY</th>\n",
       "        </tr>\n",
       "    </thead>\n",
       "    <tbody>\n",
       "        <tr>\n",
       "            <td>Paul Millsap    </td> <td>PF      </td> <td>Atlanta Hawks</td> <td>18.6717</td>\n",
       "        </tr>\n",
       "        <tr>\n",
       "            <td>Al Horford      </td> <td>C       </td> <td>Atlanta Hawks</td> <td>12     </td>\n",
       "        </tr>\n",
       "        <tr>\n",
       "            <td>Tiago Splitter  </td> <td>C       </td> <td>Atlanta Hawks</td> <td>9.75625</td>\n",
       "        </tr>\n",
       "        <tr>\n",
       "            <td>Jeff Teague     </td> <td>PG      </td> <td>Atlanta Hawks</td> <td>8      </td>\n",
       "        </tr>\n",
       "        <tr>\n",
       "            <td>Kyle Korver     </td> <td>SG      </td> <td>Atlanta Hawks</td> <td>5.74648</td>\n",
       "        </tr>\n",
       "        <tr>\n",
       "            <td>Thabo Sefolosha </td> <td>SF      </td> <td>Atlanta Hawks</td> <td>4      </td>\n",
       "        </tr>\n",
       "        <tr>\n",
       "            <td>Mike Scott      </td> <td>PF      </td> <td>Atlanta Hawks</td> <td>3.33333</td>\n",
       "        </tr>\n",
       "        <tr>\n",
       "            <td>Kent Bazemore   </td> <td>SF      </td> <td>Atlanta Hawks</td> <td>2      </td>\n",
       "        </tr>\n",
       "        <tr>\n",
       "            <td>Dennis Schroder </td> <td>PG      </td> <td>Atlanta Hawks</td> <td>1.7634 </td>\n",
       "        </tr>\n",
       "        <tr>\n",
       "            <td>Tim Hardaway Jr.</td> <td>SG      </td> <td>Atlanta Hawks</td> <td>1.30452</td>\n",
       "        </tr>\n",
       "    </tbody>\n",
       "</table>\n",
       "<p>... (407 rows omitted)</p>"
      ],
      "text/plain": [
       "PLAYER           | POSITION | TEAM          | SALARY\n",
       "Paul Millsap     | PF       | Atlanta Hawks | 18.6717\n",
       "Al Horford       | C        | Atlanta Hawks | 12\n",
       "Tiago Splitter   | C        | Atlanta Hawks | 9.75625\n",
       "Jeff Teague      | PG       | Atlanta Hawks | 8\n",
       "Kyle Korver      | SG       | Atlanta Hawks | 5.74648\n",
       "Thabo Sefolosha  | SF       | Atlanta Hawks | 4\n",
       "Mike Scott       | PF       | Atlanta Hawks | 3.33333\n",
       "Kent Bazemore    | SF       | Atlanta Hawks | 2\n",
       "Dennis Schroder  | PG       | Atlanta Hawks | 1.7634\n",
       "Tim Hardaway Jr. | SG       | Atlanta Hawks | 1.30452\n",
       "... (407 rows omitted)"
      ]
     },
     "execution_count": 48,
     "metadata": {},
     "output_type": "execute_result"
    }
   ],
   "source": [
    "nba = Table.read_table('nba_salaries.csv').relabeled(3, 'SALARY')\n",
    "nba"
   ]
  },
  {
   "cell_type": "code",
   "execution_count": 49,
   "metadata": {},
   "outputs": [],
   "source": [
    "point_guards = nba.where('POSITION', 'PG')"
   ]
  },
  {
   "cell_type": "code",
   "execution_count": 50,
   "metadata": {},
   "outputs": [
    {
     "data": {
      "text/html": [
       "<table border=\"1\" class=\"dataframe\">\n",
       "    <thead>\n",
       "        <tr>\n",
       "            <th>PLAYER</th> <th>POSITION</th> <th>TEAM</th> <th>SALARY</th>\n",
       "        </tr>\n",
       "    </thead>\n",
       "    <tbody>\n",
       "        <tr>\n",
       "            <td>Jeff Teague    </td> <td>PG      </td> <td>Atlanta Hawks    </td> <td>8      </td>\n",
       "        </tr>\n",
       "        <tr>\n",
       "            <td>Dennis Schroder</td> <td>PG      </td> <td>Atlanta Hawks    </td> <td>1.7634 </td>\n",
       "        </tr>\n",
       "        <tr>\n",
       "            <td>Avery Bradley  </td> <td>PG      </td> <td>Boston Celtics   </td> <td>7.73034</td>\n",
       "        </tr>\n",
       "        <tr>\n",
       "            <td>Isaiah Thomas  </td> <td>PG      </td> <td>Boston Celtics   </td> <td>6.91287</td>\n",
       "        </tr>\n",
       "        <tr>\n",
       "            <td>Marcus Smart   </td> <td>PG      </td> <td>Boston Celtics   </td> <td>3.43104</td>\n",
       "        </tr>\n",
       "        <tr>\n",
       "            <td>Terry Rozier   </td> <td>PG      </td> <td>Boston Celtics   </td> <td>1.82436</td>\n",
       "        </tr>\n",
       "        <tr>\n",
       "            <td>Jarrett Jack   </td> <td>PG      </td> <td>Brooklyn Nets    </td> <td>6.3    </td>\n",
       "        </tr>\n",
       "        <tr>\n",
       "            <td>Shane Larkin   </td> <td>PG      </td> <td>Brooklyn Nets    </td> <td>1.5    </td>\n",
       "        </tr>\n",
       "        <tr>\n",
       "            <td>Kemba Walker   </td> <td>PG      </td> <td>Charlotte Hornets</td> <td>12     </td>\n",
       "        </tr>\n",
       "        <tr>\n",
       "            <td>Brian Roberts  </td> <td>PG      </td> <td>Charlotte Hornets</td> <td>2.85494</td>\n",
       "        </tr>\n",
       "    </tbody>\n",
       "</table>\n",
       "<p>... (75 rows omitted)</p>"
      ],
      "text/plain": [
       "PLAYER          | POSITION | TEAM              | SALARY\n",
       "Jeff Teague     | PG       | Atlanta Hawks     | 8\n",
       "Dennis Schroder | PG       | Atlanta Hawks     | 1.7634\n",
       "Avery Bradley   | PG       | Boston Celtics    | 7.73034\n",
       "Isaiah Thomas   | PG       | Boston Celtics    | 6.91287\n",
       "Marcus Smart    | PG       | Boston Celtics    | 3.43104\n",
       "Terry Rozier    | PG       | Boston Celtics    | 1.82436\n",
       "Jarrett Jack    | PG       | Brooklyn Nets     | 6.3\n",
       "Shane Larkin    | PG       | Brooklyn Nets     | 1.5\n",
       "Kemba Walker    | PG       | Charlotte Hornets | 12\n",
       "Brian Roberts   | PG       | Charlotte Hornets | 2.85494\n",
       "... (75 rows omitted)"
      ]
     },
     "execution_count": 50,
     "metadata": {},
     "output_type": "execute_result"
    }
   ],
   "source": [
    "point_guards"
   ]
  },
  {
   "cell_type": "code",
   "execution_count": 51,
   "metadata": {},
   "outputs": [
    {
     "data": {
      "text/html": [
       "<table border=\"1\" class=\"dataframe\">\n",
       "    <thead>\n",
       "        <tr>\n",
       "            <th>PLAYER</th> <th>TEAM</th> <th>SALARY</th>\n",
       "        </tr>\n",
       "    </thead>\n",
       "    <tbody>\n",
       "        <tr>\n",
       "            <td>Jeff Teague    </td> <td>Atlanta Hawks    </td> <td>8      </td>\n",
       "        </tr>\n",
       "        <tr>\n",
       "            <td>Dennis Schroder</td> <td>Atlanta Hawks    </td> <td>1.7634 </td>\n",
       "        </tr>\n",
       "        <tr>\n",
       "            <td>Avery Bradley  </td> <td>Boston Celtics   </td> <td>7.73034</td>\n",
       "        </tr>\n",
       "        <tr>\n",
       "            <td>Isaiah Thomas  </td> <td>Boston Celtics   </td> <td>6.91287</td>\n",
       "        </tr>\n",
       "        <tr>\n",
       "            <td>Marcus Smart   </td> <td>Boston Celtics   </td> <td>3.43104</td>\n",
       "        </tr>\n",
       "        <tr>\n",
       "            <td>Terry Rozier   </td> <td>Boston Celtics   </td> <td>1.82436</td>\n",
       "        </tr>\n",
       "        <tr>\n",
       "            <td>Jarrett Jack   </td> <td>Brooklyn Nets    </td> <td>6.3    </td>\n",
       "        </tr>\n",
       "        <tr>\n",
       "            <td>Shane Larkin   </td> <td>Brooklyn Nets    </td> <td>1.5    </td>\n",
       "        </tr>\n",
       "        <tr>\n",
       "            <td>Kemba Walker   </td> <td>Charlotte Hornets</td> <td>12     </td>\n",
       "        </tr>\n",
       "        <tr>\n",
       "            <td>Brian Roberts  </td> <td>Charlotte Hornets</td> <td>2.85494</td>\n",
       "        </tr>\n",
       "    </tbody>\n",
       "</table>\n",
       "<p>... (75 rows omitted)</p>"
      ],
      "text/plain": [
       "PLAYER          | TEAM              | SALARY\n",
       "Jeff Teague     | Atlanta Hawks     | 8\n",
       "Dennis Schroder | Atlanta Hawks     | 1.7634\n",
       "Avery Bradley   | Boston Celtics    | 7.73034\n",
       "Isaiah Thomas   | Boston Celtics    | 6.91287\n",
       "Marcus Smart    | Boston Celtics    | 3.43104\n",
       "Terry Rozier    | Boston Celtics    | 1.82436\n",
       "Jarrett Jack    | Brooklyn Nets     | 6.3\n",
       "Shane Larkin    | Brooklyn Nets     | 1.5\n",
       "Kemba Walker    | Charlotte Hornets | 12\n",
       "Brian Roberts   | Charlotte Hornets | 2.85494\n",
       "... (75 rows omitted)"
      ]
     },
     "execution_count": 51,
     "metadata": {},
     "output_type": "execute_result"
    }
   ],
   "source": [
    "point_guards.drop('POSITION')"
   ]
  },
  {
   "cell_type": "code",
   "execution_count": 52,
   "metadata": {},
   "outputs": [
    {
     "data": {
      "text/html": [
       "<table border=\"1\" class=\"dataframe\">\n",
       "    <thead>\n",
       "        <tr>\n",
       "            <th>PLAYER</th> <th>POSITION</th> <th>TEAM</th> <th>SALARY</th>\n",
       "        </tr>\n",
       "    </thead>\n",
       "    <tbody>\n",
       "        <tr>\n",
       "            <td>Jeff Teague    </td> <td>PG      </td> <td>Atlanta Hawks    </td> <td>8      </td>\n",
       "        </tr>\n",
       "        <tr>\n",
       "            <td>Dennis Schroder</td> <td>PG      </td> <td>Atlanta Hawks    </td> <td>1.7634 </td>\n",
       "        </tr>\n",
       "        <tr>\n",
       "            <td>Avery Bradley  </td> <td>PG      </td> <td>Boston Celtics   </td> <td>7.73034</td>\n",
       "        </tr>\n",
       "        <tr>\n",
       "            <td>Isaiah Thomas  </td> <td>PG      </td> <td>Boston Celtics   </td> <td>6.91287</td>\n",
       "        </tr>\n",
       "        <tr>\n",
       "            <td>Marcus Smart   </td> <td>PG      </td> <td>Boston Celtics   </td> <td>3.43104</td>\n",
       "        </tr>\n",
       "        <tr>\n",
       "            <td>Terry Rozier   </td> <td>PG      </td> <td>Boston Celtics   </td> <td>1.82436</td>\n",
       "        </tr>\n",
       "        <tr>\n",
       "            <td>Jarrett Jack   </td> <td>PG      </td> <td>Brooklyn Nets    </td> <td>6.3    </td>\n",
       "        </tr>\n",
       "        <tr>\n",
       "            <td>Shane Larkin   </td> <td>PG      </td> <td>Brooklyn Nets    </td> <td>1.5    </td>\n",
       "        </tr>\n",
       "        <tr>\n",
       "            <td>Kemba Walker   </td> <td>PG      </td> <td>Charlotte Hornets</td> <td>12     </td>\n",
       "        </tr>\n",
       "        <tr>\n",
       "            <td>Brian Roberts  </td> <td>PG      </td> <td>Charlotte Hornets</td> <td>2.85494</td>\n",
       "        </tr>\n",
       "    </tbody>\n",
       "</table>\n",
       "<p>... (75 rows omitted)</p>"
      ],
      "text/plain": [
       "PLAYER          | POSITION | TEAM              | SALARY\n",
       "Jeff Teague     | PG       | Atlanta Hawks     | 8\n",
       "Dennis Schroder | PG       | Atlanta Hawks     | 1.7634\n",
       "Avery Bradley   | PG       | Boston Celtics    | 7.73034\n",
       "Isaiah Thomas   | PG       | Boston Celtics    | 6.91287\n",
       "Marcus Smart    | PG       | Boston Celtics    | 3.43104\n",
       "Terry Rozier    | PG       | Boston Celtics    | 1.82436\n",
       "Jarrett Jack    | PG       | Brooklyn Nets     | 6.3\n",
       "Shane Larkin    | PG       | Brooklyn Nets     | 1.5\n",
       "Kemba Walker    | PG       | Charlotte Hornets | 12\n",
       "Brian Roberts   | PG       | Charlotte Hornets | 2.85494\n",
       "... (75 rows omitted)"
      ]
     },
     "execution_count": 52,
     "metadata": {},
     "output_type": "execute_result"
    }
   ],
   "source": [
    "point_guards"
   ]
  },
  {
   "cell_type": "code",
   "execution_count": 53,
   "metadata": {},
   "outputs": [],
   "source": [
    "point_guards = point_guards.drop('POSITION')"
   ]
  },
  {
   "cell_type": "code",
   "execution_count": 54,
   "metadata": {},
   "outputs": [
    {
     "data": {
      "text/html": [
       "<table border=\"1\" class=\"dataframe\">\n",
       "    <thead>\n",
       "        <tr>\n",
       "            <th>PLAYER</th> <th>TEAM</th> <th>SALARY</th>\n",
       "        </tr>\n",
       "    </thead>\n",
       "    <tbody>\n",
       "        <tr>\n",
       "            <td>Chris Paul             </td> <td>Los Angeles Clippers  </td> <td>21.4687 </td>\n",
       "        </tr>\n",
       "        <tr>\n",
       "            <td>Derrick Rose           </td> <td>Chicago Bulls         </td> <td>20.0931 </td>\n",
       "        </tr>\n",
       "        <tr>\n",
       "            <td>Russell Westbrook      </td> <td>Oklahoma City Thunder </td> <td>16.7442 </td>\n",
       "        </tr>\n",
       "        <tr>\n",
       "            <td>Kyrie Irving           </td> <td>Cleveland Cavaliers   </td> <td>16.4075 </td>\n",
       "        </tr>\n",
       "        <tr>\n",
       "            <td>John Wall              </td> <td>Washington Wizards    </td> <td>15.852  </td>\n",
       "        </tr>\n",
       "        <tr>\n",
       "            <td>Goran Dragic           </td> <td>Miami Heat            </td> <td>14.783  </td>\n",
       "        </tr>\n",
       "        <tr>\n",
       "            <td>Reggie Jackson         </td> <td>Detroit Pistons       </td> <td>13.913  </td>\n",
       "        </tr>\n",
       "        <tr>\n",
       "            <td>Eric Bledsoe           </td> <td>Phoenix Suns          </td> <td>13.5    </td>\n",
       "        </tr>\n",
       "        <tr>\n",
       "            <td>Tony Parker            </td> <td>San Antonio Spurs     </td> <td>13.4375 </td>\n",
       "        </tr>\n",
       "        <tr>\n",
       "            <td>Ricky Rubio            </td> <td>Minnesota Timberwolves</td> <td>12.7    </td>\n",
       "        </tr>\n",
       "        <tr>\n",
       "            <td>Ty Lawson              </td> <td>Houston Rockets       </td> <td>12.4045 </td>\n",
       "        </tr>\n",
       "        <tr>\n",
       "            <td>Kemba Walker           </td> <td>Charlotte Hornets     </td> <td>12      </td>\n",
       "        </tr>\n",
       "        <tr>\n",
       "            <td>Kyle Lowry             </td> <td>Toronto Raptors       </td> <td>12      </td>\n",
       "        </tr>\n",
       "        <tr>\n",
       "            <td>Stephen Curry          </td> <td>Golden State Warriors </td> <td>11.3708 </td>\n",
       "        </tr>\n",
       "        <tr>\n",
       "            <td>Jrue Holiday           </td> <td>New Orleans Pelicans  </td> <td>10.5955 </td>\n",
       "        </tr>\n",
       "        <tr>\n",
       "            <td>Mike Conley            </td> <td>Memphis Grizzlies     </td> <td>9.58843 </td>\n",
       "        </tr>\n",
       "        <tr>\n",
       "            <td>Rajon Rondo            </td> <td>Sacramento Kings      </td> <td>9.5     </td>\n",
       "        </tr>\n",
       "        <tr>\n",
       "            <td>Brandon Jennings       </td> <td>Orlando Magic         </td> <td>8.3445  </td>\n",
       "        </tr>\n",
       "        <tr>\n",
       "            <td>Jeff Teague            </td> <td>Atlanta Hawks         </td> <td>8       </td>\n",
       "        </tr>\n",
       "        <tr>\n",
       "            <td>Avery Bradley          </td> <td>Boston Celtics        </td> <td>7.73034 </td>\n",
       "        </tr>\n",
       "        <tr>\n",
       "            <td>Jose Calderon          </td> <td>New York Knicks       </td> <td>7.40281 </td>\n",
       "        </tr>\n",
       "        <tr>\n",
       "            <td>Rodney Stuckey         </td> <td>Indiana Pacers        </td> <td>7       </td>\n",
       "        </tr>\n",
       "        <tr>\n",
       "            <td>Cory Joseph            </td> <td>Toronto Raptors       </td> <td>7       </td>\n",
       "        </tr>\n",
       "        <tr>\n",
       "            <td>Isaiah Thomas          </td> <td>Boston Celtics        </td> <td>6.91287 </td>\n",
       "        </tr>\n",
       "        <tr>\n",
       "            <td>Greivis Vasquez        </td> <td>Milwaukee Bucks       </td> <td>6.6     </td>\n",
       "        </tr>\n",
       "        <tr>\n",
       "            <td>Patrick Beverley       </td> <td>Houston Rockets       </td> <td>6.48649 </td>\n",
       "        </tr>\n",
       "        <tr>\n",
       "            <td>Jarrett Jack           </td> <td>Brooklyn Nets         </td> <td>6.3     </td>\n",
       "        </tr>\n",
       "        <tr>\n",
       "            <td>Shaun Livingston       </td> <td>Golden State Warriors </td> <td>5.54373 </td>\n",
       "        </tr>\n",
       "        <tr>\n",
       "            <td>Deron Williams         </td> <td>Dallas Mavericks      </td> <td>5.37897 </td>\n",
       "        </tr>\n",
       "        <tr>\n",
       "            <td>D'Angelo Russell       </td> <td>Los Angeles Lakers    </td> <td>5.10312 </td>\n",
       "        </tr>\n",
       "        <tr>\n",
       "            <td>Darren Collison        </td> <td>Sacramento Kings      </td> <td>5.01356 </td>\n",
       "        </tr>\n",
       "        <tr>\n",
       "            <td>Jameer Nelson          </td> <td>Denver Nuggets        </td> <td>4.345   </td>\n",
       "        </tr>\n",
       "        <tr>\n",
       "            <td>Mario Chalmers         </td> <td>Memphis Grizzlies     </td> <td>4.3     </td>\n",
       "        </tr>\n",
       "        <tr>\n",
       "            <td>J.J. Barea             </td> <td>Dallas Mavericks      </td> <td>4.29    </td>\n",
       "        </tr>\n",
       "        <tr>\n",
       "            <td>Damian Lillard         </td> <td>Portland Trail Blazers</td> <td>4.23629 </td>\n",
       "        </tr>\n",
       "        <tr>\n",
       "            <td>Devin Harris           </td> <td>Dallas Mavericks      </td> <td>4.05345 </td>\n",
       "        </tr>\n",
       "        <tr>\n",
       "            <td>Raymond Felton         </td> <td>Dallas Mavericks      </td> <td>3.95031 </td>\n",
       "        </tr>\n",
       "        <tr>\n",
       "            <td>Dante Exum             </td> <td>Utah Jazz             </td> <td>3.77772 </td>\n",
       "        </tr>\n",
       "        <tr>\n",
       "            <td>Patty Mills            </td> <td>San Antonio Spurs     </td> <td>3.57895 </td>\n",
       "        </tr>\n",
       "        <tr>\n",
       "            <td>Marcus Smart           </td> <td>Boston Celtics        </td> <td>3.43104 </td>\n",
       "        </tr>\n",
       "        <tr>\n",
       "            <td>Austin Rivers          </td> <td>Los Angeles Clippers  </td> <td>3.1108  </td>\n",
       "        </tr>\n",
       "        <tr>\n",
       "            <td>Emmanuel Mudiay        </td> <td>Denver Nuggets        </td> <td>3.10224 </td>\n",
       "        </tr>\n",
       "        <tr>\n",
       "            <td>Norris Cole            </td> <td>New Orleans Pelicans  </td> <td>3.03693 </td>\n",
       "        </tr>\n",
       "        <tr>\n",
       "            <td>Jerryd Bayless         </td> <td>Milwaukee Bucks       </td> <td>3       </td>\n",
       "        </tr>\n",
       "        <tr>\n",
       "            <td>D.J. Augustin          </td> <td>Oklahoma City Thunder </td> <td>3       </td>\n",
       "        </tr>\n",
       "        <tr>\n",
       "            <td>Brian Roberts          </td> <td>Charlotte Hornets     </td> <td>2.85494 </td>\n",
       "        </tr>\n",
       "        <tr>\n",
       "            <td>Luke Ridnour           </td> <td>Toronto Raptors       </td> <td>2.75    </td>\n",
       "        </tr>\n",
       "        <tr>\n",
       "            <td>Trey Burke             </td> <td>Utah Jazz             </td> <td>2.65824 </td>\n",
       "        </tr>\n",
       "        <tr>\n",
       "            <td>Elfrid Payton          </td> <td>Orlando Magic         </td> <td>2.50572 </td>\n",
       "        </tr>\n",
       "        <tr>\n",
       "            <td>Shelvin Mack           </td> <td>Utah Jazz             </td> <td>2.43333 </td>\n",
       "        </tr>\n",
       "        <tr>\n",
       "            <td>Michael Carter-Williams</td> <td>Milwaukee Bucks       </td> <td>2.39904 </td>\n",
       "        </tr>\n",
       "        <tr>\n",
       "            <td>Aaron Brooks           </td> <td>Chicago Bulls         </td> <td>2.25    </td>\n",
       "        </tr>\n",
       "        <tr>\n",
       "            <td>Beno Udrih             </td> <td>Memphis Grizzlies     </td> <td>2.17047 </td>\n",
       "        </tr>\n",
       "        <tr>\n",
       "            <td>Ramon Sessions         </td> <td>Washington Wizards    </td> <td>2.17047 </td>\n",
       "        </tr>\n",
       "        <tr>\n",
       "            <td>Zach LaVine            </td> <td>Minnesota Timberwolves</td> <td>2.14836 </td>\n",
       "        </tr>\n",
       "        <tr>\n",
       "            <td>Kendall Marshall       </td> <td>Philadelphia 76ers    </td> <td>2.14477 </td>\n",
       "        </tr>\n",
       "        <tr>\n",
       "            <td>Jeremy Lin             </td> <td>Charlotte Hornets     </td> <td>2.139   </td>\n",
       "        </tr>\n",
       "        <tr>\n",
       "            <td>Gary Neal              </td> <td>Washington Wizards    </td> <td>2.139   </td>\n",
       "        </tr>\n",
       "        <tr>\n",
       "            <td>Mo Williams            </td> <td>Cleveland Cavaliers   </td> <td>2.1     </td>\n",
       "        </tr>\n",
       "        <tr>\n",
       "            <td>Cameron Payne          </td> <td>Oklahoma City Thunder </td> <td>2.02152 </td>\n",
       "        </tr>\n",
       "        <tr>\n",
       "            <td>Terry Rozier           </td> <td>Boston Celtics        </td> <td>1.82436 </td>\n",
       "        </tr>\n",
       "        <tr>\n",
       "            <td>Dennis Schroder        </td> <td>Atlanta Hawks         </td> <td>1.7634  </td>\n",
       "        </tr>\n",
       "        <tr>\n",
       "            <td>Tyler Ennis            </td> <td>Milwaukee Bucks       </td> <td>1.66236 </td>\n",
       "        </tr>\n",
       "        <tr>\n",
       "            <td>Jerian Grant           </td> <td>New York Knicks       </td> <td>1.57236 </td>\n",
       "        </tr>\n",
       "        <tr>\n",
       "            <td>Delon Wright           </td> <td>Toronto Raptors       </td> <td>1.50936 </td>\n",
       "        </tr>\n",
       "        <tr>\n",
       "            <td>Shane Larkin           </td> <td>Brooklyn Nets         </td> <td>1.5     </td>\n",
       "        </tr>\n",
       "        <tr>\n",
       "            <td>Shabazz Napier         </td> <td>Orlando Magic         </td> <td>1.29444 </td>\n",
       "        </tr>\n",
       "        <tr>\n",
       "            <td>Tyus Jones             </td> <td>Minnesota Timberwolves</td> <td>1.28208 </td>\n",
       "        </tr>\n",
       "        <tr>\n",
       "            <td>Toney Douglas          </td> <td>New Orleans Pelicans  </td> <td>1.16486 </td>\n",
       "        </tr>\n",
       "        <tr>\n",
       "            <td>Matthew Dellavedova    </td> <td>Cleveland Cavaliers   </td> <td>1.14728 </td>\n",
       "        </tr>\n",
       "        <tr>\n",
       "            <td>Joe Young              </td> <td>Indiana Pacers        </td> <td>1.00703 </td>\n",
       "        </tr>\n",
       "        <tr>\n",
       "            <td>Pablo Prigioni         </td> <td>Los Angeles Clippers  </td> <td>0.947726</td>\n",
       "        </tr>\n",
       "        <tr>\n",
       "            <td>Jorge Gutierrez        </td> <td>Charlotte Hornets     </td> <td>0.947276</td>\n",
       "        </tr>\n",
       "        <tr>\n",
       "            <td>Ray McCallum           </td> <td>San Antonio Spurs     </td> <td>0.947276</td>\n",
       "        </tr>\n",
       "        <tr>\n",
       "            <td>Raul Neto              </td> <td>Utah Jazz             </td> <td>0.9     </td>\n",
       "        </tr>\n",
       "        <tr>\n",
       "            <td>Jimmer Fredette        </td> <td>New York Knicks       </td> <td>0.874837</td>\n",
       "        </tr>\n",
       "        <tr>\n",
       "            <td>Russ Smith             </td> <td>Memphis Grizzlies     </td> <td>0.845059</td>\n",
       "        </tr>\n",
       "        <tr>\n",
       "            <td>Bryce Cotton           </td> <td>Phoenix Suns          </td> <td>0.700902</td>\n",
       "        </tr>\n",
       "        <tr>\n",
       "            <td>Corey Hawkins          </td> <td>Miami Heat            </td> <td>0.525093</td>\n",
       "        </tr>\n",
       "        <tr>\n",
       "            <td>Bo McCalebb            </td> <td>New Orleans Pelicans  </td> <td>0.525093</td>\n",
       "        </tr>\n",
       "        <tr>\n",
       "            <td>Shannon Scott          </td> <td>Toronto Raptors       </td> <td>0.525093</td>\n",
       "        </tr>\n",
       "        <tr>\n",
       "            <td>Lorenzo Brown          </td> <td>Phoenix Suns          </td> <td>0.111444</td>\n",
       "        </tr>\n",
       "        <tr>\n",
       "            <td>Erick Green            </td> <td>Utah Jazz             </td> <td>0.099418</td>\n",
       "        </tr>\n",
       "        <tr>\n",
       "            <td>Keith Appling          </td> <td>Orlando Magic         </td> <td>0.061776</td>\n",
       "        </tr>\n",
       "        <tr>\n",
       "            <td>Phil Pressey           </td> <td>Phoenix Suns          </td> <td>0.055722</td>\n",
       "        </tr>\n",
       "    </tbody>\n",
       "</table>"
      ],
      "text/plain": [
       "<IPython.core.display.HTML object>"
      ]
     },
     "metadata": {},
     "output_type": "display_data"
    }
   ],
   "source": [
    "point_guards.sort('SALARY', descending=True).show()"
   ]
  },
  {
   "cell_type": "code",
   "execution_count": 55,
   "metadata": {},
   "outputs": [
    {
     "data": {
      "text/html": [
       "<table border=\"1\" class=\"dataframe\">\n",
       "    <thead>\n",
       "        <tr>\n",
       "            <th>PLAYER</th> <th>TEAM</th> <th>SALARY</th>\n",
       "        </tr>\n",
       "    </thead>\n",
       "    <tbody>\n",
       "        <tr>\n",
       "            <td>Chris Paul       </td> <td>Los Angeles Clippers  </td> <td>21.4687</td>\n",
       "        </tr>\n",
       "        <tr>\n",
       "            <td>Derrick Rose     </td> <td>Chicago Bulls         </td> <td>20.0931</td>\n",
       "        </tr>\n",
       "        <tr>\n",
       "            <td>Russell Westbrook</td> <td>Oklahoma City Thunder </td> <td>16.7442</td>\n",
       "        </tr>\n",
       "        <tr>\n",
       "            <td>Kyrie Irving     </td> <td>Cleveland Cavaliers   </td> <td>16.4075</td>\n",
       "        </tr>\n",
       "        <tr>\n",
       "            <td>John Wall        </td> <td>Washington Wizards    </td> <td>15.852 </td>\n",
       "        </tr>\n",
       "        <tr>\n",
       "            <td>Goran Dragic     </td> <td>Miami Heat            </td> <td>14.783 </td>\n",
       "        </tr>\n",
       "        <tr>\n",
       "            <td>Reggie Jackson   </td> <td>Detroit Pistons       </td> <td>13.913 </td>\n",
       "        </tr>\n",
       "        <tr>\n",
       "            <td>Eric Bledsoe     </td> <td>Phoenix Suns          </td> <td>13.5   </td>\n",
       "        </tr>\n",
       "        <tr>\n",
       "            <td>Tony Parker      </td> <td>San Antonio Spurs     </td> <td>13.4375</td>\n",
       "        </tr>\n",
       "        <tr>\n",
       "            <td>Ricky Rubio      </td> <td>Minnesota Timberwolves</td> <td>12.7   </td>\n",
       "        </tr>\n",
       "        <tr>\n",
       "            <td>Ty Lawson        </td> <td>Houston Rockets       </td> <td>12.4045</td>\n",
       "        </tr>\n",
       "        <tr>\n",
       "            <td>Kemba Walker     </td> <td>Charlotte Hornets     </td> <td>12     </td>\n",
       "        </tr>\n",
       "        <tr>\n",
       "            <td>Kyle Lowry       </td> <td>Toronto Raptors       </td> <td>12     </td>\n",
       "        </tr>\n",
       "        <tr>\n",
       "            <td>Stephen Curry    </td> <td>Golden State Warriors </td> <td>11.3708</td>\n",
       "        </tr>\n",
       "        <tr>\n",
       "            <td>Jrue Holiday     </td> <td>New Orleans Pelicans  </td> <td>10.5955</td>\n",
       "        </tr>\n",
       "    </tbody>\n",
       "</table>\n",
       "<p>... (70 rows omitted)</p>"
      ],
      "text/plain": [
       "<IPython.core.display.HTML object>"
      ]
     },
     "metadata": {},
     "output_type": "display_data"
    }
   ],
   "source": [
    "point_guards.sort('SALARY', descending=True).show(15)"
   ]
  },
  {
   "cell_type": "code",
   "execution_count": 56,
   "metadata": {
    "tags": [
     "raises-exception"
    ]
   },
   "outputs": [
    {
     "ename": "ValueError",
     "evalue": "label \"POSITION\" not in labels ('PLAYER', 'TEAM', 'SALARY')",
     "output_type": "error",
     "traceback": [
      "\u001b[0;31m---------------------------------------------------------------------------\u001b[0m",
      "\u001b[0;31mValueError\u001b[0m                                Traceback (most recent call last)",
      "\u001b[0;32m/var/folders/yc/0kr_ncpj3nl6q706l20f2kwr0000gn/T/ipykernel_76397/1861994525.py\u001b[0m in \u001b[0;36m<module>\u001b[0;34m\u001b[0m\n\u001b[0;32m----> 1\u001b[0;31m \u001b[0mnba\u001b[0m\u001b[0;34m.\u001b[0m\u001b[0mdrop\u001b[0m\u001b[0;34m(\u001b[0m\u001b[0;34m'POSITION'\u001b[0m\u001b[0;34m)\u001b[0m\u001b[0;34m.\u001b[0m\u001b[0mwhere\u001b[0m\u001b[0;34m(\u001b[0m\u001b[0;34m'POSITION'\u001b[0m\u001b[0;34m,\u001b[0m \u001b[0;34m'PG'\u001b[0m\u001b[0;34m)\u001b[0m\u001b[0;34m\u001b[0m\u001b[0;34m\u001b[0m\u001b[0m\n\u001b[0m",
      "\u001b[0;32m/opt/anaconda3/lib/python3.9/site-packages/datascience/tables.py\u001b[0m in \u001b[0;36mwhere\u001b[0;34m(self, column_or_label, value_or_predicate, other)\u001b[0m\n\u001b[1;32m   1422\u001b[0m         \u001b[0mColor\u001b[0m \u001b[0;34m|\u001b[0m \u001b[0mShape\u001b[0m \u001b[0;34m|\u001b[0m \u001b[0mAmount\u001b[0m \u001b[0;34m|\u001b[0m \u001b[0mPrice\u001b[0m\u001b[0;34m\u001b[0m\u001b[0;34m\u001b[0m\u001b[0m\n\u001b[1;32m   1423\u001b[0m         \"\"\"\n\u001b[0;32m-> 1424\u001b[0;31m         \u001b[0mcolumn\u001b[0m \u001b[0;34m=\u001b[0m \u001b[0mself\u001b[0m\u001b[0;34m.\u001b[0m\u001b[0m_get_column\u001b[0m\u001b[0;34m(\u001b[0m\u001b[0mcolumn_or_label\u001b[0m\u001b[0;34m)\u001b[0m\u001b[0;34m\u001b[0m\u001b[0;34m\u001b[0m\u001b[0m\n\u001b[0m\u001b[1;32m   1425\u001b[0m         \u001b[0;32mif\u001b[0m \u001b[0mother\u001b[0m \u001b[0;32mis\u001b[0m \u001b[0;32mnot\u001b[0m \u001b[0;32mNone\u001b[0m\u001b[0;34m:\u001b[0m\u001b[0;34m\u001b[0m\u001b[0;34m\u001b[0m\u001b[0m\n\u001b[1;32m   1426\u001b[0m             \u001b[0;32massert\u001b[0m \u001b[0mcallable\u001b[0m\u001b[0;34m(\u001b[0m\u001b[0mvalue_or_predicate\u001b[0m\u001b[0;34m)\u001b[0m\u001b[0;34m,\u001b[0m \u001b[0;34m\"Predicate required for 3-arg where\"\u001b[0m\u001b[0;34m\u001b[0m\u001b[0;34m\u001b[0m\u001b[0m\n",
      "\u001b[0;32m/opt/anaconda3/lib/python3.9/site-packages/datascience/tables.py\u001b[0m in \u001b[0;36m_get_column\u001b[0;34m(self, column_or_label)\u001b[0m\n\u001b[1;32m   2227\u001b[0m             \u001b[0;32mreturn\u001b[0m \u001b[0mself\u001b[0m\u001b[0;34m[\u001b[0m\u001b[0mc\u001b[0m\u001b[0;34m]\u001b[0m\u001b[0;34m\u001b[0m\u001b[0;34m\u001b[0m\u001b[0m\n\u001b[1;32m   2228\u001b[0m         \u001b[0;32melif\u001b[0m \u001b[0misinstance\u001b[0m\u001b[0;34m(\u001b[0m\u001b[0mc\u001b[0m\u001b[0;34m,\u001b[0m \u001b[0mstr\u001b[0m\u001b[0;34m)\u001b[0m\u001b[0;34m:\u001b[0m\u001b[0;34m\u001b[0m\u001b[0;34m\u001b[0m\u001b[0m\n\u001b[0;32m-> 2229\u001b[0;31m             \u001b[0;32mraise\u001b[0m \u001b[0mValueError\u001b[0m\u001b[0;34m(\u001b[0m\u001b[0;34m'label \"{}\" not in labels {}'\u001b[0m\u001b[0;34m.\u001b[0m\u001b[0mformat\u001b[0m\u001b[0;34m(\u001b[0m\u001b[0mc\u001b[0m\u001b[0;34m,\u001b[0m \u001b[0mself\u001b[0m\u001b[0;34m.\u001b[0m\u001b[0mlabels\u001b[0m\u001b[0;34m)\u001b[0m\u001b[0;34m)\u001b[0m\u001b[0;34m\u001b[0m\u001b[0;34m\u001b[0m\u001b[0m\n\u001b[0m\u001b[1;32m   2230\u001b[0m         \u001b[0;32melse\u001b[0m\u001b[0;34m:\u001b[0m\u001b[0;34m\u001b[0m\u001b[0;34m\u001b[0m\u001b[0m\n\u001b[1;32m   2231\u001b[0m             \u001b[0;32massert\u001b[0m \u001b[0mlen\u001b[0m\u001b[0;34m(\u001b[0m\u001b[0mc\u001b[0m\u001b[0;34m)\u001b[0m \u001b[0;34m==\u001b[0m \u001b[0mself\u001b[0m\u001b[0;34m.\u001b[0m\u001b[0mnum_rows\u001b[0m\u001b[0;34m,\u001b[0m \u001b[0;34m'column length mismatch'\u001b[0m\u001b[0;34m\u001b[0m\u001b[0;34m\u001b[0m\u001b[0m\n",
      "\u001b[0;31mValueError\u001b[0m: label \"POSITION\" not in labels ('PLAYER', 'TEAM', 'SALARY')"
     ]
    }
   ],
   "source": [
    "nba.drop('POSITION').where('POSITION', 'PG')"
   ]
  }
 ],
 "metadata": {
  "anaconda-cloud": {},
  "kernelspec": {
   "display_name": "Python 3 (ipykernel)",
   "language": "python",
   "name": "python3"
  },
  "language_info": {
   "codemirror_mode": {
    "name": "ipython",
    "version": 3
   },
   "file_extension": ".py",
   "mimetype": "text/x-python",
   "name": "python",
   "nbconvert_exporter": "python",
   "pygments_lexer": "ipython3",
   "version": "3.9.7"
  }
 },
 "nbformat": 4,
 "nbformat_minor": 1
}
