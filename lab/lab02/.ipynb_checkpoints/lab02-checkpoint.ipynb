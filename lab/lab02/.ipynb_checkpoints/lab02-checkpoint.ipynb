{
 "cells": [
  {
   "cell_type": "code",
   "execution_count": 1,
   "id": "4c33fc92",
   "metadata": {
    "deletable": false,
    "editable": false
   },
   "outputs": [],
   "source": [
    "# Initialize Otter\n",
    "import otter\n",
    "grader = otter.Notebook(\"lab02.ipynb\")"
   ]
  },
  {
   "cell_type": "markdown",
   "id": "3e2b9f22",
   "metadata": {},
   "source": [
    "# Lab 2: Table operations\n",
    "\n",
    "Welcome to Lab 2!  This week, we'll learn how to import a module and practice table operations! The [Python Reference](http://data8.org/fa21/python-reference.html) has information that will be useful for this lab.\n",
    "\n",
    "Recommended Reading:\n",
    " * [Introduction to tables](https://www.inferentialthinking.com/chapters/03/4/Introduction_to_Tables)\n",
    "\n",
    "**Lab Queue**: You can find the Lab Queue at [lab.data8.org](https://lab.data8.org/). Whenever you feel stuck or need some further clarification, add yourself to the queue to get help from a GSI or academic intern! If you are in an online lab, please list your name, breakout room number, and purpose on your ticket!\n",
    "\n",
    "**Deadline**: If you are not attending lab, you have to complete this lab and submit by Wednesday, 9/1 before 8:59 A.M. PT in order to receive lab credit. Otherwise, please attend the lab you are enrolled in, get checked off with your GSI or academic intern **AND** submit this assignment by the end of the lab section (with whatever progress you've made) to receive lab credit.\n",
    "\n",
    "**Submission**: Once you're finished, select \"Save and Checkpoint\" in the File menu and then execute the final cell below. The result will contain a zip file that you can use to submit on Gradescope. \n",
    "\n",
    "Let's begin by setting up the tests and imports by running the cell below."
   ]
  },
  {
   "cell_type": "code",
   "execution_count": 2,
   "id": "7a1c651a",
   "metadata": {
    "execution": {
     "iopub.execute_input": "2021-08-28T00:52:01.432344Z",
     "iopub.status.busy": "2021-08-28T00:52:01.431765Z",
     "iopub.status.idle": "2021-08-28T00:52:02.908517Z",
     "shell.execute_reply": "2021-08-28T00:52:02.909007Z"
    }
   },
   "outputs": [],
   "source": [
    "# Don't change this cell; just run it. \n",
    "\n",
    "import numpy as np\n",
    "from datascience import *"
   ]
  },
  {
   "cell_type": "markdown",
   "id": "359d7a09",
   "metadata": {},
   "source": [
    "# 1. Review: The building blocks of Python code\n",
    "\n",
    "The two building blocks of Python code are *expressions* and *statements*.  An **expression** is a piece of code that\n",
    "\n",
    "* is self-contained, meaning it would make sense to write it on a line by itself, and\n",
    "* usually evaluates to a value.\n",
    "\n",
    "\n",
    "Here are two expressions that both evaluate to 3:\n",
    "\n",
    "    3\n",
    "    5 - 2\n",
    "    \n",
    "One important type of expression is the **call expression**. A call expression begins with the name of a function and is followed by the argument(s) of that function in parentheses. The function returns some value, based on its arguments. Some important mathematical functions are listed below.\n",
    "\n",
    "| Function | Description                                                   |\n",
    "|----------|---------------------------------------------------------------|\n",
    "| `abs`      | Returns the absolute value of its argument                    |\n",
    "| `max`      | Returns the maximum of all its arguments                      |\n",
    "| `min`      | Returns the minimum of all its arguments                      |\n",
    "| `pow`      | Raises its first argument to the power of its second argument |\n",
    "| `round`    | Rounds its argument to the nearest integer                     |\n",
    "\n",
    "Here are two call expressions that both evaluate to 3:\n",
    "\n",
    "    abs(2 - 5)\n",
    "    max(round(2.8), min(pow(2, 10), -1 * pow(2, 10)))\n",
    "\n",
    "The expression `2 - 5` and the two call expressions given above are examples of **compound expressions**, meaning that they are actually combinations of several smaller expressions.  `2 - 5` combines the expressions `2` and `5` by subtraction.  In this case, `2` and `5` are called **subexpressions** because they're expressions that are part of a larger expression.\n",
    "\n",
    "A **statement** is a whole line of code.  Some statements are just expressions.  The expressions listed above are examples.\n",
    "\n",
    "Other statements *make something happen* rather than *having a value*. For example, an **assignment statement** assigns a value to a name. \n",
    "\n",
    "A good way to think about this is that we're **evaluating the right-hand side** of the equals sign and **assigning it to the left-hand side**. Here are some assignment statements:\n",
    "    \n",
    "    height = 1.3\n",
    "    the_number_five = abs(-5)\n",
    "    absolute_height_difference = abs(height - 1.688)\n",
    "\n",
    "An important idea in programming is that large, interesting things can be built by combining many simple, uninteresting things.  The key to understanding a complicated piece of code is breaking it down into its simple components.\n",
    "\n",
    "For example, a lot is going on in the last statement above, but it's really just a combination of a few things.  This picture describes what's going on.\n",
    "\n",
    "<img src=\"statement.png\">"
   ]
  },
  {
   "cell_type": "markdown",
   "id": "0640b786",
   "metadata": {
    "deletable": false,
    "editable": false
   },
   "source": [
    "**Question 1.1.** In the next cell, assign the name `new_year` to the larger number among the following two numbers:\n",
    "\n",
    "* the **absolute value** of $2^{5}-2^{11}-2^1 + 1$, and \n",
    "* $5 \\times 13 \\times 31 + 6$.\n",
    "\n",
    "Try to use just one statement (one line of code). Be sure to check your work by executing the test cell afterward.\n",
    "\n",
    "<!--\n",
    "BEGIN QUESTION\n",
    "name: q11\n",
    "-->"
   ]
  },
  {
   "cell_type": "code",
   "execution_count": 3,
   "id": "e31a9f8f",
   "metadata": {
    "deletable": false,
    "execution": {
     "iopub.execute_input": "2021-08-28T00:52:02.921137Z",
     "iopub.status.busy": "2021-08-28T00:52:02.920387Z",
     "iopub.status.idle": "2021-08-28T00:52:02.923962Z",
     "shell.execute_reply": "2021-08-28T00:52:02.923395Z"
    }
   },
   "outputs": [
    {
     "data": {
      "text/plain": [
       "2021"
      ]
     },
     "execution_count": 3,
     "metadata": {},
     "output_type": "execute_result"
    }
   ],
   "source": [
    "new_year = max(abs(2**5 - 2**11 - 2*1 + 1), 5*13*31 + 6)\n",
    "new_year"
   ]
  },
  {
   "cell_type": "code",
   "execution_count": 4,
   "id": "40732911",
   "metadata": {
    "deletable": false,
    "editable": false
   },
   "outputs": [
    {
     "data": {
      "text/html": [
       "<p><strong><pre style='display: inline;'>q11</pre></strong> passed!</p>"
      ],
      "text/plain": [
       "q11 results: All test cases passed!"
      ]
     },
     "execution_count": 4,
     "metadata": {},
     "output_type": "execute_result"
    }
   ],
   "source": [
    "grader.check(\"q11\")"
   ]
  },
  {
   "cell_type": "markdown",
   "id": "198661cd",
   "metadata": {},
   "source": [
    "We've asked you to use one line of code in the question above because it only involves mathematical operations. However, more complicated programming questions will more require more steps. It isn’t always a good idea to jam these steps into a single line because it can make the code harder to read and harder to debug.\n",
    "\n",
    "Good programming practice involves splitting up your code into smaller steps and using appropriate names. You'll have plenty of practice in the rest of this course!"
   ]
  },
  {
   "cell_type": "markdown",
   "id": "75672623",
   "metadata": {},
   "source": [
    "# 2. Importing code\n",
    "\n",
    "Most programming involves work that is very similar to work that has been done before.  Since writing code is time-consuming, it's good to rely on others' published code when you can.  Rather than copy-pasting, Python allows us to **import modules**. A module is a file with Python code that has defined variables and functions. By importing a module, we are able to use its code in our own notebook.\n",
    "\n",
    "Python includes many useful modules that are just an `import` away.  We'll look at the `math` module as a first example. The `math` module is extremely useful in computing mathematical expressions in Python. \n",
    "\n",
    "Suppose we want to very accurately compute the area of a circle with a radius of 5 meters.  For that, we need the constant $\\pi$, which is roughly 3.14.  Conveniently, the `math` module has `pi` defined for us:"
   ]
  },
  {
   "cell_type": "code",
   "execution_count": 4,
   "id": "d985f0f6",
   "metadata": {
    "execution": {
     "iopub.execute_input": "2021-08-28T00:52:02.936818Z",
     "iopub.status.busy": "2021-08-28T00:52:02.936287Z",
     "iopub.status.idle": "2021-08-28T00:52:02.940330Z",
     "shell.execute_reply": "2021-08-28T00:52:02.939888Z"
    }
   },
   "outputs": [],
   "source": [
    "import math\n",
    "radius = 5\n",
    "area_of_circle = radius**2 * math.pi\n",
    "area_of_circle"
   ]
  },
  {
   "cell_type": "markdown",
   "id": "941c8e15",
   "metadata": {},
   "source": [
    "In the code above, the line `import math` imports the math module. This statement creates a module and then assigns the name `math` to that module. We are now able to access any variables or functions defined within `math` by typing the name of the module followed by a dot, then followed by the name of the variable or function we want.\n",
    "\n",
    "    <module name>.<name>"
   ]
  },
  {
   "cell_type": "markdown",
   "id": "2fdb0d67",
   "metadata": {
    "deletable": false,
    "editable": false
   },
   "source": [
    "**Question 2.1.** The module `math` also provides the name `e` for the base of the natural logarithm, which is roughly 2.71. Compute $e^{\\pi}-\\pi$, giving it the name `near_twenty`.\n",
    "\n",
    "*Remember: You can access `pi` from the `math` module as well!*\n",
    "\n",
    "<!--\n",
    "BEGIN QUESTION\n",
    "name: q21\n",
    "-->"
   ]
  },
  {
   "cell_type": "code",
   "execution_count": 5,
   "id": "c1bd3e63",
   "metadata": {
    "deletable": false,
    "execution": {
     "iopub.execute_input": "2021-08-28T00:52:02.945186Z",
     "iopub.status.busy": "2021-08-28T00:52:02.944610Z",
     "iopub.status.idle": "2021-08-28T00:52:02.948762Z",
     "shell.execute_reply": "2021-08-28T00:52:02.948225Z"
    }
   },
   "outputs": [],
   "source": [
    "near_twenty = ...\n",
    "near_twenty"
   ]
  },
  {
   "cell_type": "code",
   "execution_count": null,
   "id": "3553c578",
   "metadata": {
    "deletable": false,
    "editable": false
   },
   "outputs": [],
   "source": [
    "grader.check(\"q21\")"
   ]
  },
  {
   "cell_type": "markdown",
   "id": "069e3698",
   "metadata": {},
   "source": [
    "![XKCD](http://imgs.xkcd.com/comics/e_to_the_pi_minus_pi.png)\n",
    "\n",
    "[Source](http://imgs.xkcd.com/comics/e_to_the_pi_minus_pi.png)\n",
    "[Explanation](https://www.explainxkcd.com/wiki/index.php/217:_e_to_the_pi_Minus_pi)"
   ]
  },
  {
   "cell_type": "markdown",
   "id": "8bd3b7f1",
   "metadata": {
    "deletable": false,
    "editable": false
   },
   "source": [
    "## 2.1. Accessing functions\n",
    "\n",
    "In the question above, you accessed variables within the `math` module. \n",
    "\n",
    "**Modules** also define **functions**.  For example, `math` provides the name `floor` for the floor function.  Having imported `math` already, we can write `math.floor(7.5)` to compute the floor of 7.5.  (Note that the floor function returns the largest integer less than or equal to a given number.)\n",
    "\n",
    "**Question 2.1.1.** Compute the floor of pi using `floor` and `pi` from the `math` module.  Give the result the name `floor_of_pi`.\n",
    "\n",
    "<!--\n",
    "BEGIN QUESTION\n",
    "name: q211\n",
    "-->"
   ]
  },
  {
   "cell_type": "code",
   "execution_count": 7,
   "id": "5fbfe1cd",
   "metadata": {
    "deletable": false,
    "execution": {
     "iopub.execute_input": "2021-08-28T00:52:02.961576Z",
     "iopub.status.busy": "2021-08-28T00:52:02.961055Z",
     "iopub.status.idle": "2021-08-28T00:52:02.965206Z",
     "shell.execute_reply": "2021-08-28T00:52:02.964668Z"
    }
   },
   "outputs": [],
   "source": [
    "floor_of_pi = ...\n",
    "floor_of_pi"
   ]
  },
  {
   "cell_type": "code",
   "execution_count": null,
   "id": "82d680e4",
   "metadata": {
    "deletable": false,
    "editable": false
   },
   "outputs": [],
   "source": [
    "grader.check(\"q211\")"
   ]
  },
  {
   "cell_type": "markdown",
   "id": "dd20f42c",
   "metadata": {},
   "source": [
    "For your reference, below are some more examples of functions from the `math` module.\n",
    "\n",
    "Notice how different functions take in different numbers of arguments. Often, the [documentation](https://docs.python.org/3/library/math.html) of the module will provide information on how many arguments are required for each function.\n",
    "\n",
    "*Hint: If you press `shift+tab` while next to the function call, the documentation for that function will appear*"
   ]
  },
  {
   "cell_type": "code",
   "execution_count": 9,
   "id": "028c7cae",
   "metadata": {
    "execution": {
     "iopub.execute_input": "2021-08-28T00:52:02.977348Z",
     "iopub.status.busy": "2021-08-28T00:52:02.976729Z",
     "iopub.status.idle": "2021-08-28T00:52:02.980223Z",
     "shell.execute_reply": "2021-08-28T00:52:02.979727Z"
    }
   },
   "outputs": [],
   "source": [
    "# Calculating logarithms (the logarithm of 8 in base 2).\n",
    "# The result is 3 because 2 to the power of 3 is 8.\n",
    "math.log(8, 2)"
   ]
  },
  {
   "cell_type": "code",
   "execution_count": 10,
   "id": "ad944215",
   "metadata": {
    "execution": {
     "iopub.execute_input": "2021-08-28T00:52:02.984642Z",
     "iopub.status.busy": "2021-08-28T00:52:02.984058Z",
     "iopub.status.idle": "2021-08-28T00:52:02.987753Z",
     "shell.execute_reply": "2021-08-28T00:52:02.987288Z"
    }
   },
   "outputs": [],
   "source": [
    "# Calculating square roots.\n",
    "math.sqrt(5)"
   ]
  },
  {
   "cell_type": "markdown",
   "id": "437d5ffb",
   "metadata": {},
   "source": [
    "There are various ways to import and access code from outside sources. The method we used above — `import <module_name>` — imports the entire module and requires that we use `<module_name>.<name>` to access its code. \n",
    "\n",
    "We can also import a specific constant or function instead of the entire module. Notice that you don't have to use the module name beforehand to reference that particular value. However, you do have to be careful about reassigning the names of the constants or functions to other values!"
   ]
  },
  {
   "cell_type": "code",
   "execution_count": 11,
   "id": "2bfc06f4",
   "metadata": {
    "execution": {
     "iopub.execute_input": "2021-08-28T00:52:02.992671Z",
     "iopub.status.busy": "2021-08-28T00:52:02.992139Z",
     "iopub.status.idle": "2021-08-28T00:52:02.996098Z",
     "shell.execute_reply": "2021-08-28T00:52:02.995541Z"
    }
   },
   "outputs": [],
   "source": [
    "# Importing just cos and pi from math.\n",
    "# We don't have to use `math.` in front of cos or pi\n",
    "from math import cos, pi\n",
    "print(cos(pi))\n",
    "\n",
    "# We do have to use it in front of other functions from math, though\n",
    "math.log(pi)"
   ]
  },
  {
   "cell_type": "markdown",
   "id": "0c9cba7d",
   "metadata": {},
   "source": [
    "Or we can import every function and value from the entire module."
   ]
  },
  {
   "cell_type": "code",
   "execution_count": 12,
   "id": "52c56d36",
   "metadata": {
    "execution": {
     "iopub.execute_input": "2021-08-28T00:52:03.001410Z",
     "iopub.status.busy": "2021-08-28T00:52:03.000815Z",
     "iopub.status.idle": "2021-08-28T00:52:03.003988Z",
     "shell.execute_reply": "2021-08-28T00:52:03.004426Z"
    }
   },
   "outputs": [],
   "source": [
    "# Lastly, we can import everything from math using the *\n",
    "# Once again, we don't have to use 'math.' beforehand \n",
    "from math import *\n",
    "log(pi)"
   ]
  },
  {
   "cell_type": "markdown",
   "id": "4b628a75",
   "metadata": {},
   "source": [
    "Don't worry too much about which type of import to use. It's often a coding style choice left up to each programmer. In this course, you'll always import the necessary modules when you run the setup cell (like the first code cell in this lab).\n",
    "\n",
    "Let's move on to practicing some of the table operations you've learned in lecture!"
   ]
  },
  {
   "cell_type": "markdown",
   "id": "c0d749d8",
   "metadata": {},
   "source": [
    "# 3. Table operations\n",
    "\n",
    "The table `farmers_markets.csv` contains data on farmers' markets in the United States  (data associated with [the USDA](https://apps.ams.usda.gov/FarmersMarketsExport/ExcelExport.aspx)).  Each row represents one such market.\n",
    "\n",
    "Run the next cell to load the `farmers_markets` table."
   ]
  },
  {
   "cell_type": "code",
   "execution_count": 13,
   "id": "c0bb029a",
   "metadata": {
    "deletable": false,
    "execution": {
     "iopub.execute_input": "2021-08-28T00:52:03.008724Z",
     "iopub.status.busy": "2021-08-28T00:52:03.008204Z",
     "iopub.status.idle": "2021-08-28T00:52:03.257600Z",
     "shell.execute_reply": "2021-08-28T00:52:03.257128Z"
    }
   },
   "outputs": [],
   "source": [
    "# Just run this cell\n",
    "\n",
    "farmers_markets = Table.read_table('farmers_markets.csv')"
   ]
  },
  {
   "cell_type": "markdown",
   "id": "fa3ac8e8",
   "metadata": {},
   "source": [
    "Let's examine our table to see what data it contains.\n",
    "\n",
    "**Question 3.1.** Use the method `show` to display the first 5 rows of `farmers_markets`. \n",
    "\n",
    "*Note:* The terms \"method\" and \"function\" are technically not the same thing, but for the purposes of this course, we will use them interchangeably.\n",
    "\n",
    "**Hint:** `tbl.show(3)` will show the first 3 rows of the table named `tbl`. Additionally, make sure not to call `.show()` without an argument, as this will crash your kernel!\n"
   ]
  },
  {
   "cell_type": "code",
   "execution_count": 14,
   "id": "5bec91f5",
   "metadata": {
    "deletable": false,
    "execution": {
     "iopub.execute_input": "2021-08-28T00:52:03.264450Z",
     "iopub.status.busy": "2021-08-28T00:52:03.263710Z",
     "iopub.status.idle": "2021-08-28T00:52:03.268043Z",
     "shell.execute_reply": "2021-08-28T00:52:03.267468Z"
    }
   },
   "outputs": [],
   "source": [
    "..."
   ]
  },
  {
   "cell_type": "markdown",
   "id": "3ce6aeb8",
   "metadata": {
    "deletable": false,
    "editable": false
   },
   "source": [
    "Notice that some of the values in this table are missing, as denoted by \"nan.\" This means either that the value is not available (e.g. if we don’t know the market’s street address) or not applicable (e.g. if the market doesn’t have a street address). You'll also notice that the table has a large number of columns in it!\n",
    "\n",
    "### `num_columns`\n",
    "\n",
    "The table property `num_columns` returns the number of columns in a table. (A \"property\" is just a method that doesn't need to be called by adding parentheses.)\n",
    "\n",
    "Example call: `<tbl>.num_columns`\n",
    "\n",
    "**Question 3.2.** Use `num_columns` to find the number of columns in our farmers' markets dataset.\n",
    "\n",
    "Assign the number of columns to `num_farmers_markets_columns`.\n",
    "\n",
    "<!--\n",
    "BEGIN QUESTION\n",
    "name: q32\n",
    "-->"
   ]
  },
  {
   "cell_type": "code",
   "execution_count": 15,
   "id": "76425c1f",
   "metadata": {
    "deletable": false,
    "execution": {
     "iopub.execute_input": "2021-08-28T00:52:03.273138Z",
     "iopub.status.busy": "2021-08-28T00:52:03.272180Z",
     "iopub.status.idle": "2021-08-28T00:52:03.276569Z",
     "shell.execute_reply": "2021-08-28T00:52:03.276141Z"
    }
   },
   "outputs": [],
   "source": [
    "num_farmers_markets_columns = ...\n",
    "print(\"The table has\", num_farmers_markets_columns, \"columns in it!\")"
   ]
  },
  {
   "cell_type": "code",
   "execution_count": null,
   "id": "a4223513",
   "metadata": {
    "deletable": false,
    "editable": false
   },
   "outputs": [],
   "source": [
    "grader.check(\"q32\")"
   ]
  },
  {
   "cell_type": "markdown",
   "id": "a2b11495",
   "metadata": {},
   "source": [
    "### `num_rows`\n",
    "\n",
    "Similarly, the property `num_rows` tells you how many rows are in a table."
   ]
  },
  {
   "cell_type": "code",
   "execution_count": 17,
   "id": "6d423f8f",
   "metadata": {
    "deletable": false,
    "execution": {
     "iopub.execute_input": "2021-08-28T00:52:03.288976Z",
     "iopub.status.busy": "2021-08-28T00:52:03.288307Z",
     "iopub.status.idle": "2021-08-28T00:52:03.291574Z",
     "shell.execute_reply": "2021-08-28T00:52:03.292102Z"
    }
   },
   "outputs": [],
   "source": [
    "# Just run this cell\n",
    "\n",
    "num_farmers_markets_rows = farmers_markets.num_rows\n",
    "print(\"The table has\", num_farmers_markets_rows, \"rows in it!\")"
   ]
  },
  {
   "cell_type": "markdown",
   "id": "83606f71",
   "metadata": {
    "deletable": false,
    "editable": false
   },
   "source": [
    "### `select`\n",
    "\n",
    "Most of the columns are about particular products -- whether the market sells tofu, pet food, etc.  If we're not interested in that information, it just makes the table difficult to read.  This comes up more than you might think, because people who collect and publish data may not know ahead of time what people will want to do with it.\n",
    "\n",
    "In such situations, we can use the table method `select` to choose only the columns that we want in a particular table. It takes any number of arguments. Each should be the name of a column in the table. It returns a new table with only those columns in it. The columns are in the order *in which they were listed as arguments*.\n",
    "\n",
    "For example, the value of `farmers_markets.select(\"MarketName\", \"State\")` is a table with only the name and the state of each farmers' market in `farmers_markets`.\n",
    "\n",
    "\n",
    "\n",
    "**Question 3.3.** Use `select` to create a table with only the name, city, state, latitude (`y`), and longitude (`x`) of each market.  Call that new table `farmers_markets_locations`.\n",
    "\n",
    "*Hint:* Make sure to be exact when using column names with `select`; double-check capitalization!\n",
    "\n",
    "<!--\n",
    "BEGIN QUESTION\n",
    "name: q33\n",
    "-->"
   ]
  },
  {
   "cell_type": "code",
   "execution_count": 18,
   "id": "8550ea32",
   "metadata": {
    "deletable": false,
    "execution": {
     "iopub.execute_input": "2021-08-28T00:52:03.299144Z",
     "iopub.status.busy": "2021-08-28T00:52:03.298480Z",
     "iopub.status.idle": "2021-08-28T00:52:03.306605Z",
     "shell.execute_reply": "2021-08-28T00:52:03.307154Z"
    }
   },
   "outputs": [],
   "source": [
    "farmers_markets_locations = ...\n",
    "farmers_markets_locations"
   ]
  },
  {
   "cell_type": "code",
   "execution_count": null,
   "id": "0ae42cda",
   "metadata": {
    "deletable": false,
    "editable": false
   },
   "outputs": [],
   "source": [
    "grader.check(\"q33\")"
   ]
  },
  {
   "cell_type": "markdown",
   "id": "3e4a4c8e",
   "metadata": {
    "deletable": false,
    "editable": false
   },
   "source": [
    "### `drop`\n",
    "\n",
    "`drop` serves the same purpose as `select`, but it takes away the columns that you provide rather than the ones that you don't provide. Like `select`, `drop` returns a new table.\n",
    "\n",
    "**Question 3.4.** Suppose you just didn't want the `FMID` and `updateTime` columns in `farmers_markets`.  Create a table that's a copy of `farmers_markets` but doesn't include those columns.  Call that table `farmers_markets_without_fmid`.\n",
    "\n",
    "<!--\n",
    "BEGIN QUESTION\n",
    "name: q34\n",
    "-->"
   ]
  },
  {
   "cell_type": "code",
   "execution_count": 21,
   "id": "8274b4e7",
   "metadata": {
    "deletable": false,
    "execution": {
     "iopub.execute_input": "2021-08-28T00:52:03.334090Z",
     "iopub.status.busy": "2021-08-28T00:52:03.325602Z",
     "iopub.status.idle": "2021-08-28T00:52:03.378849Z",
     "shell.execute_reply": "2021-08-28T00:52:03.379294Z"
    }
   },
   "outputs": [],
   "source": [
    "farmers_markets_without_fmid = ...\n",
    "farmers_markets_without_fmid"
   ]
  },
  {
   "cell_type": "code",
   "execution_count": null,
   "id": "6d637d79",
   "metadata": {
    "deletable": false,
    "editable": false
   },
   "outputs": [],
   "source": [
    "grader.check(\"q34\")"
   ]
  },
  {
   "cell_type": "markdown",
   "id": "267feea9",
   "metadata": {},
   "source": [
    "Now, suppose we want to answer some questions about farmers' markets in the US. For example, which market(s) have the largest longitude (given by the `x` column)? \n",
    "\n",
    "To answer this, we'll sort `farmers_markets_locations` by longitude."
   ]
  },
  {
   "cell_type": "code",
   "execution_count": 24,
   "id": "d33eb106",
   "metadata": {
    "execution": {
     "iopub.execute_input": "2021-08-28T00:52:03.397096Z",
     "iopub.status.busy": "2021-08-28T00:52:03.396543Z",
     "iopub.status.idle": "2021-08-28T00:52:03.408033Z",
     "shell.execute_reply": "2021-08-28T00:52:03.407549Z"
    }
   },
   "outputs": [],
   "source": [
    "farmers_markets_locations.sort('x')"
   ]
  },
  {
   "cell_type": "markdown",
   "id": "87ceee48",
   "metadata": {},
   "source": [
    "Oops, that didn't answer our question because we sorted from smallest to largest longitude. To look at the largest longitudes, we'll have to sort in reverse order."
   ]
  },
  {
   "cell_type": "code",
   "execution_count": 25,
   "id": "cb50580a",
   "metadata": {
    "execution": {
     "iopub.execute_input": "2021-08-28T00:52:03.412214Z",
     "iopub.status.busy": "2021-08-28T00:52:03.411652Z",
     "iopub.status.idle": "2021-08-28T00:52:03.423308Z",
     "shell.execute_reply": "2021-08-28T00:52:03.422738Z"
    }
   },
   "outputs": [],
   "source": [
    "farmers_markets_locations.sort('x', descending=True)"
   ]
  },
  {
   "cell_type": "markdown",
   "id": "4c524c37",
   "metadata": {
    "deletable": false,
    "editable": false
   },
   "source": [
    "(The `descending=True` bit is called an *optional argument*. It has a default value of `False`, so when you explicitly tell the function `descending=True`, then the function will sort in descending order.)\n",
    "\n",
    "### `sort`\n",
    "\n",
    "Some details about sort:\n",
    "\n",
    "1. The first argument to `sort` is the name of a column to sort by.\n",
    "2. If the column has text in it, `sort` will sort alphabetically; if the column has numbers, it will sort numerically - both in ascending order by default.\n",
    "3. The value of `farmers_markets_locations.sort(\"x\")` is a *copy* of `farmers_markets_locations`; the `farmers_markets_locations` table doesn't get modified. For example, if we called `farmers_markets_locations.sort(\"x\")`, then running `farmers_markets_locations` by itself would still return the unsorted table.\n",
    "4. Rows always stick together when a table is sorted.  It wouldn't make sense to sort just one column and leave the other columns alone.  For example, in this case, if we sorted just the `x` column, the farmers' markets would all end up with the wrong longitudes.\n",
    "\n",
    "**Question 3.5.** Create a version of `farmers_markets_locations` that's sorted by **latitude (`y`)**, with the largest latitudes first.  Call it `farmers_markets_locations_by_latitude`.\n",
    "\n",
    "<!--\n",
    "BEGIN QUESTION\n",
    "name: q35\n",
    "-->"
   ]
  },
  {
   "cell_type": "code",
   "execution_count": 26,
   "id": "0efd24ca",
   "metadata": {
    "deletable": false,
    "execution": {
     "iopub.execute_input": "2021-08-28T00:52:03.427464Z",
     "iopub.status.busy": "2021-08-28T00:52:03.426927Z",
     "iopub.status.idle": "2021-08-28T00:52:03.438125Z",
     "shell.execute_reply": "2021-08-28T00:52:03.437610Z"
    },
    "scrolled": true
   },
   "outputs": [],
   "source": [
    "farmers_markets_locations_by_latitude = ...\n",
    "farmers_markets_locations_by_latitude"
   ]
  },
  {
   "cell_type": "code",
   "execution_count": null,
   "id": "27376a28",
   "metadata": {
    "deletable": false,
    "editable": false
   },
   "outputs": [],
   "source": [
    "grader.check(\"q35\")"
   ]
  },
  {
   "cell_type": "markdown",
   "id": "5a632f9c",
   "metadata": {},
   "source": [
    "Now let's say we want a table of all farmers' markets in California. Sorting won't help us much here because California  is closer to the middle of the dataset.\n",
    "\n",
    "Instead, we use the table method `where`."
   ]
  },
  {
   "cell_type": "code",
   "execution_count": 29,
   "id": "8caf4c17",
   "metadata": {
    "deletable": false,
    "execution": {
     "iopub.execute_input": "2021-08-28T00:52:03.467743Z",
     "iopub.status.busy": "2021-08-28T00:52:03.467194Z",
     "iopub.status.idle": "2021-08-28T00:52:03.473011Z",
     "shell.execute_reply": "2021-08-28T00:52:03.473422Z"
    }
   },
   "outputs": [],
   "source": [
    "california_farmers_markets = farmers_markets_locations.where('State', are.equal_to('California'))\n",
    "california_farmers_markets"
   ]
  },
  {
   "cell_type": "markdown",
   "id": "56be0936",
   "metadata": {},
   "source": [
    "Ignore the syntax for the moment.  Instead, try to read that line like this:\n",
    "\n",
    "> Assign the name **`california_farmers_markets`** to a table whose rows are the rows in the **`farmers_markets_locations`** table **`where`** the **`'State'`**s **`are` `equal` `to` `California`**."
   ]
  },
  {
   "cell_type": "markdown",
   "id": "b9dad5fb",
   "metadata": {},
   "source": [
    "### `where`\n",
    "\n",
    "Now let's dive into the details a bit more.  `where` takes 2 arguments:\n",
    "\n",
    "1. The name of a column.  `where` finds rows where that column's values meet some criterion.\n",
    "2. A predicate that describes the criterion that the column needs to meet.\n",
    "\n",
    "The predicate in the example above called the function `are.equal_to` with the value we wanted, 'California'.  We'll see other predicates soon.\n",
    "\n",
    "`where` returns a table that's a copy of the original table, but **with only the rows that meet the given predicate**."
   ]
  },
  {
   "cell_type": "markdown",
   "id": "a2bbb43a",
   "metadata": {
    "deletable": false,
    "editable": false
   },
   "source": [
    "**Question 3.6.** Use `california_farmers_markets` to create a table called `berkeley_markets` containing farmers' markets in Berkeley, California.\n",
    "<!--\n",
    "BEGIN QUESTION\n",
    "name: q36\n",
    "-->"
   ]
  },
  {
   "cell_type": "code",
   "execution_count": 30,
   "id": "9e4981d4",
   "metadata": {
    "deletable": false,
    "execution": {
     "iopub.execute_input": "2021-08-28T00:52:03.480289Z",
     "iopub.status.busy": "2021-08-28T00:52:03.479680Z",
     "iopub.status.idle": "2021-08-28T00:52:03.483357Z",
     "shell.execute_reply": "2021-08-28T00:52:03.482812Z"
    }
   },
   "outputs": [],
   "source": [
    "berkeley_markets = ...\n",
    "berkeley_markets"
   ]
  },
  {
   "cell_type": "code",
   "execution_count": null,
   "id": "bc299490",
   "metadata": {
    "deletable": false,
    "editable": false
   },
   "outputs": [],
   "source": [
    "grader.check(\"q36\")"
   ]
  },
  {
   "cell_type": "markdown",
   "id": "9ee99ac4",
   "metadata": {},
   "source": [
    "So far we've only been using `where` with the predicate that requires finding the values in a column to be *exactly* equal to a certain value. However, there are many other predicates. Here are a few:\n",
    "\n",
    "|Predicate|Example|Result|\n",
    "|-|-|-|\n",
    "|`are.equal_to`|`are.equal_to(50)`|Find rows with values equal to 50|\n",
    "|`are.not_equal_to`|`are.not_equal_to(50)`|Find rows with values not equal to 50|\n",
    "|`are.above`|`are.above(50)`|Find rows with values above (and not equal to) 50|\n",
    "|`are.above_or_equal_to`|`are.above_or_equal_to(50)`|Find rows with values above 50 or equal to 50|\n",
    "|`are.below`|`are.below(50)`|Find rows with values below 50|\n",
    "|`are.between`|`are.between(2, 10)`|Find rows with values above or equal to 2 and below 10|"
   ]
  },
  {
   "cell_type": "markdown",
   "id": "ff391bd4",
   "metadata": {},
   "source": [
    "## 4. Analyzing a dataset\n",
    "\n",
    "Now that you're familiar with table operations, let’s answer an interesting question about a dataset!\n",
    "\n",
    "Run the cell below to load the `imdb` table. It contains information about the 250 highest-rated movies on IMDb."
   ]
  },
  {
   "cell_type": "code",
   "execution_count": 33,
   "id": "62769d9f",
   "metadata": {
    "deletable": false,
    "execution": {
     "iopub.execute_input": "2021-08-28T00:52:03.502052Z",
     "iopub.status.busy": "2021-08-28T00:52:03.501485Z",
     "iopub.status.idle": "2021-08-28T00:52:03.509956Z",
     "shell.execute_reply": "2021-08-28T00:52:03.510368Z"
    },
    "scrolled": true
   },
   "outputs": [],
   "source": [
    "# Just run this cell\n",
    "\n",
    "imdb = Table.read_table('imdb.csv')\n",
    "imdb"
   ]
  },
  {
   "cell_type": "markdown",
   "id": "abd3eb2d",
   "metadata": {},
   "source": [
    "Often, we want to perform multiple operations - sorting, filtering, or others - in order to turn a table we have into something more useful. You can do these operations one by one, e.g.\n",
    "\n",
    "```\n",
    "first_step = original_tbl.where(“col1”, are.equal_to(12))\n",
    "second_step = first_step.sort(‘col2’, descending=True)\n",
    "```\n",
    "\n",
    "However, since the value of the expression `original_tbl.where(“col1”, are.equal_to(12))` is itself a table, you can just call a table method on it:\n",
    "\n",
    "```\n",
    "original_tbl.where(“col1”, are.equal_to(12)).sort(‘col2’, descending=True)\n",
    "```\n",
    "You should organize your work in the way that makes the most sense to you, using informative names for any intermediate tables you create. "
   ]
  },
  {
   "cell_type": "markdown",
   "id": "3ef1a38b",
   "metadata": {
    "deletable": false,
    "editable": false
   },
   "source": [
    "**Question 4.1.** Create a table of movies released between 2010 and 2015 (inclusive) with ratings above 8. The table should only contain the columns `Title` and `Rating`, **in that order**.\n",
    "\n",
    "Assign the table to the name `above_eight`.\n",
    "\n",
    "*Hint:* Think about the steps you need to take, and try to put them in an order that make sense. Feel free to create intermediate tables for each step, but please make sure you assign your final table the name `above_eight`!\n",
    "\n",
    "<!--\n",
    "BEGIN QUESTION\n",
    "name: q41\n",
    "-->"
   ]
  },
  {
   "cell_type": "code",
   "execution_count": 34,
   "id": "4d6d3a28",
   "metadata": {
    "deletable": false,
    "execution": {
     "iopub.execute_input": "2021-08-28T00:52:03.518446Z",
     "iopub.status.busy": "2021-08-28T00:52:03.517916Z",
     "iopub.status.idle": "2021-08-28T00:52:03.521307Z",
     "shell.execute_reply": "2021-08-28T00:52:03.521740Z"
    },
    "scrolled": false
   },
   "outputs": [],
   "source": [
    "above_eight = ...\n",
    "above_eight"
   ]
  },
  {
   "cell_type": "code",
   "execution_count": null,
   "id": "bbee8590",
   "metadata": {
    "deletable": false,
    "editable": false
   },
   "outputs": [],
   "source": [
    "grader.check(\"q41\")"
   ]
  },
  {
   "cell_type": "markdown",
   "id": "fc93fe9f",
   "metadata": {
    "deletable": false,
    "editable": false
   },
   "source": [
    "**Question 4.2.** Use `num_rows` (and arithmetic) to find the *proportion* of movies in the dataset that were released 1900-1999, and the *proportion* of movies in the dataset that were released in the year 2000 or later.\n",
    "\n",
    "Assign `proportion_in_20th_century` to the proportion of movies in the dataset that were released 1900-1999, and `proportion_in_21st_century` to the proportion of movies in the dataset that were released in the year 2000 or later.\n",
    "\n",
    "*Hint:* The *proportion* of movies released in the 1900's is the *number* of movies released in the 1900's, divided by the *total number* of movies.\n",
    "\n",
    "<!--\n",
    "BEGIN QUESTION\n",
    "name: q42\n",
    "-->"
   ]
  },
  {
   "cell_type": "code",
   "execution_count": 38,
   "id": "67c1d944",
   "metadata": {
    "deletable": false,
    "execution": {
     "iopub.execute_input": "2021-08-28T00:52:03.552959Z",
     "iopub.status.busy": "2021-08-28T00:52:03.552095Z",
     "iopub.status.idle": "2021-08-28T00:52:03.557188Z",
     "shell.execute_reply": "2021-08-28T00:52:03.556709Z"
    }
   },
   "outputs": [],
   "source": [
    "num_movies_in_dataset = ...\n",
    "num_in_20th_century = ...\n",
    "num_in_21st_century = ...\n",
    "proportion_in_20th_century = ...\n",
    "proportion_in_21st_century = ...\n",
    "print(\"Proportion in 20th century:\", proportion_in_20th_century)\n",
    "print(\"Proportion in 21st century:\", proportion_in_21st_century)"
   ]
  },
  {
   "cell_type": "code",
   "execution_count": null,
   "id": "aac71229",
   "metadata": {
    "deletable": false,
    "editable": false
   },
   "outputs": [],
   "source": [
    "grader.check(\"q42\")"
   ]
  },
  {
   "cell_type": "markdown",
   "id": "38695af0",
   "metadata": {},
   "source": [
    "## 5. Summary\n",
    "\n",
    "For your reference, here's a table of all the functions and methods we saw in this lab. We'll learn more methods to add to this table in the coming week!\n",
    "\n",
    "|Name|Example|Purpose|\n",
    "|-|-|-|\n",
    "|`sort`|`tbl.sort(\"N\")`|Create a copy of a table sorted by the values in a column|\n",
    "|`where`|`tbl.where(\"N\", are.above(2))`|Create a copy of a table with only the rows that match some *predicate*|\n",
    "|`num_rows`|`tbl.num_rows`|Compute the number of rows in a table|\n",
    "|`num_columns`|`tbl.num_columns`|Compute the number of columns in a table|\n",
    "|`select`|`tbl.select(\"N\")`|Create a copy of a table with only some of the columns|\n",
    "|`drop`|`tbl.drop(\"N\")`|Create a copy of a table without some of the columns|"
   ]
  },
  {
   "cell_type": "markdown",
   "id": "5a6ef76e",
   "metadata": {},
   "source": [
    "---\n",
    "\n",
    "You're done with Lab 2! To double-check your work, the cell below will rerun all of the autograder tests."
   ]
  },
  {
   "cell_type": "markdown",
   "id": "afdb8c7b",
   "metadata": {},
   "source": [
    "**Important submission information:** Be sure to run all the tests and verify that they all pass, then choose **Save and Checkpoint** from the **File** menu, then **run the final cell** and click the link to download the zip file. Then, go to [Gradescope](https://www.gradescope.com/courses/288788) and submit the zip file to the corresponding assignment. The name of this assignment is \"Lab 02 Autograder\". **It is your responsibility to make sure your work is saved before running the last cell.**\n",
    "\n",
    "Don't forget to **ask a staff member to check you off**."
   ]
  },
  {
   "cell_type": "markdown",
   "id": "42007578",
   "metadata": {
    "deletable": false,
    "editable": false
   },
   "source": [
    "---\n",
    "\n",
    "To double-check your work, the cell below will rerun all of the autograder tests."
   ]
  },
  {
   "cell_type": "code",
   "execution_count": null,
   "id": "121f6eb1",
   "metadata": {
    "deletable": false,
    "editable": false
   },
   "outputs": [],
   "source": [
    "grader.check_all()"
   ]
  },
  {
   "cell_type": "markdown",
   "id": "1bb93cb9",
   "metadata": {
    "deletable": false,
    "editable": false
   },
   "source": [
    "## Submission\n",
    "\n",
    "Make sure you have run all cells in your notebook in order before running the cell below, so that all images/graphs appear in the output. The cell below will generate a zip file for you to submit. **Please save before exporting!**"
   ]
  },
  {
   "cell_type": "code",
   "execution_count": null,
   "id": "96934321",
   "metadata": {
    "deletable": false,
    "editable": false
   },
   "outputs": [],
   "source": [
    "# Save your notebook first, then run this cell to export your submission.\n",
    "grader.export(pdf=False)"
   ]
  },
  {
   "cell_type": "markdown",
   "id": "1da49086",
   "metadata": {},
   "source": [
    " "
   ]
  }
 ],
 "metadata": {
  "kernelspec": {
   "display_name": "Python 3 (ipykernel)",
   "language": "python",
   "name": "python3"
  },
  "language_info": {
   "codemirror_mode": {
    "name": "ipython",
    "version": 3
   },
   "file_extension": ".py",
   "mimetype": "text/x-python",
   "name": "python",
   "nbconvert_exporter": "python",
   "pygments_lexer": "ipython3",
   "version": "3.9.7"
  }
 },
 "nbformat": 4,
 "nbformat_minor": 5
}
